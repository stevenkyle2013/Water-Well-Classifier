{
 "cells": [
  {
   "cell_type": "markdown",
   "metadata": {},
   "source": [
    "# Waterwell Project"
   ]
  },
  {
   "cell_type": "markdown",
   "metadata": {},
   "source": [
    "Purpose: The purpose of this project is to..."
   ]
  },
  {
   "cell_type": "markdown",
   "metadata": {},
   "source": [
    "# Packages and Functions"
   ]
  },
  {
   "cell_type": "code",
   "execution_count": 1,
   "metadata": {
    "ExecuteTime": {
     "end_time": "2021-01-02T00:45:57.749733Z",
     "start_time": "2021-01-02T00:45:52.881262Z"
    }
   },
   "outputs": [
    {
     "name": "stderr",
     "output_type": "stream",
     "text": [
      "/Users/stevenkyle/opt/anaconda3/envs/learn-env/lib/python3.6/site-packages/statsmodels/tools/_testing.py:19: FutureWarning: pandas.util.testing is deprecated. Use the functions in the public API at pandas.testing instead.\n",
      "  import pandas.util.testing as tm\n",
      "/Users/stevenkyle/opt/anaconda3/envs/learn-env/lib/python3.6/site-packages/sklearn/utils/deprecation.py:143: FutureWarning: The sklearn.neighbors.base module is  deprecated in version 0.22 and will be removed in version 0.24. The corresponding classes / functions should instead be imported from sklearn.neighbors. Anything that cannot be imported from sklearn.neighbors is now part of the private API.\n",
      "  warnings.warn(message, FutureWarning)\n"
     ]
    }
   ],
   "source": [
    "import pandas as pd\n",
    "import missingno as msno\n",
    "import matplotlib.pyplot as plt\n",
    "import numpy as np\n",
    "from sklearn.impute import KNNImputer\n",
    "from sklearn.model_selection import train_test_split\n",
    "from sklearn.dummy import DummyClassifier\n",
    "from sklearn.metrics import plot_confusion_matrix\n",
    "from sklearn.metrics import precision_score, recall_score, accuracy_score, f1_score\n",
    "from sklearn.linear_model import LogisticRegression\n",
    "from sklearn.preprocessing import MinMaxScaler\n",
    "from sklearn.preprocessing import StandardScaler\n",
    "from sklearn.neighbors import KNeighborsClassifier\n",
    "from sklearn.tree import DecisionTreeClassifier \n",
    "\n",
    "\n",
    "## Fix to six error\n",
    "import six\n",
    "import sys\n",
    "sys.modules['sklearn.externals.six'] = six\n",
    "from imblearn.over_sampling import SMOTE, ADASYN\n",
    "\n",
    "pd.set_option(\"display.max_columns\", 50)\n",
    "pd.set_option(\"display.max_rows\", 500)"
   ]
  },
  {
   "cell_type": "code",
   "execution_count": 2,
   "metadata": {
    "ExecuteTime": {
     "end_time": "2021-01-02T00:45:57.799958Z",
     "start_time": "2021-01-02T00:45:57.782663Z"
    }
   },
   "outputs": [],
   "source": [
    "def eval_model(model, X_train, y_train, X_test, y_test):\n",
    "    \n",
    "    y_hat_train = model.predict(X_train)\n",
    "    y_hat_test = model.predict(X_test)\n",
    "    \n",
    "    print('Training Precision: ', precision_score(y_train, y_hat_train, average='macro'))\n",
    "    print('Testing Precision: ', precision_score(y_test, y_hat_test, average='macro'))\n",
    "    print('\\n\\n')\n",
    "\n",
    "    print('Training Recall: ', recall_score(y_train, y_hat_train, average='macro'))\n",
    "    print('Testing Recall: ', recall_score(y_test, y_hat_test, average='macro'))\n",
    "    print('\\n\\n')\n",
    "\n",
    "    print('Training Accuracy: ', accuracy_score(y_train, y_hat_train))\n",
    "    print('Testing Accuracy: ', accuracy_score(y_test, y_hat_test))\n",
    "    print('\\n\\n')\n",
    "\n",
    "    print('Training F1-Score: ', f1_score(y_train, y_hat_train, average='macro'))\n",
    "    print('Testing F1-Score: ', f1_score(y_test, y_hat_test, average='macro'))\n",
    "    \n",
    "    plot_confusion_matrix(model, X_test, y_test)\n",
    "    \n",
    "    return"
   ]
  },
  {
   "cell_type": "markdown",
   "metadata": {},
   "source": [
    "# EDA"
   ]
  },
  {
   "cell_type": "markdown",
   "metadata": {
    "heading_collapsed": true
   },
   "source": [
    "## Initial look at data and upload"
   ]
  },
  {
   "cell_type": "code",
   "execution_count": 3,
   "metadata": {
    "ExecuteTime": {
     "end_time": "2021-01-02T00:45:59.317856Z",
     "start_time": "2021-01-02T00:45:57.815658Z"
    },
    "hidden": true
   },
   "outputs": [],
   "source": [
    "# Import \"Training Data\" Which is going to be are actual data set\n",
    "X_data = pd.read_csv('TrainingSet.csv')\n",
    "y_data = pd.read_csv('TrainingSetLabels.csv')"
   ]
  },
  {
   "cell_type": "code",
   "execution_count": 4,
   "metadata": {
    "ExecuteTime": {
     "end_time": "2021-01-02T00:45:59.841835Z",
     "start_time": "2021-01-02T00:45:59.329246Z"
    },
    "hidden": true
   },
   "outputs": [],
   "source": [
    "# Merge just to check it out\n",
    "Full_data = pd.merge(X_data, y_data, left_on='id', right_on='id')"
   ]
  },
  {
   "cell_type": "code",
   "execution_count": 5,
   "metadata": {
    "ExecuteTime": {
     "end_time": "2021-01-02T00:45:59.971857Z",
     "start_time": "2021-01-02T00:45:59.861291Z"
    },
    "hidden": true
   },
   "outputs": [
    {
     "data": {
      "text/html": [
       "<div>\n",
       "<style scoped>\n",
       "    .dataframe tbody tr th:only-of-type {\n",
       "        vertical-align: middle;\n",
       "    }\n",
       "\n",
       "    .dataframe tbody tr th {\n",
       "        vertical-align: top;\n",
       "    }\n",
       "\n",
       "    .dataframe thead th {\n",
       "        text-align: right;\n",
       "    }\n",
       "</style>\n",
       "<table border=\"1\" class=\"dataframe\">\n",
       "  <thead>\n",
       "    <tr style=\"text-align: right;\">\n",
       "      <th></th>\n",
       "      <th>id</th>\n",
       "      <th>amount_tsh</th>\n",
       "      <th>date_recorded</th>\n",
       "      <th>funder</th>\n",
       "      <th>gps_height</th>\n",
       "      <th>installer</th>\n",
       "      <th>longitude</th>\n",
       "      <th>latitude</th>\n",
       "      <th>wpt_name</th>\n",
       "      <th>num_private</th>\n",
       "      <th>basin</th>\n",
       "      <th>subvillage</th>\n",
       "      <th>region</th>\n",
       "      <th>region_code</th>\n",
       "      <th>district_code</th>\n",
       "      <th>lga</th>\n",
       "      <th>ward</th>\n",
       "      <th>population</th>\n",
       "      <th>public_meeting</th>\n",
       "      <th>recorded_by</th>\n",
       "      <th>scheme_management</th>\n",
       "      <th>scheme_name</th>\n",
       "      <th>permit</th>\n",
       "      <th>construction_year</th>\n",
       "      <th>extraction_type</th>\n",
       "      <th>extraction_type_group</th>\n",
       "      <th>extraction_type_class</th>\n",
       "      <th>management</th>\n",
       "      <th>management_group</th>\n",
       "      <th>payment</th>\n",
       "      <th>payment_type</th>\n",
       "      <th>water_quality</th>\n",
       "      <th>quality_group</th>\n",
       "      <th>quantity</th>\n",
       "      <th>quantity_group</th>\n",
       "      <th>source</th>\n",
       "      <th>source_type</th>\n",
       "      <th>source_class</th>\n",
       "      <th>waterpoint_type</th>\n",
       "      <th>waterpoint_type_group</th>\n",
       "      <th>status_group</th>\n",
       "    </tr>\n",
       "  </thead>\n",
       "  <tbody>\n",
       "    <tr>\n",
       "      <th>0</th>\n",
       "      <td>69572</td>\n",
       "      <td>6000.0</td>\n",
       "      <td>2011-03-14</td>\n",
       "      <td>Roman</td>\n",
       "      <td>1390</td>\n",
       "      <td>Roman</td>\n",
       "      <td>34.938093</td>\n",
       "      <td>-9.856322</td>\n",
       "      <td>none</td>\n",
       "      <td>0</td>\n",
       "      <td>Lake Nyasa</td>\n",
       "      <td>Mnyusi B</td>\n",
       "      <td>Iringa</td>\n",
       "      <td>11</td>\n",
       "      <td>5</td>\n",
       "      <td>Ludewa</td>\n",
       "      <td>Mundindi</td>\n",
       "      <td>109</td>\n",
       "      <td>True</td>\n",
       "      <td>GeoData Consultants Ltd</td>\n",
       "      <td>VWC</td>\n",
       "      <td>Roman</td>\n",
       "      <td>False</td>\n",
       "      <td>1999</td>\n",
       "      <td>gravity</td>\n",
       "      <td>gravity</td>\n",
       "      <td>gravity</td>\n",
       "      <td>vwc</td>\n",
       "      <td>user-group</td>\n",
       "      <td>pay annually</td>\n",
       "      <td>annually</td>\n",
       "      <td>soft</td>\n",
       "      <td>good</td>\n",
       "      <td>enough</td>\n",
       "      <td>enough</td>\n",
       "      <td>spring</td>\n",
       "      <td>spring</td>\n",
       "      <td>groundwater</td>\n",
       "      <td>communal standpipe</td>\n",
       "      <td>communal standpipe</td>\n",
       "      <td>functional</td>\n",
       "    </tr>\n",
       "    <tr>\n",
       "      <th>1</th>\n",
       "      <td>8776</td>\n",
       "      <td>0.0</td>\n",
       "      <td>2013-03-06</td>\n",
       "      <td>Grumeti</td>\n",
       "      <td>1399</td>\n",
       "      <td>GRUMETI</td>\n",
       "      <td>34.698766</td>\n",
       "      <td>-2.147466</td>\n",
       "      <td>Zahanati</td>\n",
       "      <td>0</td>\n",
       "      <td>Lake Victoria</td>\n",
       "      <td>Nyamara</td>\n",
       "      <td>Mara</td>\n",
       "      <td>20</td>\n",
       "      <td>2</td>\n",
       "      <td>Serengeti</td>\n",
       "      <td>Natta</td>\n",
       "      <td>280</td>\n",
       "      <td>NaN</td>\n",
       "      <td>GeoData Consultants Ltd</td>\n",
       "      <td>Other</td>\n",
       "      <td>NaN</td>\n",
       "      <td>True</td>\n",
       "      <td>2010</td>\n",
       "      <td>gravity</td>\n",
       "      <td>gravity</td>\n",
       "      <td>gravity</td>\n",
       "      <td>wug</td>\n",
       "      <td>user-group</td>\n",
       "      <td>never pay</td>\n",
       "      <td>never pay</td>\n",
       "      <td>soft</td>\n",
       "      <td>good</td>\n",
       "      <td>insufficient</td>\n",
       "      <td>insufficient</td>\n",
       "      <td>rainwater harvesting</td>\n",
       "      <td>rainwater harvesting</td>\n",
       "      <td>surface</td>\n",
       "      <td>communal standpipe</td>\n",
       "      <td>communal standpipe</td>\n",
       "      <td>functional</td>\n",
       "    </tr>\n",
       "    <tr>\n",
       "      <th>2</th>\n",
       "      <td>34310</td>\n",
       "      <td>25.0</td>\n",
       "      <td>2013-02-25</td>\n",
       "      <td>Lottery Club</td>\n",
       "      <td>686</td>\n",
       "      <td>World vision</td>\n",
       "      <td>37.460664</td>\n",
       "      <td>-3.821329</td>\n",
       "      <td>Kwa Mahundi</td>\n",
       "      <td>0</td>\n",
       "      <td>Pangani</td>\n",
       "      <td>Majengo</td>\n",
       "      <td>Manyara</td>\n",
       "      <td>21</td>\n",
       "      <td>4</td>\n",
       "      <td>Simanjiro</td>\n",
       "      <td>Ngorika</td>\n",
       "      <td>250</td>\n",
       "      <td>True</td>\n",
       "      <td>GeoData Consultants Ltd</td>\n",
       "      <td>VWC</td>\n",
       "      <td>Nyumba ya mungu pipe scheme</td>\n",
       "      <td>True</td>\n",
       "      <td>2009</td>\n",
       "      <td>gravity</td>\n",
       "      <td>gravity</td>\n",
       "      <td>gravity</td>\n",
       "      <td>vwc</td>\n",
       "      <td>user-group</td>\n",
       "      <td>pay per bucket</td>\n",
       "      <td>per bucket</td>\n",
       "      <td>soft</td>\n",
       "      <td>good</td>\n",
       "      <td>enough</td>\n",
       "      <td>enough</td>\n",
       "      <td>dam</td>\n",
       "      <td>dam</td>\n",
       "      <td>surface</td>\n",
       "      <td>communal standpipe multiple</td>\n",
       "      <td>communal standpipe</td>\n",
       "      <td>functional</td>\n",
       "    </tr>\n",
       "    <tr>\n",
       "      <th>3</th>\n",
       "      <td>67743</td>\n",
       "      <td>0.0</td>\n",
       "      <td>2013-01-28</td>\n",
       "      <td>Unicef</td>\n",
       "      <td>263</td>\n",
       "      <td>UNICEF</td>\n",
       "      <td>38.486161</td>\n",
       "      <td>-11.155298</td>\n",
       "      <td>Zahanati Ya Nanyumbu</td>\n",
       "      <td>0</td>\n",
       "      <td>Ruvuma / Southern Coast</td>\n",
       "      <td>Mahakamani</td>\n",
       "      <td>Mtwara</td>\n",
       "      <td>90</td>\n",
       "      <td>63</td>\n",
       "      <td>Nanyumbu</td>\n",
       "      <td>Nanyumbu</td>\n",
       "      <td>58</td>\n",
       "      <td>True</td>\n",
       "      <td>GeoData Consultants Ltd</td>\n",
       "      <td>VWC</td>\n",
       "      <td>NaN</td>\n",
       "      <td>True</td>\n",
       "      <td>1986</td>\n",
       "      <td>submersible</td>\n",
       "      <td>submersible</td>\n",
       "      <td>submersible</td>\n",
       "      <td>vwc</td>\n",
       "      <td>user-group</td>\n",
       "      <td>never pay</td>\n",
       "      <td>never pay</td>\n",
       "      <td>soft</td>\n",
       "      <td>good</td>\n",
       "      <td>dry</td>\n",
       "      <td>dry</td>\n",
       "      <td>machine dbh</td>\n",
       "      <td>borehole</td>\n",
       "      <td>groundwater</td>\n",
       "      <td>communal standpipe multiple</td>\n",
       "      <td>communal standpipe</td>\n",
       "      <td>non functional</td>\n",
       "    </tr>\n",
       "    <tr>\n",
       "      <th>4</th>\n",
       "      <td>19728</td>\n",
       "      <td>0.0</td>\n",
       "      <td>2011-07-13</td>\n",
       "      <td>Action In A</td>\n",
       "      <td>0</td>\n",
       "      <td>Artisan</td>\n",
       "      <td>31.130847</td>\n",
       "      <td>-1.825359</td>\n",
       "      <td>Shuleni</td>\n",
       "      <td>0</td>\n",
       "      <td>Lake Victoria</td>\n",
       "      <td>Kyanyamisa</td>\n",
       "      <td>Kagera</td>\n",
       "      <td>18</td>\n",
       "      <td>1</td>\n",
       "      <td>Karagwe</td>\n",
       "      <td>Nyakasimbi</td>\n",
       "      <td>0</td>\n",
       "      <td>True</td>\n",
       "      <td>GeoData Consultants Ltd</td>\n",
       "      <td>NaN</td>\n",
       "      <td>NaN</td>\n",
       "      <td>True</td>\n",
       "      <td>0</td>\n",
       "      <td>gravity</td>\n",
       "      <td>gravity</td>\n",
       "      <td>gravity</td>\n",
       "      <td>other</td>\n",
       "      <td>other</td>\n",
       "      <td>never pay</td>\n",
       "      <td>never pay</td>\n",
       "      <td>soft</td>\n",
       "      <td>good</td>\n",
       "      <td>seasonal</td>\n",
       "      <td>seasonal</td>\n",
       "      <td>rainwater harvesting</td>\n",
       "      <td>rainwater harvesting</td>\n",
       "      <td>surface</td>\n",
       "      <td>communal standpipe</td>\n",
       "      <td>communal standpipe</td>\n",
       "      <td>functional</td>\n",
       "    </tr>\n",
       "  </tbody>\n",
       "</table>\n",
       "</div>"
      ],
      "text/plain": [
       "      id  amount_tsh date_recorded        funder  gps_height     installer  \\\n",
       "0  69572      6000.0    2011-03-14         Roman        1390         Roman   \n",
       "1   8776         0.0    2013-03-06       Grumeti        1399       GRUMETI   \n",
       "2  34310        25.0    2013-02-25  Lottery Club         686  World vision   \n",
       "3  67743         0.0    2013-01-28        Unicef         263        UNICEF   \n",
       "4  19728         0.0    2011-07-13   Action In A           0       Artisan   \n",
       "\n",
       "   longitude   latitude              wpt_name  num_private  \\\n",
       "0  34.938093  -9.856322                  none            0   \n",
       "1  34.698766  -2.147466              Zahanati            0   \n",
       "2  37.460664  -3.821329           Kwa Mahundi            0   \n",
       "3  38.486161 -11.155298  Zahanati Ya Nanyumbu            0   \n",
       "4  31.130847  -1.825359               Shuleni            0   \n",
       "\n",
       "                     basin  subvillage   region  region_code  district_code  \\\n",
       "0               Lake Nyasa    Mnyusi B   Iringa           11              5   \n",
       "1            Lake Victoria     Nyamara     Mara           20              2   \n",
       "2                  Pangani     Majengo  Manyara           21              4   \n",
       "3  Ruvuma / Southern Coast  Mahakamani   Mtwara           90             63   \n",
       "4            Lake Victoria  Kyanyamisa   Kagera           18              1   \n",
       "\n",
       "         lga        ward  population public_meeting              recorded_by  \\\n",
       "0     Ludewa    Mundindi         109           True  GeoData Consultants Ltd   \n",
       "1  Serengeti       Natta         280            NaN  GeoData Consultants Ltd   \n",
       "2  Simanjiro     Ngorika         250           True  GeoData Consultants Ltd   \n",
       "3   Nanyumbu    Nanyumbu          58           True  GeoData Consultants Ltd   \n",
       "4    Karagwe  Nyakasimbi           0           True  GeoData Consultants Ltd   \n",
       "\n",
       "  scheme_management                  scheme_name permit  construction_year  \\\n",
       "0               VWC                        Roman  False               1999   \n",
       "1             Other                          NaN   True               2010   \n",
       "2               VWC  Nyumba ya mungu pipe scheme   True               2009   \n",
       "3               VWC                          NaN   True               1986   \n",
       "4               NaN                          NaN   True                  0   \n",
       "\n",
       "  extraction_type extraction_type_group extraction_type_class management  \\\n",
       "0         gravity               gravity               gravity        vwc   \n",
       "1         gravity               gravity               gravity        wug   \n",
       "2         gravity               gravity               gravity        vwc   \n",
       "3     submersible           submersible           submersible        vwc   \n",
       "4         gravity               gravity               gravity      other   \n",
       "\n",
       "  management_group         payment payment_type water_quality quality_group  \\\n",
       "0       user-group    pay annually     annually          soft          good   \n",
       "1       user-group       never pay    never pay          soft          good   \n",
       "2       user-group  pay per bucket   per bucket          soft          good   \n",
       "3       user-group       never pay    never pay          soft          good   \n",
       "4            other       never pay    never pay          soft          good   \n",
       "\n",
       "       quantity quantity_group                source           source_type  \\\n",
       "0        enough         enough                spring                spring   \n",
       "1  insufficient   insufficient  rainwater harvesting  rainwater harvesting   \n",
       "2        enough         enough                   dam                   dam   \n",
       "3           dry            dry           machine dbh              borehole   \n",
       "4      seasonal       seasonal  rainwater harvesting  rainwater harvesting   \n",
       "\n",
       "  source_class              waterpoint_type waterpoint_type_group  \\\n",
       "0  groundwater           communal standpipe    communal standpipe   \n",
       "1      surface           communal standpipe    communal standpipe   \n",
       "2      surface  communal standpipe multiple    communal standpipe   \n",
       "3  groundwater  communal standpipe multiple    communal standpipe   \n",
       "4      surface           communal standpipe    communal standpipe   \n",
       "\n",
       "     status_group  \n",
       "0      functional  \n",
       "1      functional  \n",
       "2      functional  \n",
       "3  non functional  \n",
       "4      functional  "
      ]
     },
     "execution_count": 5,
     "metadata": {},
     "output_type": "execute_result"
    }
   ],
   "source": [
    "Full_data.head()"
   ]
  },
  {
   "cell_type": "code",
   "execution_count": 6,
   "metadata": {
    "ExecuteTime": {
     "end_time": "2021-01-02T00:46:00.003124Z",
     "start_time": "2021-01-02T00:45:59.991677Z"
    },
    "hidden": true
   },
   "outputs": [
    {
     "data": {
      "text/plain": [
       "(59400, 41)"
      ]
     },
     "execution_count": 6,
     "metadata": {},
     "output_type": "execute_result"
    }
   ],
   "source": [
    "Full_data.shape"
   ]
  },
  {
   "cell_type": "code",
   "execution_count": 7,
   "metadata": {
    "ExecuteTime": {
     "end_time": "2021-01-02T00:46:00.047379Z",
     "start_time": "2021-01-02T00:46:00.026225Z"
    },
    "hidden": true
   },
   "outputs": [
    {
     "data": {
      "text/plain": [
       "functional                 32259\n",
       "non functional             22824\n",
       "functional needs repair     4317\n",
       "Name: status_group, dtype: int64"
      ]
     },
     "execution_count": 7,
     "metadata": {},
     "output_type": "execute_result"
    }
   ],
   "source": [
    "#Checking for class inbalance\n",
    "Full_data['status_group'].value_counts()"
   ]
  },
  {
   "cell_type": "markdown",
   "metadata": {
    "ExecuteTime": {
     "end_time": "2020-12-18T20:13:59.392598Z",
     "start_time": "2020-12-18T20:13:59.388249Z"
    },
    "hidden": true
   },
   "source": [
    "Don't really see much of class inbalance besides funcitonal/needs repair class"
   ]
  },
  {
   "cell_type": "code",
   "execution_count": 8,
   "metadata": {
    "ExecuteTime": {
     "end_time": "2021-01-02T00:46:00.849790Z",
     "start_time": "2021-01-02T00:46:00.079810Z"
    },
    "hidden": true
   },
   "outputs": [
    {
     "name": "stdout",
     "output_type": "stream",
     "text": [
      "<class 'pandas.core.frame.DataFrame'>\n",
      "Int64Index: 59400 entries, 0 to 59399\n",
      "Data columns (total 41 columns):\n",
      " #   Column                 Non-Null Count  Dtype  \n",
      "---  ------                 --------------  -----  \n",
      " 0   id                     59400 non-null  int64  \n",
      " 1   amount_tsh             59400 non-null  float64\n",
      " 2   date_recorded          59400 non-null  object \n",
      " 3   funder                 55765 non-null  object \n",
      " 4   gps_height             59400 non-null  int64  \n",
      " 5   installer              55745 non-null  object \n",
      " 6   longitude              59400 non-null  float64\n",
      " 7   latitude               59400 non-null  float64\n",
      " 8   wpt_name               59400 non-null  object \n",
      " 9   num_private            59400 non-null  int64  \n",
      " 10  basin                  59400 non-null  object \n",
      " 11  subvillage             59029 non-null  object \n",
      " 12  region                 59400 non-null  object \n",
      " 13  region_code            59400 non-null  int64  \n",
      " 14  district_code          59400 non-null  int64  \n",
      " 15  lga                    59400 non-null  object \n",
      " 16  ward                   59400 non-null  object \n",
      " 17  population             59400 non-null  int64  \n",
      " 18  public_meeting         56066 non-null  object \n",
      " 19  recorded_by            59400 non-null  object \n",
      " 20  scheme_management      55523 non-null  object \n",
      " 21  scheme_name            31234 non-null  object \n",
      " 22  permit                 56344 non-null  object \n",
      " 23  construction_year      59400 non-null  int64  \n",
      " 24  extraction_type        59400 non-null  object \n",
      " 25  extraction_type_group  59400 non-null  object \n",
      " 26  extraction_type_class  59400 non-null  object \n",
      " 27  management             59400 non-null  object \n",
      " 28  management_group       59400 non-null  object \n",
      " 29  payment                59400 non-null  object \n",
      " 30  payment_type           59400 non-null  object \n",
      " 31  water_quality          59400 non-null  object \n",
      " 32  quality_group          59400 non-null  object \n",
      " 33  quantity               59400 non-null  object \n",
      " 34  quantity_group         59400 non-null  object \n",
      " 35  source                 59400 non-null  object \n",
      " 36  source_type            59400 non-null  object \n",
      " 37  source_class           59400 non-null  object \n",
      " 38  waterpoint_type        59400 non-null  object \n",
      " 39  waterpoint_type_group  59400 non-null  object \n",
      " 40  status_group           59400 non-null  object \n",
      "dtypes: float64(3), int64(7), object(31)\n",
      "memory usage: 19.0+ MB\n"
     ]
    }
   ],
   "source": [
    "Full_data.info()"
   ]
  },
  {
   "cell_type": "markdown",
   "metadata": {
    "heading_collapsed": true
   },
   "source": [
    "## Checking the Nan entries"
   ]
  },
  {
   "cell_type": "code",
   "execution_count": 9,
   "metadata": {
    "ExecuteTime": {
     "end_time": "2021-01-02T00:46:01.081482Z",
     "start_time": "2021-01-02T00:46:00.860656Z"
    },
    "hidden": true
   },
   "outputs": [
    {
     "name": "stdout",
     "output_type": "stream",
     "text": [
      "These are the columns with nan values in the dataframe.\n"
     ]
    },
    {
     "data": {
      "text/plain": [
       "['funder',\n",
       " 'installer',\n",
       " 'subvillage',\n",
       " 'public_meeting',\n",
       " 'scheme_management',\n",
       " 'scheme_name',\n",
       " 'permit']"
      ]
     },
     "execution_count": 9,
     "metadata": {},
     "output_type": "execute_result"
    }
   ],
   "source": [
    "print('These are the columns with nan values in the dataframe.')\n",
    "Full_data.columns[Full_data.isna().any()].tolist()"
   ]
  },
  {
   "cell_type": "code",
   "execution_count": 10,
   "metadata": {
    "ExecuteTime": {
     "end_time": "2021-01-02T00:46:04.532406Z",
     "start_time": "2021-01-02T00:46:01.090536Z"
    },
    "hidden": true
   },
   "outputs": [
    {
     "data": {
      "text/plain": [
       "<matplotlib.axes._subplots.AxesSubplot at 0x7ff848233da0>"
      ]
     },
     "execution_count": 10,
     "metadata": {},
     "output_type": "execute_result"
    },
    {
     "data": {
      "image/png": "[encoded data removed]",
      "text/plain": [
       "<Figure size 1800x720 with 2 Axes>"
      ]
     },
     "metadata": {
      "needs_background": "light"
     },
     "output_type": "display_data"
    }
   ],
   "source": [
    "msno.matrix(Full_data)"
   ]
  },
  {
   "cell_type": "code",
   "execution_count": 11,
   "metadata": {
    "ExecuteTime": {
     "end_time": "2021-01-02T00:46:04.703061Z",
     "start_time": "2021-01-02T00:46:04.662783Z"
    },
    "hidden": true
   },
   "outputs": [
    {
     "data": {
      "text/plain": [
       "Government Of Tanzania    9084\n",
       "Danida                    3114\n",
       "Hesawa                    2202\n",
       "Rwssp                     1374\n",
       "World Bank                1349\n",
       "                          ... \n",
       "Africaone Ltd                1\n",
       "People From Egypt            1\n",
       "Mwamvita Rajabu              1\n",
       "Italian                      1\n",
       "Rural                        1\n",
       "Name: funder, Length: 1897, dtype: int64"
      ]
     },
     "execution_count": 11,
     "metadata": {},
     "output_type": "execute_result"
    }
   ],
   "source": [
    "# The missing data might be important so lets fill funder na using KNN imputation\n",
    "Full_data.funder.value_counts()"
   ]
  },
  {
   "cell_type": "code",
   "execution_count": 12,
   "metadata": {
    "ExecuteTime": {
     "end_time": "2021-01-02T00:46:04.734442Z",
     "start_time": "2021-01-02T00:46:04.710847Z"
    },
    "hidden": true
   },
   "outputs": [
    {
     "data": {
      "text/plain": [
       "DWE                             17402\n",
       "Government                       1825\n",
       "RWE                              1206\n",
       "Commu                            1060\n",
       "DANIDA                           1050\n",
       "                                ...  \n",
       "UN Habitat                          1\n",
       "ABD                                 1\n",
       "UDEA                                1\n",
       "Tanz/Egypt technical coopera        1\n",
       "Icf                                 1\n",
       "Name: installer, Length: 2145, dtype: int64"
      ]
     },
     "execution_count": 12,
     "metadata": {},
     "output_type": "execute_result"
    }
   ],
   "source": [
    "# This missing data might be important too so lets fill installer na using KNN imputation\n",
    "Full_data.installer.value_counts()"
   ]
  },
  {
   "cell_type": "code",
   "execution_count": 13,
   "metadata": {
    "ExecuteTime": {
     "end_time": "2021-01-02T00:46:04.779454Z",
     "start_time": "2021-01-02T00:46:04.742727Z"
    },
    "hidden": true
   },
   "outputs": [
    {
     "data": {
      "text/plain": [
       "Madukani       508\n",
       "Shuleni        506\n",
       "Majengo        502\n",
       "Kati           373\n",
       "Mtakuja        262\n",
       "              ... \n",
       "Kumeka           1\n",
       "Namasimba        1\n",
       "Inyonya A        1\n",
       "Dabastiandi      1\n",
       "Murugando        1\n",
       "Name: subvillage, Length: 19287, dtype: int64"
      ]
     },
     "execution_count": 13,
     "metadata": {},
     "output_type": "execute_result"
    }
   ],
   "source": [
    "# This missing data might be important too so lets fill subvillage na using KNN imputation\n",
    "Full_data.subvillage.value_counts()"
   ]
  },
  {
   "cell_type": "code",
   "execution_count": 14,
   "metadata": {
    "ExecuteTime": {
     "end_time": "2021-01-02T00:46:04.813559Z",
     "start_time": "2021-01-02T00:46:04.797891Z"
    },
    "hidden": true
   },
   "outputs": [
    {
     "data": {
      "text/plain": [
       "True     51011\n",
       "False     5055\n",
       "Name: public_meeting, dtype: int64"
      ]
     },
     "execution_count": 14,
     "metadata": {},
     "output_type": "execute_result"
    }
   ],
   "source": [
    "# This missing data might be important too so lets fill public_meeting na as Unknown (done in preprocessing section)\n",
    "Full_data.public_meeting.value_counts()"
   ]
  },
  {
   "cell_type": "code",
   "execution_count": 15,
   "metadata": {
    "ExecuteTime": {
     "end_time": "2021-01-02T00:46:04.849878Z",
     "start_time": "2021-01-02T00:46:04.819797Z"
    },
    "hidden": true
   },
   "outputs": [
    {
     "name": "stdout",
     "output_type": "stream",
     "text": [
      "28166\n"
     ]
    },
    {
     "data": {
      "text/plain": [
       "K                        682\n",
       "None                     644\n",
       "Borehole                 546\n",
       "Chalinze wate            405\n",
       "M                        400\n",
       "                        ... \n",
       "BL Moniko Shule            1\n",
       "Kirokomu water supply      1\n",
       "Kakerele  water s          1\n",
       "Kwam                       1\n",
       "Sikonge water supply       1\n",
       "Name: scheme_name, Length: 2696, dtype: int64"
      ]
     },
     "execution_count": 15,
     "metadata": {},
     "output_type": "execute_result"
    }
   ],
   "source": [
    "# there is too much missing data on scheme_name and i believe scheme_management is giving same info\n",
    "# Lets drop scheme_name\n",
    "print(Full_data.scheme_name.isna().sum())\n",
    "Full_data.scheme_name.value_counts()"
   ]
  },
  {
   "cell_type": "code",
   "execution_count": 16,
   "metadata": {
    "ExecuteTime": {
     "end_time": "2021-01-02T00:46:04.887320Z",
     "start_time": "2021-01-02T00:46:04.853534Z"
    },
    "hidden": true
   },
   "outputs": [
    {
     "data": {
      "text/plain": [
       "VWC                 36793\n",
       "WUG                  5206\n",
       "Water authority      3153\n",
       "WUA                  2883\n",
       "Water Board          2748\n",
       "Parastatal           1680\n",
       "Private operator     1063\n",
       "Company              1061\n",
       "Other                 766\n",
       "SWC                    97\n",
       "Trust                  72\n",
       "None                    1\n",
       "Name: scheme_management, dtype: int64"
      ]
     },
     "execution_count": 16,
     "metadata": {},
     "output_type": "execute_result"
    }
   ],
   "source": [
    "# This missing data might be important too so lets fill scheme_management na using KNN imputation\n",
    "Full_data.scheme_management.value_counts()"
   ]
  },
  {
   "cell_type": "code",
   "execution_count": 17,
   "metadata": {
    "ExecuteTime": {
     "end_time": "2021-01-02T00:46:04.907871Z",
     "start_time": "2021-01-02T00:46:04.891133Z"
    },
    "hidden": true
   },
   "outputs": [
    {
     "data": {
      "text/plain": [
       "True     38852\n",
       "False    17492\n",
       "Name: permit, dtype: int64"
      ]
     },
     "execution_count": 17,
     "metadata": {},
     "output_type": "execute_result"
    }
   ],
   "source": [
    "# Probably safe to say that if you don't know you have a permit, its a no\n",
    "Full_data.permit.value_counts()"
   ]
  },
  {
   "cell_type": "code",
   "execution_count": 18,
   "metadata": {
    "ExecuteTime": {
     "end_time": "2021-01-02T00:46:05.015141Z",
     "start_time": "2021-01-02T00:46:04.911274Z"
    },
    "hidden": true
   },
   "outputs": [],
   "source": [
    "# Filling nan values just to look through data easier\n",
    "\n",
    "Full_data[['funder', 'installer', 'public_meeting']] = Full_data[['funder', 'installer',\n",
    "                                                                               'public_meeting']].fillna(value='Unknown')\n",
    "\n",
    "Full_data[['subvillage', 'scheme_management']] = Full_data[['subvillage',\n",
    "                                                                         'scheme_management']].fillna(value='None')\n",
    "Full_data[['permit']] = Full_data[['permit']].fillna(value=False)"
   ]
  },
  {
   "cell_type": "markdown",
   "metadata": {
    "heading_collapsed": true
   },
   "source": [
    "## Looking at date recorded"
   ]
  },
  {
   "cell_type": "markdown",
   "metadata": {
    "hidden": true
   },
   "source": [
    "Changing date recorded to just year and month to bring down the number of categories."
   ]
  },
  {
   "cell_type": "code",
   "execution_count": 19,
   "metadata": {
    "ExecuteTime": {
     "end_time": "2021-01-02T00:46:05.033465Z",
     "start_time": "2021-01-02T00:46:05.017609Z"
    },
    "hidden": true
   },
   "outputs": [
    {
     "data": {
      "text/plain": [
       "356"
      ]
     },
     "execution_count": 19,
     "metadata": {},
     "output_type": "execute_result"
    }
   ],
   "source": [
    "Full_data.date_recorded.nunique()"
   ]
  },
  {
   "cell_type": "code",
   "execution_count": 20,
   "metadata": {
    "ExecuteTime": {
     "end_time": "2021-01-02T00:46:05.070758Z",
     "start_time": "2021-01-02T00:46:05.038050Z"
    },
    "hidden": true
   },
   "outputs": [],
   "source": [
    "Full_data['date_recorded'] = [x[0:7] for x in Full_data['date_recorded']]"
   ]
  },
  {
   "cell_type": "code",
   "execution_count": 21,
   "metadata": {
    "ExecuteTime": {
     "end_time": "2021-01-02T00:46:05.087989Z",
     "start_time": "2021-01-02T00:46:05.073584Z"
    },
    "hidden": true
   },
   "outputs": [
    {
     "data": {
      "text/plain": [
       "38"
      ]
     },
     "execution_count": 21,
     "metadata": {},
     "output_type": "execute_result"
    }
   ],
   "source": [
    "Full_data.date_recorded.nunique()"
   ]
  },
  {
   "cell_type": "markdown",
   "metadata": {
    "heading_collapsed": true
   },
   "source": [
    "## Looking at amount_tsh"
   ]
  },
  {
   "cell_type": "markdown",
   "metadata": {
    "hidden": true
   },
   "source": [
    "What does amount_tsh look like? It looks mostly filled with 0's and seems like there's no real trend between 0's and non 0's for the categories."
   ]
  },
  {
   "cell_type": "code",
   "execution_count": 22,
   "metadata": {
    "ExecuteTime": {
     "end_time": "2021-01-02T00:46:05.156634Z",
     "start_time": "2021-01-02T00:46:05.117094Z"
    },
    "hidden": true
   },
   "outputs": [
    {
     "data": {
      "text/plain": [
       "41639"
      ]
     },
     "execution_count": 22,
     "metadata": {},
     "output_type": "execute_result"
    }
   ],
   "source": [
    "test = Full_data[Full_data['amount_tsh'] == 0]\n",
    "test1 = Full_data[Full_data['amount_tsh'] > 0]\n",
    "len(test)"
   ]
  },
  {
   "cell_type": "code",
   "execution_count": 23,
   "metadata": {
    "ExecuteTime": {
     "end_time": "2021-01-02T00:46:05.172647Z",
     "start_time": "2021-01-02T00:46:05.163870Z"
    },
    "hidden": true
   },
   "outputs": [
    {
     "data": {
      "text/plain": [
       "17761"
      ]
     },
     "execution_count": 23,
     "metadata": {},
     "output_type": "execute_result"
    }
   ],
   "source": [
    "len(test1)"
   ]
  },
  {
   "cell_type": "code",
   "execution_count": 24,
   "metadata": {
    "ExecuteTime": {
     "end_time": "2021-01-02T00:46:05.185373Z",
     "start_time": "2021-01-02T00:46:05.176107Z"
    },
    "hidden": true
   },
   "outputs": [
    {
     "data": {
      "text/plain": [
       "59400"
      ]
     },
     "execution_count": 24,
     "metadata": {},
     "output_type": "execute_result"
    }
   ],
   "source": [
    "len(Full_data)"
   ]
  },
  {
   "cell_type": "code",
   "execution_count": 25,
   "metadata": {
    "ExecuteTime": {
     "end_time": "2021-01-02T00:46:05.458396Z",
     "start_time": "2021-01-02T00:46:05.191103Z"
    },
    "hidden": true
   },
   "outputs": [
    {
     "data": {
      "text/plain": [
       "Text(0.5, 1.0, 'status_group relation to amount_tsh')"
      ]
     },
     "execution_count": 25,
     "metadata": {},
     "output_type": "execute_result"
    },
    {
     "data": {
      "image/png": "[encoded data removed]",
      "text/plain": [
       "<Figure size 432x288 with 1 Axes>"
      ]
     },
     "metadata": {
      "needs_background": "light"
     },
     "output_type": "display_data"
    }
   ],
   "source": [
    "plt.hist(test['status_group'],label='=0')\n",
    "plt.hist(test1['status_group'], label='>0')\n",
    "plt.legend()\n",
    "plt.title('status_group relation to amount_tsh')"
   ]
  },
  {
   "cell_type": "code",
   "execution_count": 26,
   "metadata": {
    "ExecuteTime": {
     "end_time": "2021-01-02T00:46:06.067437Z",
     "start_time": "2021-01-02T00:46:05.464888Z"
    },
    "hidden": true
   },
   "outputs": [
    {
     "data": {
      "text/plain": [
       "Text(0.5, 1.0, 'status_group relation with increasing amount_tsh')"
      ]
     },
     "execution_count": 26,
     "metadata": {},
     "output_type": "execute_result"
    },
    {
     "data": {
      "image/png": "[encoded data removed]",
      "text/plain": [
       "<Figure size 432x288 with 1 Axes>"
      ]
     },
     "metadata": {
      "needs_background": "light"
     },
     "output_type": "display_data"
    }
   ],
   "source": [
    "plt.scatter(y=test1['status_group'], x=test1['amount_tsh'])\n",
    "plt.title('status_group relation with increasing amount_tsh')"
   ]
  },
  {
   "cell_type": "markdown",
   "metadata": {
    "heading_collapsed": true
   },
   "source": [
    "## Looking at the extraction type columns"
   ]
  },
  {
   "cell_type": "markdown",
   "metadata": {
    "hidden": true
   },
   "source": [
    "The three columns seem a little redundant. We'll keep the most detailed column and drop the other 2"
   ]
  },
  {
   "cell_type": "code",
   "execution_count": 27,
   "metadata": {
    "ExecuteTime": {
     "end_time": "2021-01-02T00:46:06.087837Z",
     "start_time": "2021-01-02T00:46:06.071278Z"
    },
    "hidden": true
   },
   "outputs": [
    {
     "data": {
      "text/plain": [
       "2469"
      ]
     },
     "execution_count": 27,
     "metadata": {},
     "output_type": "execute_result"
    }
   ],
   "source": [
    "comparison_column = np.where(Full_data[\"extraction_type_group\"] == Full_data[\"extraction_type\"], 0, 1)\n",
    "comparison_column.sum()"
   ]
  },
  {
   "cell_type": "code",
   "execution_count": 28,
   "metadata": {
    "ExecuteTime": {
     "end_time": "2021-01-02T00:46:06.106326Z",
     "start_time": "2021-01-02T00:46:06.091753Z"
    },
    "hidden": true
   },
   "outputs": [
    {
     "data": {
      "text/plain": [
       "19443"
      ]
     },
     "execution_count": 28,
     "metadata": {},
     "output_type": "execute_result"
    }
   ],
   "source": [
    "comparison_column2 = np.where(Full_data[\"extraction_type_group\"] == Full_data[\"extraction_type_class\"], 0, 1)\n",
    "comparison_column2.sum()"
   ]
  },
  {
   "cell_type": "code",
   "execution_count": 29,
   "metadata": {
    "ExecuteTime": {
     "end_time": "2021-01-02T00:46:06.244779Z",
     "start_time": "2021-01-02T00:46:06.110013Z"
    },
    "hidden": true
   },
   "outputs": [
    {
     "data": {
      "text/html": [
       "<div>\n",
       "<style scoped>\n",
       "    .dataframe tbody tr th:only-of-type {\n",
       "        vertical-align: middle;\n",
       "    }\n",
       "\n",
       "    .dataframe tbody tr th {\n",
       "        vertical-align: top;\n",
       "    }\n",
       "\n",
       "    .dataframe thead th {\n",
       "        text-align: right;\n",
       "    }\n",
       "</style>\n",
       "<table border=\"1\" class=\"dataframe\">\n",
       "  <thead>\n",
       "    <tr style=\"text-align: right;\">\n",
       "      <th></th>\n",
       "      <th>id</th>\n",
       "      <th>amount_tsh</th>\n",
       "      <th>date_recorded</th>\n",
       "      <th>funder</th>\n",
       "      <th>gps_height</th>\n",
       "      <th>installer</th>\n",
       "      <th>longitude</th>\n",
       "      <th>latitude</th>\n",
       "      <th>wpt_name</th>\n",
       "      <th>num_private</th>\n",
       "      <th>basin</th>\n",
       "      <th>subvillage</th>\n",
       "      <th>region</th>\n",
       "      <th>region_code</th>\n",
       "      <th>district_code</th>\n",
       "      <th>lga</th>\n",
       "      <th>ward</th>\n",
       "      <th>population</th>\n",
       "      <th>public_meeting</th>\n",
       "      <th>recorded_by</th>\n",
       "      <th>scheme_management</th>\n",
       "      <th>scheme_name</th>\n",
       "      <th>permit</th>\n",
       "      <th>construction_year</th>\n",
       "      <th>extraction_type</th>\n",
       "      <th>extraction_type_group</th>\n",
       "      <th>extraction_type_class</th>\n",
       "      <th>management</th>\n",
       "      <th>management_group</th>\n",
       "      <th>payment</th>\n",
       "      <th>payment_type</th>\n",
       "      <th>water_quality</th>\n",
       "      <th>quality_group</th>\n",
       "      <th>quantity</th>\n",
       "      <th>quantity_group</th>\n",
       "      <th>source</th>\n",
       "      <th>source_type</th>\n",
       "      <th>source_class</th>\n",
       "      <th>waterpoint_type</th>\n",
       "      <th>waterpoint_type_group</th>\n",
       "      <th>status_group</th>\n",
       "    </tr>\n",
       "  </thead>\n",
       "  <tbody>\n",
       "    <tr>\n",
       "      <th>31</th>\n",
       "      <td>6696</td>\n",
       "      <td>50.0</td>\n",
       "      <td>2011-03</td>\n",
       "      <td>Private Individual</td>\n",
       "      <td>180</td>\n",
       "      <td>WU</td>\n",
       "      <td>38.363555</td>\n",
       "      <td>-6.636104</td>\n",
       "      <td>Kituo Cha Maziwa</td>\n",
       "      <td>0</td>\n",
       "      <td>Wami / Ruvu</td>\n",
       "      <td>Kudipera</td>\n",
       "      <td>Pwani</td>\n",
       "      <td>6</td>\n",
       "      <td>1</td>\n",
       "      <td>Bagamoyo</td>\n",
       "      <td>Chalinze</td>\n",
       "      <td>150</td>\n",
       "      <td>False</td>\n",
       "      <td>GeoData Consultants Ltd</td>\n",
       "      <td>WUA</td>\n",
       "      <td>Chalinze wate</td>\n",
       "      <td>True</td>\n",
       "      <td>2004</td>\n",
       "      <td>ksb</td>\n",
       "      <td>submersible</td>\n",
       "      <td>submersible</td>\n",
       "      <td>private operator</td>\n",
       "      <td>commercial</td>\n",
       "      <td>pay per bucket</td>\n",
       "      <td>per bucket</td>\n",
       "      <td>soft</td>\n",
       "      <td>good</td>\n",
       "      <td>enough</td>\n",
       "      <td>enough</td>\n",
       "      <td>river</td>\n",
       "      <td>river/lake</td>\n",
       "      <td>surface</td>\n",
       "      <td>communal standpipe</td>\n",
       "      <td>communal standpipe</td>\n",
       "      <td>functional</td>\n",
       "    </tr>\n",
       "    <tr>\n",
       "      <th>45</th>\n",
       "      <td>12958</td>\n",
       "      <td>0.0</td>\n",
       "      <td>2012-10</td>\n",
       "      <td>World Vision</td>\n",
       "      <td>0</td>\n",
       "      <td>World Vision</td>\n",
       "      <td>33.345260</td>\n",
       "      <td>-3.838998</td>\n",
       "      <td>Shimasa</td>\n",
       "      <td>0</td>\n",
       "      <td>Internal</td>\n",
       "      <td>Isenegeja</td>\n",
       "      <td>Shinyanga</td>\n",
       "      <td>17</td>\n",
       "      <td>3</td>\n",
       "      <td>Shinyanga Rural</td>\n",
       "      <td>Samuye</td>\n",
       "      <td>0</td>\n",
       "      <td>True</td>\n",
       "      <td>GeoData Consultants Ltd</td>\n",
       "      <td>WUG</td>\n",
       "      <td>SHIMASA</td>\n",
       "      <td>True</td>\n",
       "      <td>0</td>\n",
       "      <td>windmill</td>\n",
       "      <td>wind-powered</td>\n",
       "      <td>wind-powered</td>\n",
       "      <td>wug</td>\n",
       "      <td>user-group</td>\n",
       "      <td>pay when scheme fails</td>\n",
       "      <td>on failure</td>\n",
       "      <td>soft</td>\n",
       "      <td>good</td>\n",
       "      <td>enough</td>\n",
       "      <td>enough</td>\n",
       "      <td>machine dbh</td>\n",
       "      <td>borehole</td>\n",
       "      <td>groundwater</td>\n",
       "      <td>communal standpipe</td>\n",
       "      <td>communal standpipe</td>\n",
       "      <td>non functional</td>\n",
       "    </tr>\n",
       "    <tr>\n",
       "      <th>66</th>\n",
       "      <td>34255</td>\n",
       "      <td>0.0</td>\n",
       "      <td>2011-02</td>\n",
       "      <td>Piusi</td>\n",
       "      <td>1788</td>\n",
       "      <td>SHIPO</td>\n",
       "      <td>34.897257</td>\n",
       "      <td>-9.203522</td>\n",
       "      <td>Kwa Piusi</td>\n",
       "      <td>0</td>\n",
       "      <td>Rufiji</td>\n",
       "      <td>Mahalule</td>\n",
       "      <td>Iringa</td>\n",
       "      <td>11</td>\n",
       "      <td>4</td>\n",
       "      <td>Njombe</td>\n",
       "      <td>Ikuka</td>\n",
       "      <td>50</td>\n",
       "      <td>True</td>\n",
       "      <td>GeoData Consultants Ltd</td>\n",
       "      <td>Private operator</td>\n",
       "      <td>NaN</td>\n",
       "      <td>True</td>\n",
       "      <td>2010</td>\n",
       "      <td>other - rope pump</td>\n",
       "      <td>rope pump</td>\n",
       "      <td>rope pump</td>\n",
       "      <td>private operator</td>\n",
       "      <td>commercial</td>\n",
       "      <td>never pay</td>\n",
       "      <td>never pay</td>\n",
       "      <td>soft</td>\n",
       "      <td>good</td>\n",
       "      <td>enough</td>\n",
       "      <td>enough</td>\n",
       "      <td>hand dtw</td>\n",
       "      <td>borehole</td>\n",
       "      <td>groundwater</td>\n",
       "      <td>hand pump</td>\n",
       "      <td>hand pump</td>\n",
       "      <td>functional</td>\n",
       "    </tr>\n",
       "    <tr>\n",
       "      <th>88</th>\n",
       "      <td>27312</td>\n",
       "      <td>50.0</td>\n",
       "      <td>2011-03</td>\n",
       "      <td>Private Individual</td>\n",
       "      <td>159</td>\n",
       "      <td>WU</td>\n",
       "      <td>38.353567</td>\n",
       "      <td>-6.638696</td>\n",
       "      <td>Kessy</td>\n",
       "      <td>0</td>\n",
       "      <td>Wami / Ruvu</td>\n",
       "      <td>Magwila</td>\n",
       "      <td>Pwani</td>\n",
       "      <td>6</td>\n",
       "      <td>1</td>\n",
       "      <td>Bagamoyo</td>\n",
       "      <td>Chalinze</td>\n",
       "      <td>20</td>\n",
       "      <td>False</td>\n",
       "      <td>GeoData Consultants Ltd</td>\n",
       "      <td>WUA</td>\n",
       "      <td>Chalinze wate</td>\n",
       "      <td>True</td>\n",
       "      <td>2008</td>\n",
       "      <td>ksb</td>\n",
       "      <td>submersible</td>\n",
       "      <td>submersible</td>\n",
       "      <td>private operator</td>\n",
       "      <td>commercial</td>\n",
       "      <td>pay per bucket</td>\n",
       "      <td>per bucket</td>\n",
       "      <td>soft</td>\n",
       "      <td>good</td>\n",
       "      <td>enough</td>\n",
       "      <td>enough</td>\n",
       "      <td>river</td>\n",
       "      <td>river/lake</td>\n",
       "      <td>surface</td>\n",
       "      <td>communal standpipe</td>\n",
       "      <td>communal standpipe</td>\n",
       "      <td>non functional</td>\n",
       "    </tr>\n",
       "    <tr>\n",
       "      <th>92</th>\n",
       "      <td>39920</td>\n",
       "      <td>200.0</td>\n",
       "      <td>2011-03</td>\n",
       "      <td>Danida</td>\n",
       "      <td>18</td>\n",
       "      <td>DA</td>\n",
       "      <td>38.890402</td>\n",
       "      <td>-6.557903</td>\n",
       "      <td>Gedebu</td>\n",
       "      <td>0</td>\n",
       "      <td>Wami / Ruvu</td>\n",
       "      <td>Shule</td>\n",
       "      <td>Pwani</td>\n",
       "      <td>6</td>\n",
       "      <td>1</td>\n",
       "      <td>Bagamoyo</td>\n",
       "      <td>Kiromo</td>\n",
       "      <td>40</td>\n",
       "      <td>True</td>\n",
       "      <td>GeoData Consultants Ltd</td>\n",
       "      <td>Company</td>\n",
       "      <td>Bagamoyo wate</td>\n",
       "      <td>True</td>\n",
       "      <td>1987</td>\n",
       "      <td>ksb</td>\n",
       "      <td>submersible</td>\n",
       "      <td>submersible</td>\n",
       "      <td>vwc</td>\n",
       "      <td>user-group</td>\n",
       "      <td>pay monthly</td>\n",
       "      <td>monthly</td>\n",
       "      <td>soft</td>\n",
       "      <td>good</td>\n",
       "      <td>enough</td>\n",
       "      <td>enough</td>\n",
       "      <td>river</td>\n",
       "      <td>river/lake</td>\n",
       "      <td>surface</td>\n",
       "      <td>communal standpipe</td>\n",
       "      <td>communal standpipe</td>\n",
       "      <td>non functional</td>\n",
       "    </tr>\n",
       "    <tr>\n",
       "      <th>...</th>\n",
       "      <td>...</td>\n",
       "      <td>...</td>\n",
       "      <td>...</td>\n",
       "      <td>...</td>\n",
       "      <td>...</td>\n",
       "      <td>...</td>\n",
       "      <td>...</td>\n",
       "      <td>...</td>\n",
       "      <td>...</td>\n",
       "      <td>...</td>\n",
       "      <td>...</td>\n",
       "      <td>...</td>\n",
       "      <td>...</td>\n",
       "      <td>...</td>\n",
       "      <td>...</td>\n",
       "      <td>...</td>\n",
       "      <td>...</td>\n",
       "      <td>...</td>\n",
       "      <td>...</td>\n",
       "      <td>...</td>\n",
       "      <td>...</td>\n",
       "      <td>...</td>\n",
       "      <td>...</td>\n",
       "      <td>...</td>\n",
       "      <td>...</td>\n",
       "      <td>...</td>\n",
       "      <td>...</td>\n",
       "      <td>...</td>\n",
       "      <td>...</td>\n",
       "      <td>...</td>\n",
       "      <td>...</td>\n",
       "      <td>...</td>\n",
       "      <td>...</td>\n",
       "      <td>...</td>\n",
       "      <td>...</td>\n",
       "      <td>...</td>\n",
       "      <td>...</td>\n",
       "      <td>...</td>\n",
       "      <td>...</td>\n",
       "      <td>...</td>\n",
       "      <td>...</td>\n",
       "    </tr>\n",
       "    <tr>\n",
       "      <th>59293</th>\n",
       "      <td>45357</td>\n",
       "      <td>0.0</td>\n",
       "      <td>2013-12</td>\n",
       "      <td>Sangea District Council</td>\n",
       "      <td>847</td>\n",
       "      <td>Sangea District Coun</td>\n",
       "      <td>35.798121</td>\n",
       "      <td>-10.725160</td>\n",
       "      <td>Kwa Inglibeth</td>\n",
       "      <td>0</td>\n",
       "      <td>Ruvuma / Southern Coast</td>\n",
       "      <td>Nanyimbo B</td>\n",
       "      <td>Ruvuma</td>\n",
       "      <td>10</td>\n",
       "      <td>2</td>\n",
       "      <td>Songea Rural</td>\n",
       "      <td>Matimira</td>\n",
       "      <td>0</td>\n",
       "      <td>True</td>\n",
       "      <td>GeoData Consultants Ltd</td>\n",
       "      <td>VWC</td>\n",
       "      <td>NaN</td>\n",
       "      <td>True</td>\n",
       "      <td>2002</td>\n",
       "      <td>other - rope pump</td>\n",
       "      <td>rope pump</td>\n",
       "      <td>rope pump</td>\n",
       "      <td>vwc</td>\n",
       "      <td>user-group</td>\n",
       "      <td>never pay</td>\n",
       "      <td>never pay</td>\n",
       "      <td>soft</td>\n",
       "      <td>good</td>\n",
       "      <td>dry</td>\n",
       "      <td>dry</td>\n",
       "      <td>shallow well</td>\n",
       "      <td>shallow well</td>\n",
       "      <td>groundwater</td>\n",
       "      <td>hand pump</td>\n",
       "      <td>hand pump</td>\n",
       "      <td>non functional</td>\n",
       "    </tr>\n",
       "    <tr>\n",
       "      <th>59309</th>\n",
       "      <td>50703</td>\n",
       "      <td>50.0</td>\n",
       "      <td>2013-01</td>\n",
       "      <td>Makonde</td>\n",
       "      <td>465</td>\n",
       "      <td>Makonde</td>\n",
       "      <td>39.423152</td>\n",
       "      <td>-10.873742</td>\n",
       "      <td>Mwinyi</td>\n",
       "      <td>0</td>\n",
       "      <td>Ruvuma / Southern Coast</td>\n",
       "      <td>Mwinyi</td>\n",
       "      <td>Mtwara</td>\n",
       "      <td>9</td>\n",
       "      <td>4</td>\n",
       "      <td>Tandahimba</td>\n",
       "      <td>Mahuta</td>\n",
       "      <td>860</td>\n",
       "      <td>True</td>\n",
       "      <td>GeoData Consultants Ltd</td>\n",
       "      <td>Water Board</td>\n",
       "      <td>Mahuta</td>\n",
       "      <td>True</td>\n",
       "      <td>1972</td>\n",
       "      <td>ksb</td>\n",
       "      <td>submersible</td>\n",
       "      <td>submersible</td>\n",
       "      <td>water board</td>\n",
       "      <td>user-group</td>\n",
       "      <td>pay per bucket</td>\n",
       "      <td>per bucket</td>\n",
       "      <td>soft</td>\n",
       "      <td>good</td>\n",
       "      <td>seasonal</td>\n",
       "      <td>seasonal</td>\n",
       "      <td>spring</td>\n",
       "      <td>spring</td>\n",
       "      <td>groundwater</td>\n",
       "      <td>communal standpipe</td>\n",
       "      <td>communal standpipe</td>\n",
       "      <td>functional</td>\n",
       "    </tr>\n",
       "    <tr>\n",
       "      <th>59325</th>\n",
       "      <td>52830</td>\n",
       "      <td>50.0</td>\n",
       "      <td>2011-03</td>\n",
       "      <td>Private Individual</td>\n",
       "      <td>182</td>\n",
       "      <td>WU</td>\n",
       "      <td>38.373661</td>\n",
       "      <td>-6.638756</td>\n",
       "      <td>Ballongo</td>\n",
       "      <td>0</td>\n",
       "      <td>Wami / Ruvu</td>\n",
       "      <td>Milalazi</td>\n",
       "      <td>Pwani</td>\n",
       "      <td>6</td>\n",
       "      <td>1</td>\n",
       "      <td>Bagamoyo</td>\n",
       "      <td>Chalinze</td>\n",
       "      <td>40</td>\n",
       "      <td>False</td>\n",
       "      <td>GeoData Consultants Ltd</td>\n",
       "      <td>WUA</td>\n",
       "      <td>Chalinze wate</td>\n",
       "      <td>True</td>\n",
       "      <td>2006</td>\n",
       "      <td>ksb</td>\n",
       "      <td>submersible</td>\n",
       "      <td>submersible</td>\n",
       "      <td>private operator</td>\n",
       "      <td>commercial</td>\n",
       "      <td>pay per bucket</td>\n",
       "      <td>per bucket</td>\n",
       "      <td>soft</td>\n",
       "      <td>good</td>\n",
       "      <td>enough</td>\n",
       "      <td>enough</td>\n",
       "      <td>river</td>\n",
       "      <td>river/lake</td>\n",
       "      <td>surface</td>\n",
       "      <td>communal standpipe</td>\n",
       "      <td>communal standpipe</td>\n",
       "      <td>functional</td>\n",
       "    </tr>\n",
       "    <tr>\n",
       "      <th>59354</th>\n",
       "      <td>16666</td>\n",
       "      <td>0.0</td>\n",
       "      <td>2011-07</td>\n",
       "      <td>Md</td>\n",
       "      <td>0</td>\n",
       "      <td>DW</td>\n",
       "      <td>31.547474</td>\n",
       "      <td>-1.798378</td>\n",
       "      <td>Kwenye Chama Ch</td>\n",
       "      <td>0</td>\n",
       "      <td>Lake Victoria</td>\n",
       "      <td>Kishoju 1</td>\n",
       "      <td>Kagera</td>\n",
       "      <td>18</td>\n",
       "      <td>3</td>\n",
       "      <td>Muleba</td>\n",
       "      <td>Nshamba</td>\n",
       "      <td>0</td>\n",
       "      <td>True</td>\n",
       "      <td>GeoData Consultants Ltd</td>\n",
       "      <td>VWC</td>\n",
       "      <td>NaN</td>\n",
       "      <td>True</td>\n",
       "      <td>0</td>\n",
       "      <td>ksb</td>\n",
       "      <td>submersible</td>\n",
       "      <td>submersible</td>\n",
       "      <td>vwc</td>\n",
       "      <td>user-group</td>\n",
       "      <td>never pay</td>\n",
       "      <td>never pay</td>\n",
       "      <td>soft</td>\n",
       "      <td>good</td>\n",
       "      <td>enough</td>\n",
       "      <td>enough</td>\n",
       "      <td>spring</td>\n",
       "      <td>spring</td>\n",
       "      <td>groundwater</td>\n",
       "      <td>communal standpipe</td>\n",
       "      <td>communal standpipe</td>\n",
       "      <td>non functional</td>\n",
       "    </tr>\n",
       "    <tr>\n",
       "      <th>59362</th>\n",
       "      <td>18917</td>\n",
       "      <td>0.0</td>\n",
       "      <td>2011-03</td>\n",
       "      <td>Samlo</td>\n",
       "      <td>2190</td>\n",
       "      <td>SHIPO</td>\n",
       "      <td>34.716812</td>\n",
       "      <td>-9.537797</td>\n",
       "      <td>none</td>\n",
       "      <td>0</td>\n",
       "      <td>Lake Nyasa</td>\n",
       "      <td>Mnogelwa</td>\n",
       "      <td>Iringa</td>\n",
       "      <td>11</td>\n",
       "      <td>4</td>\n",
       "      <td>Njombe</td>\n",
       "      <td>Luponde</td>\n",
       "      <td>60</td>\n",
       "      <td>True</td>\n",
       "      <td>GeoData Consultants Ltd</td>\n",
       "      <td>None</td>\n",
       "      <td>NaN</td>\n",
       "      <td>False</td>\n",
       "      <td>2007</td>\n",
       "      <td>other - rope pump</td>\n",
       "      <td>rope pump</td>\n",
       "      <td>rope pump</td>\n",
       "      <td>private operator</td>\n",
       "      <td>commercial</td>\n",
       "      <td>never pay</td>\n",
       "      <td>never pay</td>\n",
       "      <td>soft</td>\n",
       "      <td>good</td>\n",
       "      <td>insufficient</td>\n",
       "      <td>insufficient</td>\n",
       "      <td>shallow well</td>\n",
       "      <td>shallow well</td>\n",
       "      <td>groundwater</td>\n",
       "      <td>hand pump</td>\n",
       "      <td>hand pump</td>\n",
       "      <td>functional</td>\n",
       "    </tr>\n",
       "  </tbody>\n",
       "</table>\n",
       "<p>2469 rows × 41 columns</p>\n",
       "</div>"
      ],
      "text/plain": [
       "          id  amount_tsh date_recorded                   funder  gps_height  \\\n",
       "31      6696        50.0       2011-03       Private Individual         180   \n",
       "45     12958         0.0       2012-10             World Vision           0   \n",
       "66     34255         0.0       2011-02                    Piusi        1788   \n",
       "88     27312        50.0       2011-03       Private Individual         159   \n",
       "92     39920       200.0       2011-03                   Danida          18   \n",
       "...      ...         ...           ...                      ...         ...   \n",
       "59293  45357         0.0       2013-12  Sangea District Council         847   \n",
       "59309  50703        50.0       2013-01                  Makonde         465   \n",
       "59325  52830        50.0       2011-03       Private Individual         182   \n",
       "59354  16666         0.0       2011-07                       Md           0   \n",
       "59362  18917         0.0       2011-03                    Samlo        2190   \n",
       "\n",
       "                  installer  longitude   latitude          wpt_name  \\\n",
       "31                       WU  38.363555  -6.636104  Kituo Cha Maziwa   \n",
       "45             World Vision  33.345260  -3.838998           Shimasa   \n",
       "66                    SHIPO  34.897257  -9.203522         Kwa Piusi   \n",
       "88                       WU  38.353567  -6.638696             Kessy   \n",
       "92                       DA  38.890402  -6.557903            Gedebu   \n",
       "...                     ...        ...        ...               ...   \n",
       "59293  Sangea District Coun  35.798121 -10.725160     Kwa Inglibeth   \n",
       "59309               Makonde  39.423152 -10.873742            Mwinyi   \n",
       "59325                    WU  38.373661  -6.638756          Ballongo   \n",
       "59354                    DW  31.547474  -1.798378   Kwenye Chama Ch   \n",
       "59362                 SHIPO  34.716812  -9.537797              none   \n",
       "\n",
       "       num_private                    basin  subvillage     region  \\\n",
       "31               0              Wami / Ruvu    Kudipera      Pwani   \n",
       "45               0                 Internal   Isenegeja  Shinyanga   \n",
       "66               0                   Rufiji    Mahalule     Iringa   \n",
       "88               0              Wami / Ruvu     Magwila      Pwani   \n",
       "92               0              Wami / Ruvu       Shule      Pwani   \n",
       "...            ...                      ...         ...        ...   \n",
       "59293            0  Ruvuma / Southern Coast  Nanyimbo B     Ruvuma   \n",
       "59309            0  Ruvuma / Southern Coast      Mwinyi     Mtwara   \n",
       "59325            0              Wami / Ruvu    Milalazi      Pwani   \n",
       "59354            0            Lake Victoria   Kishoju 1     Kagera   \n",
       "59362            0               Lake Nyasa    Mnogelwa     Iringa   \n",
       "\n",
       "       region_code  district_code              lga      ward  population  \\\n",
       "31               6              1         Bagamoyo  Chalinze         150   \n",
       "45              17              3  Shinyanga Rural    Samuye           0   \n",
       "66              11              4           Njombe     Ikuka          50   \n",
       "88               6              1         Bagamoyo  Chalinze          20   \n",
       "92               6              1         Bagamoyo    Kiromo          40   \n",
       "...            ...            ...              ...       ...         ...   \n",
       "59293           10              2     Songea Rural  Matimira           0   \n",
       "59309            9              4       Tandahimba    Mahuta         860   \n",
       "59325            6              1         Bagamoyo  Chalinze          40   \n",
       "59354           18              3           Muleba   Nshamba           0   \n",
       "59362           11              4           Njombe   Luponde          60   \n",
       "\n",
       "      public_meeting              recorded_by scheme_management  \\\n",
       "31             False  GeoData Consultants Ltd               WUA   \n",
       "45              True  GeoData Consultants Ltd               WUG   \n",
       "66              True  GeoData Consultants Ltd  Private operator   \n",
       "88             False  GeoData Consultants Ltd               WUA   \n",
       "92              True  GeoData Consultants Ltd           Company   \n",
       "...              ...                      ...               ...   \n",
       "59293           True  GeoData Consultants Ltd               VWC   \n",
       "59309           True  GeoData Consultants Ltd       Water Board   \n",
       "59325          False  GeoData Consultants Ltd               WUA   \n",
       "59354           True  GeoData Consultants Ltd               VWC   \n",
       "59362           True  GeoData Consultants Ltd              None   \n",
       "\n",
       "         scheme_name  permit  construction_year    extraction_type  \\\n",
       "31     Chalinze wate    True               2004                ksb   \n",
       "45           SHIMASA    True                  0           windmill   \n",
       "66               NaN    True               2010  other - rope pump   \n",
       "88     Chalinze wate    True               2008                ksb   \n",
       "92     Bagamoyo wate    True               1987                ksb   \n",
       "...              ...     ...                ...                ...   \n",
       "59293            NaN    True               2002  other - rope pump   \n",
       "59309         Mahuta    True               1972                ksb   \n",
       "59325  Chalinze wate    True               2006                ksb   \n",
       "59354            NaN    True                  0                ksb   \n",
       "59362            NaN   False               2007  other - rope pump   \n",
       "\n",
       "      extraction_type_group extraction_type_class        management  \\\n",
       "31              submersible           submersible  private operator   \n",
       "45             wind-powered          wind-powered               wug   \n",
       "66                rope pump             rope pump  private operator   \n",
       "88              submersible           submersible  private operator   \n",
       "92              submersible           submersible               vwc   \n",
       "...                     ...                   ...               ...   \n",
       "59293             rope pump             rope pump               vwc   \n",
       "59309           submersible           submersible       water board   \n",
       "59325           submersible           submersible  private operator   \n",
       "59354           submersible           submersible               vwc   \n",
       "59362             rope pump             rope pump  private operator   \n",
       "\n",
       "      management_group                payment payment_type water_quality  \\\n",
       "31          commercial         pay per bucket   per bucket          soft   \n",
       "45          user-group  pay when scheme fails   on failure          soft   \n",
       "66          commercial              never pay    never pay          soft   \n",
       "88          commercial         pay per bucket   per bucket          soft   \n",
       "92          user-group            pay monthly      monthly          soft   \n",
       "...                ...                    ...          ...           ...   \n",
       "59293       user-group              never pay    never pay          soft   \n",
       "59309       user-group         pay per bucket   per bucket          soft   \n",
       "59325       commercial         pay per bucket   per bucket          soft   \n",
       "59354       user-group              never pay    never pay          soft   \n",
       "59362       commercial              never pay    never pay          soft   \n",
       "\n",
       "      quality_group      quantity quantity_group        source   source_type  \\\n",
       "31             good        enough         enough         river    river/lake   \n",
       "45             good        enough         enough   machine dbh      borehole   \n",
       "66             good        enough         enough      hand dtw      borehole   \n",
       "88             good        enough         enough         river    river/lake   \n",
       "92             good        enough         enough         river    river/lake   \n",
       "...             ...           ...            ...           ...           ...   \n",
       "59293          good           dry            dry  shallow well  shallow well   \n",
       "59309          good      seasonal       seasonal        spring        spring   \n",
       "59325          good        enough         enough         river    river/lake   \n",
       "59354          good        enough         enough        spring        spring   \n",
       "59362          good  insufficient   insufficient  shallow well  shallow well   \n",
       "\n",
       "      source_class     waterpoint_type waterpoint_type_group    status_group  \n",
       "31         surface  communal standpipe    communal standpipe      functional  \n",
       "45     groundwater  communal standpipe    communal standpipe  non functional  \n",
       "66     groundwater           hand pump             hand pump      functional  \n",
       "88         surface  communal standpipe    communal standpipe  non functional  \n",
       "92         surface  communal standpipe    communal standpipe  non functional  \n",
       "...            ...                 ...                   ...             ...  \n",
       "59293  groundwater           hand pump             hand pump  non functional  \n",
       "59309  groundwater  communal standpipe    communal standpipe      functional  \n",
       "59325      surface  communal standpipe    communal standpipe      functional  \n",
       "59354  groundwater  communal standpipe    communal standpipe  non functional  \n",
       "59362  groundwater           hand pump             hand pump      functional  \n",
       "\n",
       "[2469 rows x 41 columns]"
      ]
     },
     "execution_count": 29,
     "metadata": {},
     "output_type": "execute_result"
    }
   ],
   "source": [
    "Full_data[Full_data['extraction_type'] != Full_data['extraction_type_group']]"
   ]
  },
  {
   "cell_type": "code",
   "execution_count": 30,
   "metadata": {
    "ExecuteTime": {
     "end_time": "2021-01-02T00:46:06.400002Z",
     "start_time": "2021-01-02T00:46:06.252404Z"
    },
    "hidden": true
   },
   "outputs": [
    {
     "data": {
      "text/html": [
       "<div>\n",
       "<style scoped>\n",
       "    .dataframe tbody tr th:only-of-type {\n",
       "        vertical-align: middle;\n",
       "    }\n",
       "\n",
       "    .dataframe tbody tr th {\n",
       "        vertical-align: top;\n",
       "    }\n",
       "\n",
       "    .dataframe thead th {\n",
       "        text-align: right;\n",
       "    }\n",
       "</style>\n",
       "<table border=\"1\" class=\"dataframe\">\n",
       "  <thead>\n",
       "    <tr style=\"text-align: right;\">\n",
       "      <th></th>\n",
       "      <th>id</th>\n",
       "      <th>amount_tsh</th>\n",
       "      <th>date_recorded</th>\n",
       "      <th>funder</th>\n",
       "      <th>gps_height</th>\n",
       "      <th>installer</th>\n",
       "      <th>longitude</th>\n",
       "      <th>latitude</th>\n",
       "      <th>wpt_name</th>\n",
       "      <th>num_private</th>\n",
       "      <th>basin</th>\n",
       "      <th>subvillage</th>\n",
       "      <th>region</th>\n",
       "      <th>region_code</th>\n",
       "      <th>district_code</th>\n",
       "      <th>lga</th>\n",
       "      <th>ward</th>\n",
       "      <th>population</th>\n",
       "      <th>public_meeting</th>\n",
       "      <th>recorded_by</th>\n",
       "      <th>scheme_management</th>\n",
       "      <th>scheme_name</th>\n",
       "      <th>permit</th>\n",
       "      <th>construction_year</th>\n",
       "      <th>extraction_type</th>\n",
       "      <th>extraction_type_group</th>\n",
       "      <th>extraction_type_class</th>\n",
       "      <th>management</th>\n",
       "      <th>management_group</th>\n",
       "      <th>payment</th>\n",
       "      <th>payment_type</th>\n",
       "      <th>water_quality</th>\n",
       "      <th>quality_group</th>\n",
       "      <th>quantity</th>\n",
       "      <th>quantity_group</th>\n",
       "      <th>source</th>\n",
       "      <th>source_type</th>\n",
       "      <th>source_class</th>\n",
       "      <th>waterpoint_type</th>\n",
       "      <th>waterpoint_type_group</th>\n",
       "      <th>status_group</th>\n",
       "    </tr>\n",
       "  </thead>\n",
       "  <tbody>\n",
       "    <tr>\n",
       "      <th>6</th>\n",
       "      <td>19816</td>\n",
       "      <td>0.0</td>\n",
       "      <td>2012-10</td>\n",
       "      <td>Dwsp</td>\n",
       "      <td>0</td>\n",
       "      <td>DWSP</td>\n",
       "      <td>33.362410</td>\n",
       "      <td>-3.766365</td>\n",
       "      <td>Kwa Ngomho</td>\n",
       "      <td>0</td>\n",
       "      <td>Internal</td>\n",
       "      <td>Ishinabulandi</td>\n",
       "      <td>Shinyanga</td>\n",
       "      <td>17</td>\n",
       "      <td>3</td>\n",
       "      <td>Shinyanga Rural</td>\n",
       "      <td>Samuye</td>\n",
       "      <td>0</td>\n",
       "      <td>True</td>\n",
       "      <td>GeoData Consultants Ltd</td>\n",
       "      <td>VWC</td>\n",
       "      <td>NaN</td>\n",
       "      <td>True</td>\n",
       "      <td>0</td>\n",
       "      <td>swn 80</td>\n",
       "      <td>swn 80</td>\n",
       "      <td>handpump</td>\n",
       "      <td>vwc</td>\n",
       "      <td>user-group</td>\n",
       "      <td>never pay</td>\n",
       "      <td>never pay</td>\n",
       "      <td>soft</td>\n",
       "      <td>good</td>\n",
       "      <td>enough</td>\n",
       "      <td>enough</td>\n",
       "      <td>machine dbh</td>\n",
       "      <td>borehole</td>\n",
       "      <td>groundwater</td>\n",
       "      <td>hand pump</td>\n",
       "      <td>hand pump</td>\n",
       "      <td>non functional</td>\n",
       "    </tr>\n",
       "    <tr>\n",
       "      <th>7</th>\n",
       "      <td>54551</td>\n",
       "      <td>0.0</td>\n",
       "      <td>2012-10</td>\n",
       "      <td>Rwssp</td>\n",
       "      <td>0</td>\n",
       "      <td>DWE</td>\n",
       "      <td>32.620617</td>\n",
       "      <td>-4.226198</td>\n",
       "      <td>Tushirikiane</td>\n",
       "      <td>0</td>\n",
       "      <td>Lake Tanganyika</td>\n",
       "      <td>Nyawishi Center</td>\n",
       "      <td>Shinyanga</td>\n",
       "      <td>17</td>\n",
       "      <td>3</td>\n",
       "      <td>Kahama</td>\n",
       "      <td>Chambo</td>\n",
       "      <td>0</td>\n",
       "      <td>True</td>\n",
       "      <td>GeoData Consultants Ltd</td>\n",
       "      <td>None</td>\n",
       "      <td>NaN</td>\n",
       "      <td>True</td>\n",
       "      <td>0</td>\n",
       "      <td>nira/tanira</td>\n",
       "      <td>nira/tanira</td>\n",
       "      <td>handpump</td>\n",
       "      <td>wug</td>\n",
       "      <td>user-group</td>\n",
       "      <td>unknown</td>\n",
       "      <td>unknown</td>\n",
       "      <td>milky</td>\n",
       "      <td>milky</td>\n",
       "      <td>enough</td>\n",
       "      <td>enough</td>\n",
       "      <td>shallow well</td>\n",
       "      <td>shallow well</td>\n",
       "      <td>groundwater</td>\n",
       "      <td>hand pump</td>\n",
       "      <td>hand pump</td>\n",
       "      <td>non functional</td>\n",
       "    </tr>\n",
       "    <tr>\n",
       "      <th>8</th>\n",
       "      <td>53934</td>\n",
       "      <td>0.0</td>\n",
       "      <td>2012-11</td>\n",
       "      <td>Wateraid</td>\n",
       "      <td>0</td>\n",
       "      <td>Water Aid</td>\n",
       "      <td>32.711100</td>\n",
       "      <td>-5.146712</td>\n",
       "      <td>Kwa Ramadhan Musa</td>\n",
       "      <td>0</td>\n",
       "      <td>Lake Tanganyika</td>\n",
       "      <td>Imalauduki</td>\n",
       "      <td>Tabora</td>\n",
       "      <td>14</td>\n",
       "      <td>6</td>\n",
       "      <td>Tabora Urban</td>\n",
       "      <td>Itetemia</td>\n",
       "      <td>0</td>\n",
       "      <td>True</td>\n",
       "      <td>GeoData Consultants Ltd</td>\n",
       "      <td>VWC</td>\n",
       "      <td>NaN</td>\n",
       "      <td>True</td>\n",
       "      <td>0</td>\n",
       "      <td>india mark ii</td>\n",
       "      <td>india mark ii</td>\n",
       "      <td>handpump</td>\n",
       "      <td>vwc</td>\n",
       "      <td>user-group</td>\n",
       "      <td>never pay</td>\n",
       "      <td>never pay</td>\n",
       "      <td>salty</td>\n",
       "      <td>salty</td>\n",
       "      <td>seasonal</td>\n",
       "      <td>seasonal</td>\n",
       "      <td>machine dbh</td>\n",
       "      <td>borehole</td>\n",
       "      <td>groundwater</td>\n",
       "      <td>hand pump</td>\n",
       "      <td>hand pump</td>\n",
       "      <td>non functional</td>\n",
       "    </tr>\n",
       "    <tr>\n",
       "      <th>9</th>\n",
       "      <td>46144</td>\n",
       "      <td>0.0</td>\n",
       "      <td>2011-08</td>\n",
       "      <td>Isingiro Ho</td>\n",
       "      <td>0</td>\n",
       "      <td>Artisan</td>\n",
       "      <td>30.626991</td>\n",
       "      <td>-1.257051</td>\n",
       "      <td>Kwapeto</td>\n",
       "      <td>0</td>\n",
       "      <td>Lake Victoria</td>\n",
       "      <td>Mkonomre</td>\n",
       "      <td>Kagera</td>\n",
       "      <td>18</td>\n",
       "      <td>1</td>\n",
       "      <td>Karagwe</td>\n",
       "      <td>Kaisho</td>\n",
       "      <td>0</td>\n",
       "      <td>True</td>\n",
       "      <td>GeoData Consultants Ltd</td>\n",
       "      <td>None</td>\n",
       "      <td>NaN</td>\n",
       "      <td>True</td>\n",
       "      <td>0</td>\n",
       "      <td>nira/tanira</td>\n",
       "      <td>nira/tanira</td>\n",
       "      <td>handpump</td>\n",
       "      <td>vwc</td>\n",
       "      <td>user-group</td>\n",
       "      <td>never pay</td>\n",
       "      <td>never pay</td>\n",
       "      <td>soft</td>\n",
       "      <td>good</td>\n",
       "      <td>enough</td>\n",
       "      <td>enough</td>\n",
       "      <td>shallow well</td>\n",
       "      <td>shallow well</td>\n",
       "      <td>groundwater</td>\n",
       "      <td>hand pump</td>\n",
       "      <td>hand pump</td>\n",
       "      <td>functional</td>\n",
       "    </tr>\n",
       "    <tr>\n",
       "      <th>11</th>\n",
       "      <td>50409</td>\n",
       "      <td>200.0</td>\n",
       "      <td>2013-02</td>\n",
       "      <td>Danida</td>\n",
       "      <td>1062</td>\n",
       "      <td>DANIDA</td>\n",
       "      <td>35.770258</td>\n",
       "      <td>-10.574175</td>\n",
       "      <td>Kwa Alid Nchimbi</td>\n",
       "      <td>0</td>\n",
       "      <td>Lake Nyasa</td>\n",
       "      <td>Ngondombwito</td>\n",
       "      <td>Ruvuma</td>\n",
       "      <td>10</td>\n",
       "      <td>5</td>\n",
       "      <td>Namtumbo</td>\n",
       "      <td>Msindo</td>\n",
       "      <td>250</td>\n",
       "      <td>True</td>\n",
       "      <td>GeoData Consultants Ltd</td>\n",
       "      <td>WUG</td>\n",
       "      <td>NaN</td>\n",
       "      <td>False</td>\n",
       "      <td>1987</td>\n",
       "      <td>swn 80</td>\n",
       "      <td>swn 80</td>\n",
       "      <td>handpump</td>\n",
       "      <td>wug</td>\n",
       "      <td>user-group</td>\n",
       "      <td>pay when scheme fails</td>\n",
       "      <td>on failure</td>\n",
       "      <td>soft</td>\n",
       "      <td>good</td>\n",
       "      <td>insufficient</td>\n",
       "      <td>insufficient</td>\n",
       "      <td>shallow well</td>\n",
       "      <td>shallow well</td>\n",
       "      <td>groundwater</td>\n",
       "      <td>hand pump</td>\n",
       "      <td>hand pump</td>\n",
       "      <td>functional</td>\n",
       "    </tr>\n",
       "    <tr>\n",
       "      <th>...</th>\n",
       "      <td>...</td>\n",
       "      <td>...</td>\n",
       "      <td>...</td>\n",
       "      <td>...</td>\n",
       "      <td>...</td>\n",
       "      <td>...</td>\n",
       "      <td>...</td>\n",
       "      <td>...</td>\n",
       "      <td>...</td>\n",
       "      <td>...</td>\n",
       "      <td>...</td>\n",
       "      <td>...</td>\n",
       "      <td>...</td>\n",
       "      <td>...</td>\n",
       "      <td>...</td>\n",
       "      <td>...</td>\n",
       "      <td>...</td>\n",
       "      <td>...</td>\n",
       "      <td>...</td>\n",
       "      <td>...</td>\n",
       "      <td>...</td>\n",
       "      <td>...</td>\n",
       "      <td>...</td>\n",
       "      <td>...</td>\n",
       "      <td>...</td>\n",
       "      <td>...</td>\n",
       "      <td>...</td>\n",
       "      <td>...</td>\n",
       "      <td>...</td>\n",
       "      <td>...</td>\n",
       "      <td>...</td>\n",
       "      <td>...</td>\n",
       "      <td>...</td>\n",
       "      <td>...</td>\n",
       "      <td>...</td>\n",
       "      <td>...</td>\n",
       "      <td>...</td>\n",
       "      <td>...</td>\n",
       "      <td>...</td>\n",
       "      <td>...</td>\n",
       "      <td>...</td>\n",
       "    </tr>\n",
       "    <tr>\n",
       "      <th>59389</th>\n",
       "      <td>30410</td>\n",
       "      <td>0.0</td>\n",
       "      <td>2011-08</td>\n",
       "      <td>Co</td>\n",
       "      <td>783</td>\n",
       "      <td>DWE</td>\n",
       "      <td>30.646486</td>\n",
       "      <td>-7.365418</td>\n",
       "      <td>Sekondari</td>\n",
       "      <td>0</td>\n",
       "      <td>Lake Tanganyika</td>\n",
       "      <td>Itete B</td>\n",
       "      <td>Rukwa</td>\n",
       "      <td>15</td>\n",
       "      <td>3</td>\n",
       "      <td>Nkasi</td>\n",
       "      <td>Kirando</td>\n",
       "      <td>1500</td>\n",
       "      <td>False</td>\n",
       "      <td>GeoData Consultants Ltd</td>\n",
       "      <td>VWC</td>\n",
       "      <td>NaN</td>\n",
       "      <td>False</td>\n",
       "      <td>2009</td>\n",
       "      <td>india mark ii</td>\n",
       "      <td>india mark ii</td>\n",
       "      <td>handpump</td>\n",
       "      <td>vwc</td>\n",
       "      <td>user-group</td>\n",
       "      <td>never pay</td>\n",
       "      <td>never pay</td>\n",
       "      <td>soft</td>\n",
       "      <td>good</td>\n",
       "      <td>enough</td>\n",
       "      <td>enough</td>\n",
       "      <td>machine dbh</td>\n",
       "      <td>borehole</td>\n",
       "      <td>groundwater</td>\n",
       "      <td>hand pump</td>\n",
       "      <td>hand pump</td>\n",
       "      <td>functional</td>\n",
       "    </tr>\n",
       "    <tr>\n",
       "      <th>59390</th>\n",
       "      <td>13677</td>\n",
       "      <td>0.0</td>\n",
       "      <td>2011-08</td>\n",
       "      <td>Rudep</td>\n",
       "      <td>1715</td>\n",
       "      <td>DWE</td>\n",
       "      <td>31.370848</td>\n",
       "      <td>-8.258160</td>\n",
       "      <td>Kwa Mzee Atanas</td>\n",
       "      <td>0</td>\n",
       "      <td>Lake Tanganyika</td>\n",
       "      <td>Kitonto</td>\n",
       "      <td>Rukwa</td>\n",
       "      <td>15</td>\n",
       "      <td>2</td>\n",
       "      <td>Sumbawanga Rural</td>\n",
       "      <td>Mkowe</td>\n",
       "      <td>150</td>\n",
       "      <td>True</td>\n",
       "      <td>GeoData Consultants Ltd</td>\n",
       "      <td>VWC</td>\n",
       "      <td>NaN</td>\n",
       "      <td>False</td>\n",
       "      <td>1991</td>\n",
       "      <td>swn 80</td>\n",
       "      <td>swn 80</td>\n",
       "      <td>handpump</td>\n",
       "      <td>vwc</td>\n",
       "      <td>user-group</td>\n",
       "      <td>never pay</td>\n",
       "      <td>never pay</td>\n",
       "      <td>soft</td>\n",
       "      <td>good</td>\n",
       "      <td>insufficient</td>\n",
       "      <td>insufficient</td>\n",
       "      <td>machine dbh</td>\n",
       "      <td>borehole</td>\n",
       "      <td>groundwater</td>\n",
       "      <td>hand pump</td>\n",
       "      <td>hand pump</td>\n",
       "      <td>functional</td>\n",
       "    </tr>\n",
       "    <tr>\n",
       "      <th>59397</th>\n",
       "      <td>37057</td>\n",
       "      <td>0.0</td>\n",
       "      <td>2011-04</td>\n",
       "      <td>Unknown</td>\n",
       "      <td>0</td>\n",
       "      <td>Unknown</td>\n",
       "      <td>34.017087</td>\n",
       "      <td>-8.750434</td>\n",
       "      <td>Mashine</td>\n",
       "      <td>0</td>\n",
       "      <td>Rufiji</td>\n",
       "      <td>Madungulu</td>\n",
       "      <td>Mbeya</td>\n",
       "      <td>12</td>\n",
       "      <td>7</td>\n",
       "      <td>Mbarali</td>\n",
       "      <td>Chimala</td>\n",
       "      <td>0</td>\n",
       "      <td>True</td>\n",
       "      <td>GeoData Consultants Ltd</td>\n",
       "      <td>VWC</td>\n",
       "      <td>NaN</td>\n",
       "      <td>False</td>\n",
       "      <td>0</td>\n",
       "      <td>swn 80</td>\n",
       "      <td>swn 80</td>\n",
       "      <td>handpump</td>\n",
       "      <td>vwc</td>\n",
       "      <td>user-group</td>\n",
       "      <td>pay monthly</td>\n",
       "      <td>monthly</td>\n",
       "      <td>fluoride</td>\n",
       "      <td>fluoride</td>\n",
       "      <td>enough</td>\n",
       "      <td>enough</td>\n",
       "      <td>machine dbh</td>\n",
       "      <td>borehole</td>\n",
       "      <td>groundwater</td>\n",
       "      <td>hand pump</td>\n",
       "      <td>hand pump</td>\n",
       "      <td>functional</td>\n",
       "    </tr>\n",
       "    <tr>\n",
       "      <th>59398</th>\n",
       "      <td>31282</td>\n",
       "      <td>0.0</td>\n",
       "      <td>2011-03</td>\n",
       "      <td>Malec</td>\n",
       "      <td>0</td>\n",
       "      <td>Musa</td>\n",
       "      <td>35.861315</td>\n",
       "      <td>-6.378573</td>\n",
       "      <td>Mshoro</td>\n",
       "      <td>0</td>\n",
       "      <td>Rufiji</td>\n",
       "      <td>Mwinyi</td>\n",
       "      <td>Dodoma</td>\n",
       "      <td>1</td>\n",
       "      <td>4</td>\n",
       "      <td>Chamwino</td>\n",
       "      <td>Mvumi Makulu</td>\n",
       "      <td>0</td>\n",
       "      <td>True</td>\n",
       "      <td>GeoData Consultants Ltd</td>\n",
       "      <td>VWC</td>\n",
       "      <td>NaN</td>\n",
       "      <td>True</td>\n",
       "      <td>0</td>\n",
       "      <td>nira/tanira</td>\n",
       "      <td>nira/tanira</td>\n",
       "      <td>handpump</td>\n",
       "      <td>vwc</td>\n",
       "      <td>user-group</td>\n",
       "      <td>never pay</td>\n",
       "      <td>never pay</td>\n",
       "      <td>soft</td>\n",
       "      <td>good</td>\n",
       "      <td>insufficient</td>\n",
       "      <td>insufficient</td>\n",
       "      <td>shallow well</td>\n",
       "      <td>shallow well</td>\n",
       "      <td>groundwater</td>\n",
       "      <td>hand pump</td>\n",
       "      <td>hand pump</td>\n",
       "      <td>functional</td>\n",
       "    </tr>\n",
       "    <tr>\n",
       "      <th>59399</th>\n",
       "      <td>26348</td>\n",
       "      <td>0.0</td>\n",
       "      <td>2011-03</td>\n",
       "      <td>World Bank</td>\n",
       "      <td>191</td>\n",
       "      <td>World</td>\n",
       "      <td>38.104048</td>\n",
       "      <td>-6.747464</td>\n",
       "      <td>Kwa Mzee Lugawa</td>\n",
       "      <td>0</td>\n",
       "      <td>Wami / Ruvu</td>\n",
       "      <td>Kikatanyemba</td>\n",
       "      <td>Morogoro</td>\n",
       "      <td>5</td>\n",
       "      <td>2</td>\n",
       "      <td>Morogoro Rural</td>\n",
       "      <td>Ngerengere</td>\n",
       "      <td>150</td>\n",
       "      <td>True</td>\n",
       "      <td>GeoData Consultants Ltd</td>\n",
       "      <td>VWC</td>\n",
       "      <td>NaN</td>\n",
       "      <td>True</td>\n",
       "      <td>2002</td>\n",
       "      <td>nira/tanira</td>\n",
       "      <td>nira/tanira</td>\n",
       "      <td>handpump</td>\n",
       "      <td>vwc</td>\n",
       "      <td>user-group</td>\n",
       "      <td>pay when scheme fails</td>\n",
       "      <td>on failure</td>\n",
       "      <td>salty</td>\n",
       "      <td>salty</td>\n",
       "      <td>enough</td>\n",
       "      <td>enough</td>\n",
       "      <td>shallow well</td>\n",
       "      <td>shallow well</td>\n",
       "      <td>groundwater</td>\n",
       "      <td>hand pump</td>\n",
       "      <td>hand pump</td>\n",
       "      <td>functional</td>\n",
       "    </tr>\n",
       "  </tbody>\n",
       "</table>\n",
       "<p>19443 rows × 41 columns</p>\n",
       "</div>"
      ],
      "text/plain": [
       "          id  amount_tsh date_recorded       funder  gps_height  installer  \\\n",
       "6      19816         0.0       2012-10         Dwsp           0       DWSP   \n",
       "7      54551         0.0       2012-10        Rwssp           0        DWE   \n",
       "8      53934         0.0       2012-11     Wateraid           0  Water Aid   \n",
       "9      46144         0.0       2011-08  Isingiro Ho           0    Artisan   \n",
       "11     50409       200.0       2013-02       Danida        1062     DANIDA   \n",
       "...      ...         ...           ...          ...         ...        ...   \n",
       "59389  30410         0.0       2011-08           Co         783        DWE   \n",
       "59390  13677         0.0       2011-08        Rudep        1715        DWE   \n",
       "59397  37057         0.0       2011-04      Unknown           0    Unknown   \n",
       "59398  31282         0.0       2011-03        Malec           0       Musa   \n",
       "59399  26348         0.0       2011-03   World Bank         191      World   \n",
       "\n",
       "       longitude   latitude           wpt_name  num_private            basin  \\\n",
       "6      33.362410  -3.766365         Kwa Ngomho            0         Internal   \n",
       "7      32.620617  -4.226198       Tushirikiane            0  Lake Tanganyika   \n",
       "8      32.711100  -5.146712  Kwa Ramadhan Musa            0  Lake Tanganyika   \n",
       "9      30.626991  -1.257051            Kwapeto            0    Lake Victoria   \n",
       "11     35.770258 -10.574175   Kwa Alid Nchimbi            0       Lake Nyasa   \n",
       "...          ...        ...                ...          ...              ...   \n",
       "59389  30.646486  -7.365418          Sekondari            0  Lake Tanganyika   \n",
       "59390  31.370848  -8.258160    Kwa Mzee Atanas            0  Lake Tanganyika   \n",
       "59397  34.017087  -8.750434            Mashine            0           Rufiji   \n",
       "59398  35.861315  -6.378573             Mshoro            0           Rufiji   \n",
       "59399  38.104048  -6.747464    Kwa Mzee Lugawa            0      Wami / Ruvu   \n",
       "\n",
       "            subvillage     region  region_code  district_code  \\\n",
       "6        Ishinabulandi  Shinyanga           17              3   \n",
       "7      Nyawishi Center  Shinyanga           17              3   \n",
       "8           Imalauduki     Tabora           14              6   \n",
       "9             Mkonomre     Kagera           18              1   \n",
       "11        Ngondombwito     Ruvuma           10              5   \n",
       "...                ...        ...          ...            ...   \n",
       "59389          Itete B      Rukwa           15              3   \n",
       "59390          Kitonto      Rukwa           15              2   \n",
       "59397        Madungulu      Mbeya           12              7   \n",
       "59398           Mwinyi     Dodoma            1              4   \n",
       "59399     Kikatanyemba   Morogoro            5              2   \n",
       "\n",
       "                    lga          ward  population public_meeting  \\\n",
       "6       Shinyanga Rural        Samuye           0           True   \n",
       "7                Kahama        Chambo           0           True   \n",
       "8          Tabora Urban      Itetemia           0           True   \n",
       "9               Karagwe        Kaisho           0           True   \n",
       "11             Namtumbo        Msindo         250           True   \n",
       "...                 ...           ...         ...            ...   \n",
       "59389             Nkasi       Kirando        1500          False   \n",
       "59390  Sumbawanga Rural         Mkowe         150           True   \n",
       "59397           Mbarali       Chimala           0           True   \n",
       "59398          Chamwino  Mvumi Makulu           0           True   \n",
       "59399    Morogoro Rural    Ngerengere         150           True   \n",
       "\n",
       "                   recorded_by scheme_management scheme_name  permit  \\\n",
       "6      GeoData Consultants Ltd               VWC         NaN    True   \n",
       "7      GeoData Consultants Ltd              None         NaN    True   \n",
       "8      GeoData Consultants Ltd               VWC         NaN    True   \n",
       "9      GeoData Consultants Ltd              None         NaN    True   \n",
       "11     GeoData Consultants Ltd               WUG         NaN   False   \n",
       "...                        ...               ...         ...     ...   \n",
       "59389  GeoData Consultants Ltd               VWC         NaN   False   \n",
       "59390  GeoData Consultants Ltd               VWC         NaN   False   \n",
       "59397  GeoData Consultants Ltd               VWC         NaN   False   \n",
       "59398  GeoData Consultants Ltd               VWC         NaN    True   \n",
       "59399  GeoData Consultants Ltd               VWC         NaN    True   \n",
       "\n",
       "       construction_year extraction_type extraction_type_group  \\\n",
       "6                      0          swn 80                swn 80   \n",
       "7                      0     nira/tanira           nira/tanira   \n",
       "8                      0   india mark ii         india mark ii   \n",
       "9                      0     nira/tanira           nira/tanira   \n",
       "11                  1987          swn 80                swn 80   \n",
       "...                  ...             ...                   ...   \n",
       "59389               2009   india mark ii         india mark ii   \n",
       "59390               1991          swn 80                swn 80   \n",
       "59397                  0          swn 80                swn 80   \n",
       "59398                  0     nira/tanira           nira/tanira   \n",
       "59399               2002     nira/tanira           nira/tanira   \n",
       "\n",
       "      extraction_type_class management management_group  \\\n",
       "6                  handpump        vwc       user-group   \n",
       "7                  handpump        wug       user-group   \n",
       "8                  handpump        vwc       user-group   \n",
       "9                  handpump        vwc       user-group   \n",
       "11                 handpump        wug       user-group   \n",
       "...                     ...        ...              ...   \n",
       "59389              handpump        vwc       user-group   \n",
       "59390              handpump        vwc       user-group   \n",
       "59397              handpump        vwc       user-group   \n",
       "59398              handpump        vwc       user-group   \n",
       "59399              handpump        vwc       user-group   \n",
       "\n",
       "                     payment payment_type water_quality quality_group  \\\n",
       "6                  never pay    never pay          soft          good   \n",
       "7                    unknown      unknown         milky         milky   \n",
       "8                  never pay    never pay         salty         salty   \n",
       "9                  never pay    never pay          soft          good   \n",
       "11     pay when scheme fails   on failure          soft          good   \n",
       "...                      ...          ...           ...           ...   \n",
       "59389              never pay    never pay          soft          good   \n",
       "59390              never pay    never pay          soft          good   \n",
       "59397            pay monthly      monthly      fluoride      fluoride   \n",
       "59398              never pay    never pay          soft          good   \n",
       "59399  pay when scheme fails   on failure         salty         salty   \n",
       "\n",
       "           quantity quantity_group        source   source_type source_class  \\\n",
       "6            enough         enough   machine dbh      borehole  groundwater   \n",
       "7            enough         enough  shallow well  shallow well  groundwater   \n",
       "8          seasonal       seasonal   machine dbh      borehole  groundwater   \n",
       "9            enough         enough  shallow well  shallow well  groundwater   \n",
       "11     insufficient   insufficient  shallow well  shallow well  groundwater   \n",
       "...             ...            ...           ...           ...          ...   \n",
       "59389        enough         enough   machine dbh      borehole  groundwater   \n",
       "59390  insufficient   insufficient   machine dbh      borehole  groundwater   \n",
       "59397        enough         enough   machine dbh      borehole  groundwater   \n",
       "59398  insufficient   insufficient  shallow well  shallow well  groundwater   \n",
       "59399        enough         enough  shallow well  shallow well  groundwater   \n",
       "\n",
       "      waterpoint_type waterpoint_type_group    status_group  \n",
       "6           hand pump             hand pump  non functional  \n",
       "7           hand pump             hand pump  non functional  \n",
       "8           hand pump             hand pump  non functional  \n",
       "9           hand pump             hand pump      functional  \n",
       "11          hand pump             hand pump      functional  \n",
       "...               ...                   ...             ...  \n",
       "59389       hand pump             hand pump      functional  \n",
       "59390       hand pump             hand pump      functional  \n",
       "59397       hand pump             hand pump      functional  \n",
       "59398       hand pump             hand pump      functional  \n",
       "59399       hand pump             hand pump      functional  \n",
       "\n",
       "[19443 rows x 41 columns]"
      ]
     },
     "execution_count": 30,
     "metadata": {},
     "output_type": "execute_result"
    }
   ],
   "source": [
    "Full_data[Full_data['extraction_type_group'] != Full_data['extraction_type_class']]"
   ]
  },
  {
   "cell_type": "code",
   "execution_count": 31,
   "metadata": {
    "ExecuteTime": {
     "end_time": "2021-01-02T00:46:06.538294Z",
     "start_time": "2021-01-02T00:46:06.406963Z"
    },
    "hidden": true
   },
   "outputs": [
    {
     "data": {
      "text/html": [
       "<div>\n",
       "<style scoped>\n",
       "    .dataframe tbody tr th:only-of-type {\n",
       "        vertical-align: middle;\n",
       "    }\n",
       "\n",
       "    .dataframe tbody tr th {\n",
       "        vertical-align: top;\n",
       "    }\n",
       "\n",
       "    .dataframe thead th {\n",
       "        text-align: right;\n",
       "    }\n",
       "</style>\n",
       "<table border=\"1\" class=\"dataframe\">\n",
       "  <thead>\n",
       "    <tr style=\"text-align: right;\">\n",
       "      <th></th>\n",
       "      <th>id</th>\n",
       "      <th>amount_tsh</th>\n",
       "      <th>date_recorded</th>\n",
       "      <th>funder</th>\n",
       "      <th>gps_height</th>\n",
       "      <th>installer</th>\n",
       "      <th>longitude</th>\n",
       "      <th>latitude</th>\n",
       "      <th>wpt_name</th>\n",
       "      <th>num_private</th>\n",
       "      <th>basin</th>\n",
       "      <th>subvillage</th>\n",
       "      <th>region</th>\n",
       "      <th>region_code</th>\n",
       "      <th>district_code</th>\n",
       "      <th>lga</th>\n",
       "      <th>ward</th>\n",
       "      <th>population</th>\n",
       "      <th>public_meeting</th>\n",
       "      <th>recorded_by</th>\n",
       "      <th>scheme_management</th>\n",
       "      <th>scheme_name</th>\n",
       "      <th>permit</th>\n",
       "      <th>construction_year</th>\n",
       "      <th>extraction_type</th>\n",
       "      <th>extraction_type_group</th>\n",
       "      <th>extraction_type_class</th>\n",
       "      <th>management</th>\n",
       "      <th>management_group</th>\n",
       "      <th>payment</th>\n",
       "      <th>payment_type</th>\n",
       "      <th>water_quality</th>\n",
       "      <th>quality_group</th>\n",
       "      <th>quantity</th>\n",
       "      <th>quantity_group</th>\n",
       "      <th>source</th>\n",
       "      <th>source_type</th>\n",
       "      <th>source_class</th>\n",
       "      <th>waterpoint_type</th>\n",
       "      <th>waterpoint_type_group</th>\n",
       "      <th>status_group</th>\n",
       "    </tr>\n",
       "  </thead>\n",
       "  <tbody>\n",
       "    <tr>\n",
       "      <th>6</th>\n",
       "      <td>19816</td>\n",
       "      <td>0.0</td>\n",
       "      <td>2012-10</td>\n",
       "      <td>Dwsp</td>\n",
       "      <td>0</td>\n",
       "      <td>DWSP</td>\n",
       "      <td>33.362410</td>\n",
       "      <td>-3.766365</td>\n",
       "      <td>Kwa Ngomho</td>\n",
       "      <td>0</td>\n",
       "      <td>Internal</td>\n",
       "      <td>Ishinabulandi</td>\n",
       "      <td>Shinyanga</td>\n",
       "      <td>17</td>\n",
       "      <td>3</td>\n",
       "      <td>Shinyanga Rural</td>\n",
       "      <td>Samuye</td>\n",
       "      <td>0</td>\n",
       "      <td>True</td>\n",
       "      <td>GeoData Consultants Ltd</td>\n",
       "      <td>VWC</td>\n",
       "      <td>NaN</td>\n",
       "      <td>True</td>\n",
       "      <td>0</td>\n",
       "      <td>swn 80</td>\n",
       "      <td>swn 80</td>\n",
       "      <td>handpump</td>\n",
       "      <td>vwc</td>\n",
       "      <td>user-group</td>\n",
       "      <td>never pay</td>\n",
       "      <td>never pay</td>\n",
       "      <td>soft</td>\n",
       "      <td>good</td>\n",
       "      <td>enough</td>\n",
       "      <td>enough</td>\n",
       "      <td>machine dbh</td>\n",
       "      <td>borehole</td>\n",
       "      <td>groundwater</td>\n",
       "      <td>hand pump</td>\n",
       "      <td>hand pump</td>\n",
       "      <td>non functional</td>\n",
       "    </tr>\n",
       "    <tr>\n",
       "      <th>7</th>\n",
       "      <td>54551</td>\n",
       "      <td>0.0</td>\n",
       "      <td>2012-10</td>\n",
       "      <td>Rwssp</td>\n",
       "      <td>0</td>\n",
       "      <td>DWE</td>\n",
       "      <td>32.620617</td>\n",
       "      <td>-4.226198</td>\n",
       "      <td>Tushirikiane</td>\n",
       "      <td>0</td>\n",
       "      <td>Lake Tanganyika</td>\n",
       "      <td>Nyawishi Center</td>\n",
       "      <td>Shinyanga</td>\n",
       "      <td>17</td>\n",
       "      <td>3</td>\n",
       "      <td>Kahama</td>\n",
       "      <td>Chambo</td>\n",
       "      <td>0</td>\n",
       "      <td>True</td>\n",
       "      <td>GeoData Consultants Ltd</td>\n",
       "      <td>None</td>\n",
       "      <td>NaN</td>\n",
       "      <td>True</td>\n",
       "      <td>0</td>\n",
       "      <td>nira/tanira</td>\n",
       "      <td>nira/tanira</td>\n",
       "      <td>handpump</td>\n",
       "      <td>wug</td>\n",
       "      <td>user-group</td>\n",
       "      <td>unknown</td>\n",
       "      <td>unknown</td>\n",
       "      <td>milky</td>\n",
       "      <td>milky</td>\n",
       "      <td>enough</td>\n",
       "      <td>enough</td>\n",
       "      <td>shallow well</td>\n",
       "      <td>shallow well</td>\n",
       "      <td>groundwater</td>\n",
       "      <td>hand pump</td>\n",
       "      <td>hand pump</td>\n",
       "      <td>non functional</td>\n",
       "    </tr>\n",
       "    <tr>\n",
       "      <th>8</th>\n",
       "      <td>53934</td>\n",
       "      <td>0.0</td>\n",
       "      <td>2012-11</td>\n",
       "      <td>Wateraid</td>\n",
       "      <td>0</td>\n",
       "      <td>Water Aid</td>\n",
       "      <td>32.711100</td>\n",
       "      <td>-5.146712</td>\n",
       "      <td>Kwa Ramadhan Musa</td>\n",
       "      <td>0</td>\n",
       "      <td>Lake Tanganyika</td>\n",
       "      <td>Imalauduki</td>\n",
       "      <td>Tabora</td>\n",
       "      <td>14</td>\n",
       "      <td>6</td>\n",
       "      <td>Tabora Urban</td>\n",
       "      <td>Itetemia</td>\n",
       "      <td>0</td>\n",
       "      <td>True</td>\n",
       "      <td>GeoData Consultants Ltd</td>\n",
       "      <td>VWC</td>\n",
       "      <td>NaN</td>\n",
       "      <td>True</td>\n",
       "      <td>0</td>\n",
       "      <td>india mark ii</td>\n",
       "      <td>india mark ii</td>\n",
       "      <td>handpump</td>\n",
       "      <td>vwc</td>\n",
       "      <td>user-group</td>\n",
       "      <td>never pay</td>\n",
       "      <td>never pay</td>\n",
       "      <td>salty</td>\n",
       "      <td>salty</td>\n",
       "      <td>seasonal</td>\n",
       "      <td>seasonal</td>\n",
       "      <td>machine dbh</td>\n",
       "      <td>borehole</td>\n",
       "      <td>groundwater</td>\n",
       "      <td>hand pump</td>\n",
       "      <td>hand pump</td>\n",
       "      <td>non functional</td>\n",
       "    </tr>\n",
       "    <tr>\n",
       "      <th>9</th>\n",
       "      <td>46144</td>\n",
       "      <td>0.0</td>\n",
       "      <td>2011-08</td>\n",
       "      <td>Isingiro Ho</td>\n",
       "      <td>0</td>\n",
       "      <td>Artisan</td>\n",
       "      <td>30.626991</td>\n",
       "      <td>-1.257051</td>\n",
       "      <td>Kwapeto</td>\n",
       "      <td>0</td>\n",
       "      <td>Lake Victoria</td>\n",
       "      <td>Mkonomre</td>\n",
       "      <td>Kagera</td>\n",
       "      <td>18</td>\n",
       "      <td>1</td>\n",
       "      <td>Karagwe</td>\n",
       "      <td>Kaisho</td>\n",
       "      <td>0</td>\n",
       "      <td>True</td>\n",
       "      <td>GeoData Consultants Ltd</td>\n",
       "      <td>None</td>\n",
       "      <td>NaN</td>\n",
       "      <td>True</td>\n",
       "      <td>0</td>\n",
       "      <td>nira/tanira</td>\n",
       "      <td>nira/tanira</td>\n",
       "      <td>handpump</td>\n",
       "      <td>vwc</td>\n",
       "      <td>user-group</td>\n",
       "      <td>never pay</td>\n",
       "      <td>never pay</td>\n",
       "      <td>soft</td>\n",
       "      <td>good</td>\n",
       "      <td>enough</td>\n",
       "      <td>enough</td>\n",
       "      <td>shallow well</td>\n",
       "      <td>shallow well</td>\n",
       "      <td>groundwater</td>\n",
       "      <td>hand pump</td>\n",
       "      <td>hand pump</td>\n",
       "      <td>functional</td>\n",
       "    </tr>\n",
       "    <tr>\n",
       "      <th>11</th>\n",
       "      <td>50409</td>\n",
       "      <td>200.0</td>\n",
       "      <td>2013-02</td>\n",
       "      <td>Danida</td>\n",
       "      <td>1062</td>\n",
       "      <td>DANIDA</td>\n",
       "      <td>35.770258</td>\n",
       "      <td>-10.574175</td>\n",
       "      <td>Kwa Alid Nchimbi</td>\n",
       "      <td>0</td>\n",
       "      <td>Lake Nyasa</td>\n",
       "      <td>Ngondombwito</td>\n",
       "      <td>Ruvuma</td>\n",
       "      <td>10</td>\n",
       "      <td>5</td>\n",
       "      <td>Namtumbo</td>\n",
       "      <td>Msindo</td>\n",
       "      <td>250</td>\n",
       "      <td>True</td>\n",
       "      <td>GeoData Consultants Ltd</td>\n",
       "      <td>WUG</td>\n",
       "      <td>NaN</td>\n",
       "      <td>False</td>\n",
       "      <td>1987</td>\n",
       "      <td>swn 80</td>\n",
       "      <td>swn 80</td>\n",
       "      <td>handpump</td>\n",
       "      <td>wug</td>\n",
       "      <td>user-group</td>\n",
       "      <td>pay when scheme fails</td>\n",
       "      <td>on failure</td>\n",
       "      <td>soft</td>\n",
       "      <td>good</td>\n",
       "      <td>insufficient</td>\n",
       "      <td>insufficient</td>\n",
       "      <td>shallow well</td>\n",
       "      <td>shallow well</td>\n",
       "      <td>groundwater</td>\n",
       "      <td>hand pump</td>\n",
       "      <td>hand pump</td>\n",
       "      <td>functional</td>\n",
       "    </tr>\n",
       "    <tr>\n",
       "      <th>...</th>\n",
       "      <td>...</td>\n",
       "      <td>...</td>\n",
       "      <td>...</td>\n",
       "      <td>...</td>\n",
       "      <td>...</td>\n",
       "      <td>...</td>\n",
       "      <td>...</td>\n",
       "      <td>...</td>\n",
       "      <td>...</td>\n",
       "      <td>...</td>\n",
       "      <td>...</td>\n",
       "      <td>...</td>\n",
       "      <td>...</td>\n",
       "      <td>...</td>\n",
       "      <td>...</td>\n",
       "      <td>...</td>\n",
       "      <td>...</td>\n",
       "      <td>...</td>\n",
       "      <td>...</td>\n",
       "      <td>...</td>\n",
       "      <td>...</td>\n",
       "      <td>...</td>\n",
       "      <td>...</td>\n",
       "      <td>...</td>\n",
       "      <td>...</td>\n",
       "      <td>...</td>\n",
       "      <td>...</td>\n",
       "      <td>...</td>\n",
       "      <td>...</td>\n",
       "      <td>...</td>\n",
       "      <td>...</td>\n",
       "      <td>...</td>\n",
       "      <td>...</td>\n",
       "      <td>...</td>\n",
       "      <td>...</td>\n",
       "      <td>...</td>\n",
       "      <td>...</td>\n",
       "      <td>...</td>\n",
       "      <td>...</td>\n",
       "      <td>...</td>\n",
       "      <td>...</td>\n",
       "    </tr>\n",
       "    <tr>\n",
       "      <th>59389</th>\n",
       "      <td>30410</td>\n",
       "      <td>0.0</td>\n",
       "      <td>2011-08</td>\n",
       "      <td>Co</td>\n",
       "      <td>783</td>\n",
       "      <td>DWE</td>\n",
       "      <td>30.646486</td>\n",
       "      <td>-7.365418</td>\n",
       "      <td>Sekondari</td>\n",
       "      <td>0</td>\n",
       "      <td>Lake Tanganyika</td>\n",
       "      <td>Itete B</td>\n",
       "      <td>Rukwa</td>\n",
       "      <td>15</td>\n",
       "      <td>3</td>\n",
       "      <td>Nkasi</td>\n",
       "      <td>Kirando</td>\n",
       "      <td>1500</td>\n",
       "      <td>False</td>\n",
       "      <td>GeoData Consultants Ltd</td>\n",
       "      <td>VWC</td>\n",
       "      <td>NaN</td>\n",
       "      <td>False</td>\n",
       "      <td>2009</td>\n",
       "      <td>india mark ii</td>\n",
       "      <td>india mark ii</td>\n",
       "      <td>handpump</td>\n",
       "      <td>vwc</td>\n",
       "      <td>user-group</td>\n",
       "      <td>never pay</td>\n",
       "      <td>never pay</td>\n",
       "      <td>soft</td>\n",
       "      <td>good</td>\n",
       "      <td>enough</td>\n",
       "      <td>enough</td>\n",
       "      <td>machine dbh</td>\n",
       "      <td>borehole</td>\n",
       "      <td>groundwater</td>\n",
       "      <td>hand pump</td>\n",
       "      <td>hand pump</td>\n",
       "      <td>functional</td>\n",
       "    </tr>\n",
       "    <tr>\n",
       "      <th>59390</th>\n",
       "      <td>13677</td>\n",
       "      <td>0.0</td>\n",
       "      <td>2011-08</td>\n",
       "      <td>Rudep</td>\n",
       "      <td>1715</td>\n",
       "      <td>DWE</td>\n",
       "      <td>31.370848</td>\n",
       "      <td>-8.258160</td>\n",
       "      <td>Kwa Mzee Atanas</td>\n",
       "      <td>0</td>\n",
       "      <td>Lake Tanganyika</td>\n",
       "      <td>Kitonto</td>\n",
       "      <td>Rukwa</td>\n",
       "      <td>15</td>\n",
       "      <td>2</td>\n",
       "      <td>Sumbawanga Rural</td>\n",
       "      <td>Mkowe</td>\n",
       "      <td>150</td>\n",
       "      <td>True</td>\n",
       "      <td>GeoData Consultants Ltd</td>\n",
       "      <td>VWC</td>\n",
       "      <td>NaN</td>\n",
       "      <td>False</td>\n",
       "      <td>1991</td>\n",
       "      <td>swn 80</td>\n",
       "      <td>swn 80</td>\n",
       "      <td>handpump</td>\n",
       "      <td>vwc</td>\n",
       "      <td>user-group</td>\n",
       "      <td>never pay</td>\n",
       "      <td>never pay</td>\n",
       "      <td>soft</td>\n",
       "      <td>good</td>\n",
       "      <td>insufficient</td>\n",
       "      <td>insufficient</td>\n",
       "      <td>machine dbh</td>\n",
       "      <td>borehole</td>\n",
       "      <td>groundwater</td>\n",
       "      <td>hand pump</td>\n",
       "      <td>hand pump</td>\n",
       "      <td>functional</td>\n",
       "    </tr>\n",
       "    <tr>\n",
       "      <th>59397</th>\n",
       "      <td>37057</td>\n",
       "      <td>0.0</td>\n",
       "      <td>2011-04</td>\n",
       "      <td>Unknown</td>\n",
       "      <td>0</td>\n",
       "      <td>Unknown</td>\n",
       "      <td>34.017087</td>\n",
       "      <td>-8.750434</td>\n",
       "      <td>Mashine</td>\n",
       "      <td>0</td>\n",
       "      <td>Rufiji</td>\n",
       "      <td>Madungulu</td>\n",
       "      <td>Mbeya</td>\n",
       "      <td>12</td>\n",
       "      <td>7</td>\n",
       "      <td>Mbarali</td>\n",
       "      <td>Chimala</td>\n",
       "      <td>0</td>\n",
       "      <td>True</td>\n",
       "      <td>GeoData Consultants Ltd</td>\n",
       "      <td>VWC</td>\n",
       "      <td>NaN</td>\n",
       "      <td>False</td>\n",
       "      <td>0</td>\n",
       "      <td>swn 80</td>\n",
       "      <td>swn 80</td>\n",
       "      <td>handpump</td>\n",
       "      <td>vwc</td>\n",
       "      <td>user-group</td>\n",
       "      <td>pay monthly</td>\n",
       "      <td>monthly</td>\n",
       "      <td>fluoride</td>\n",
       "      <td>fluoride</td>\n",
       "      <td>enough</td>\n",
       "      <td>enough</td>\n",
       "      <td>machine dbh</td>\n",
       "      <td>borehole</td>\n",
       "      <td>groundwater</td>\n",
       "      <td>hand pump</td>\n",
       "      <td>hand pump</td>\n",
       "      <td>functional</td>\n",
       "    </tr>\n",
       "    <tr>\n",
       "      <th>59398</th>\n",
       "      <td>31282</td>\n",
       "      <td>0.0</td>\n",
       "      <td>2011-03</td>\n",
       "      <td>Malec</td>\n",
       "      <td>0</td>\n",
       "      <td>Musa</td>\n",
       "      <td>35.861315</td>\n",
       "      <td>-6.378573</td>\n",
       "      <td>Mshoro</td>\n",
       "      <td>0</td>\n",
       "      <td>Rufiji</td>\n",
       "      <td>Mwinyi</td>\n",
       "      <td>Dodoma</td>\n",
       "      <td>1</td>\n",
       "      <td>4</td>\n",
       "      <td>Chamwino</td>\n",
       "      <td>Mvumi Makulu</td>\n",
       "      <td>0</td>\n",
       "      <td>True</td>\n",
       "      <td>GeoData Consultants Ltd</td>\n",
       "      <td>VWC</td>\n",
       "      <td>NaN</td>\n",
       "      <td>True</td>\n",
       "      <td>0</td>\n",
       "      <td>nira/tanira</td>\n",
       "      <td>nira/tanira</td>\n",
       "      <td>handpump</td>\n",
       "      <td>vwc</td>\n",
       "      <td>user-group</td>\n",
       "      <td>never pay</td>\n",
       "      <td>never pay</td>\n",
       "      <td>soft</td>\n",
       "      <td>good</td>\n",
       "      <td>insufficient</td>\n",
       "      <td>insufficient</td>\n",
       "      <td>shallow well</td>\n",
       "      <td>shallow well</td>\n",
       "      <td>groundwater</td>\n",
       "      <td>hand pump</td>\n",
       "      <td>hand pump</td>\n",
       "      <td>functional</td>\n",
       "    </tr>\n",
       "    <tr>\n",
       "      <th>59399</th>\n",
       "      <td>26348</td>\n",
       "      <td>0.0</td>\n",
       "      <td>2011-03</td>\n",
       "      <td>World Bank</td>\n",
       "      <td>191</td>\n",
       "      <td>World</td>\n",
       "      <td>38.104048</td>\n",
       "      <td>-6.747464</td>\n",
       "      <td>Kwa Mzee Lugawa</td>\n",
       "      <td>0</td>\n",
       "      <td>Wami / Ruvu</td>\n",
       "      <td>Kikatanyemba</td>\n",
       "      <td>Morogoro</td>\n",
       "      <td>5</td>\n",
       "      <td>2</td>\n",
       "      <td>Morogoro Rural</td>\n",
       "      <td>Ngerengere</td>\n",
       "      <td>150</td>\n",
       "      <td>True</td>\n",
       "      <td>GeoData Consultants Ltd</td>\n",
       "      <td>VWC</td>\n",
       "      <td>NaN</td>\n",
       "      <td>True</td>\n",
       "      <td>2002</td>\n",
       "      <td>nira/tanira</td>\n",
       "      <td>nira/tanira</td>\n",
       "      <td>handpump</td>\n",
       "      <td>vwc</td>\n",
       "      <td>user-group</td>\n",
       "      <td>pay when scheme fails</td>\n",
       "      <td>on failure</td>\n",
       "      <td>salty</td>\n",
       "      <td>salty</td>\n",
       "      <td>enough</td>\n",
       "      <td>enough</td>\n",
       "      <td>shallow well</td>\n",
       "      <td>shallow well</td>\n",
       "      <td>groundwater</td>\n",
       "      <td>hand pump</td>\n",
       "      <td>hand pump</td>\n",
       "      <td>functional</td>\n",
       "    </tr>\n",
       "  </tbody>\n",
       "</table>\n",
       "<p>21426 rows × 41 columns</p>\n",
       "</div>"
      ],
      "text/plain": [
       "          id  amount_tsh date_recorded       funder  gps_height  installer  \\\n",
       "6      19816         0.0       2012-10         Dwsp           0       DWSP   \n",
       "7      54551         0.0       2012-10        Rwssp           0        DWE   \n",
       "8      53934         0.0       2012-11     Wateraid           0  Water Aid   \n",
       "9      46144         0.0       2011-08  Isingiro Ho           0    Artisan   \n",
       "11     50409       200.0       2013-02       Danida        1062     DANIDA   \n",
       "...      ...         ...           ...          ...         ...        ...   \n",
       "59389  30410         0.0       2011-08           Co         783        DWE   \n",
       "59390  13677         0.0       2011-08        Rudep        1715        DWE   \n",
       "59397  37057         0.0       2011-04      Unknown           0    Unknown   \n",
       "59398  31282         0.0       2011-03        Malec           0       Musa   \n",
       "59399  26348         0.0       2011-03   World Bank         191      World   \n",
       "\n",
       "       longitude   latitude           wpt_name  num_private            basin  \\\n",
       "6      33.362410  -3.766365         Kwa Ngomho            0         Internal   \n",
       "7      32.620617  -4.226198       Tushirikiane            0  Lake Tanganyika   \n",
       "8      32.711100  -5.146712  Kwa Ramadhan Musa            0  Lake Tanganyika   \n",
       "9      30.626991  -1.257051            Kwapeto            0    Lake Victoria   \n",
       "11     35.770258 -10.574175   Kwa Alid Nchimbi            0       Lake Nyasa   \n",
       "...          ...        ...                ...          ...              ...   \n",
       "59389  30.646486  -7.365418          Sekondari            0  Lake Tanganyika   \n",
       "59390  31.370848  -8.258160    Kwa Mzee Atanas            0  Lake Tanganyika   \n",
       "59397  34.017087  -8.750434            Mashine            0           Rufiji   \n",
       "59398  35.861315  -6.378573             Mshoro            0           Rufiji   \n",
       "59399  38.104048  -6.747464    Kwa Mzee Lugawa            0      Wami / Ruvu   \n",
       "\n",
       "            subvillage     region  region_code  district_code  \\\n",
       "6        Ishinabulandi  Shinyanga           17              3   \n",
       "7      Nyawishi Center  Shinyanga           17              3   \n",
       "8           Imalauduki     Tabora           14              6   \n",
       "9             Mkonomre     Kagera           18              1   \n",
       "11        Ngondombwito     Ruvuma           10              5   \n",
       "...                ...        ...          ...            ...   \n",
       "59389          Itete B      Rukwa           15              3   \n",
       "59390          Kitonto      Rukwa           15              2   \n",
       "59397        Madungulu      Mbeya           12              7   \n",
       "59398           Mwinyi     Dodoma            1              4   \n",
       "59399     Kikatanyemba   Morogoro            5              2   \n",
       "\n",
       "                    lga          ward  population public_meeting  \\\n",
       "6       Shinyanga Rural        Samuye           0           True   \n",
       "7                Kahama        Chambo           0           True   \n",
       "8          Tabora Urban      Itetemia           0           True   \n",
       "9               Karagwe        Kaisho           0           True   \n",
       "11             Namtumbo        Msindo         250           True   \n",
       "...                 ...           ...         ...            ...   \n",
       "59389             Nkasi       Kirando        1500          False   \n",
       "59390  Sumbawanga Rural         Mkowe         150           True   \n",
       "59397           Mbarali       Chimala           0           True   \n",
       "59398          Chamwino  Mvumi Makulu           0           True   \n",
       "59399    Morogoro Rural    Ngerengere         150           True   \n",
       "\n",
       "                   recorded_by scheme_management scheme_name  permit  \\\n",
       "6      GeoData Consultants Ltd               VWC         NaN    True   \n",
       "7      GeoData Consultants Ltd              None         NaN    True   \n",
       "8      GeoData Consultants Ltd               VWC         NaN    True   \n",
       "9      GeoData Consultants Ltd              None         NaN    True   \n",
       "11     GeoData Consultants Ltd               WUG         NaN   False   \n",
       "...                        ...               ...         ...     ...   \n",
       "59389  GeoData Consultants Ltd               VWC         NaN   False   \n",
       "59390  GeoData Consultants Ltd               VWC         NaN   False   \n",
       "59397  GeoData Consultants Ltd               VWC         NaN   False   \n",
       "59398  GeoData Consultants Ltd               VWC         NaN    True   \n",
       "59399  GeoData Consultants Ltd               VWC         NaN    True   \n",
       "\n",
       "       construction_year extraction_type extraction_type_group  \\\n",
       "6                      0          swn 80                swn 80   \n",
       "7                      0     nira/tanira           nira/tanira   \n",
       "8                      0   india mark ii         india mark ii   \n",
       "9                      0     nira/tanira           nira/tanira   \n",
       "11                  1987          swn 80                swn 80   \n",
       "...                  ...             ...                   ...   \n",
       "59389               2009   india mark ii         india mark ii   \n",
       "59390               1991          swn 80                swn 80   \n",
       "59397                  0          swn 80                swn 80   \n",
       "59398                  0     nira/tanira           nira/tanira   \n",
       "59399               2002     nira/tanira           nira/tanira   \n",
       "\n",
       "      extraction_type_class management management_group  \\\n",
       "6                  handpump        vwc       user-group   \n",
       "7                  handpump        wug       user-group   \n",
       "8                  handpump        vwc       user-group   \n",
       "9                  handpump        vwc       user-group   \n",
       "11                 handpump        wug       user-group   \n",
       "...                     ...        ...              ...   \n",
       "59389              handpump        vwc       user-group   \n",
       "59390              handpump        vwc       user-group   \n",
       "59397              handpump        vwc       user-group   \n",
       "59398              handpump        vwc       user-group   \n",
       "59399              handpump        vwc       user-group   \n",
       "\n",
       "                     payment payment_type water_quality quality_group  \\\n",
       "6                  never pay    never pay          soft          good   \n",
       "7                    unknown      unknown         milky         milky   \n",
       "8                  never pay    never pay         salty         salty   \n",
       "9                  never pay    never pay          soft          good   \n",
       "11     pay when scheme fails   on failure          soft          good   \n",
       "...                      ...          ...           ...           ...   \n",
       "59389              never pay    never pay          soft          good   \n",
       "59390              never pay    never pay          soft          good   \n",
       "59397            pay monthly      monthly      fluoride      fluoride   \n",
       "59398              never pay    never pay          soft          good   \n",
       "59399  pay when scheme fails   on failure         salty         salty   \n",
       "\n",
       "           quantity quantity_group        source   source_type source_class  \\\n",
       "6            enough         enough   machine dbh      borehole  groundwater   \n",
       "7            enough         enough  shallow well  shallow well  groundwater   \n",
       "8          seasonal       seasonal   machine dbh      borehole  groundwater   \n",
       "9            enough         enough  shallow well  shallow well  groundwater   \n",
       "11     insufficient   insufficient  shallow well  shallow well  groundwater   \n",
       "...             ...            ...           ...           ...          ...   \n",
       "59389        enough         enough   machine dbh      borehole  groundwater   \n",
       "59390  insufficient   insufficient   machine dbh      borehole  groundwater   \n",
       "59397        enough         enough   machine dbh      borehole  groundwater   \n",
       "59398  insufficient   insufficient  shallow well  shallow well  groundwater   \n",
       "59399        enough         enough  shallow well  shallow well  groundwater   \n",
       "\n",
       "      waterpoint_type waterpoint_type_group    status_group  \n",
       "6           hand pump             hand pump  non functional  \n",
       "7           hand pump             hand pump  non functional  \n",
       "8           hand pump             hand pump  non functional  \n",
       "9           hand pump             hand pump      functional  \n",
       "11          hand pump             hand pump      functional  \n",
       "...               ...                   ...             ...  \n",
       "59389       hand pump             hand pump      functional  \n",
       "59390       hand pump             hand pump      functional  \n",
       "59397       hand pump             hand pump      functional  \n",
       "59398       hand pump             hand pump      functional  \n",
       "59399       hand pump             hand pump      functional  \n",
       "\n",
       "[21426 rows x 41 columns]"
      ]
     },
     "execution_count": 31,
     "metadata": {},
     "output_type": "execute_result"
    }
   ],
   "source": [
    "Full_data[Full_data['extraction_type'] != Full_data['extraction_type_class']]"
   ]
  },
  {
   "cell_type": "code",
   "execution_count": 32,
   "metadata": {
    "ExecuteTime": {
     "end_time": "2021-01-02T00:46:06.598683Z",
     "start_time": "2021-01-02T00:46:06.543713Z"
    },
    "hidden": true
   },
   "outputs": [],
   "source": [
    "# dropping id column\n",
    "Full_data.drop(columns=['id'], axis=1, inplace=True)\n",
    "\n",
    "# dropping 2 out of the 3 extraction type columns, they seem redundant\n",
    "Full_data.drop(columns=['extraction_type_class','extraction_type_group'], axis=1, inplace=True)\n"
   ]
  },
  {
   "cell_type": "markdown",
   "metadata": {
    "heading_collapsed": true
   },
   "source": [
    "## Looking at funder"
   ]
  },
  {
   "cell_type": "markdown",
   "metadata": {
    "hidden": true
   },
   "source": [
    "Grouping all funders that fund 10 or less wells as small_funder reduces the overall amount of different categories significantly"
   ]
  },
  {
   "cell_type": "code",
   "execution_count": 33,
   "metadata": {
    "ExecuteTime": {
     "end_time": "2021-01-02T00:46:06.620758Z",
     "start_time": "2021-01-02T00:46:06.601404Z"
    },
    "hidden": true
   },
   "outputs": [
    {
     "data": {
      "text/plain": [
       "Government Of Tanzania    9084\n",
       "Unknown                   3639\n",
       "Danida                    3114\n",
       "Hesawa                    2202\n",
       "Rwssp                     1374\n",
       "                          ... \n",
       "Africaone Ltd                1\n",
       "People From Egypt            1\n",
       "Mwamvita Rajabu              1\n",
       "Italian                      1\n",
       "Rural                        1\n",
       "Name: funder, Length: 1897, dtype: int64"
      ]
     },
     "execution_count": 33,
     "metadata": {},
     "output_type": "execute_result"
    }
   ],
   "source": [
    "Full_data.funder.value_counts()"
   ]
  },
  {
   "cell_type": "code",
   "execution_count": 34,
   "metadata": {
    "ExecuteTime": {
     "end_time": "2021-01-02T00:46:06.661549Z",
     "start_time": "2021-01-02T00:46:06.624540Z"
    },
    "hidden": true
   },
   "outputs": [
    {
     "data": {
      "text/plain": [
       "393"
      ]
     },
     "execution_count": 34,
     "metadata": {},
     "output_type": "execute_result"
    }
   ],
   "source": [
    "test3 = Full_data\n",
    "test3.loc[test3['funder'].value_counts()[test3['funder']].values < 11, 'funder'] = \"small_funder\"\n",
    "test3.funder.nunique()"
   ]
  },
  {
   "cell_type": "code",
   "execution_count": 35,
   "metadata": {
    "ExecuteTime": {
     "end_time": "2021-01-02T00:46:06.694606Z",
     "start_time": "2021-01-02T00:46:06.665726Z"
    },
    "hidden": true
   },
   "outputs": [],
   "source": [
    "Full_data.loc[Full_data['funder'].value_counts()[Full_data['funder']].values < 11, 'funder'] = \"small_funder\""
   ]
  },
  {
   "cell_type": "code",
   "execution_count": 36,
   "metadata": {
    "ExecuteTime": {
     "end_time": "2021-01-02T00:46:06.723769Z",
     "start_time": "2021-01-02T00:46:06.699554Z"
    },
    "hidden": true,
    "scrolled": true
   },
   "outputs": [
    {
     "data": {
      "text/plain": [
       "Government Of Tanzania            9084\n",
       "Unknown                           3639\n",
       "small_funder                      3147\n",
       "Danida                            3114\n",
       "Hesawa                            2202\n",
       "Rwssp                             1374\n",
       "World Bank                        1349\n",
       "Kkkt                              1287\n",
       "World Vision                      1246\n",
       "Unicef                            1057\n",
       "Tasaf                              877\n",
       "District Council                   843\n",
       "Dhv                                829\n",
       "Private Individual                 826\n",
       "Dwsp                               811\n",
       "0                                  777\n",
       "Norad                              765\n",
       "Germany Republi                    610\n",
       "Tcrs                               602\n",
       "Ministry Of Water                  590\n",
       "Water                              583\n",
       "Dwe                                484\n",
       "Netherlands                        470\n",
       "Hifab                              450\n",
       "Adb                                448\n",
       "Lga                                442\n",
       "Amref                              425\n",
       "Fini Water                         393\n",
       "Oxfam                              359\n",
       "Wateraid                           333\n",
       "Rc Church                          321\n",
       "Isf                                316\n",
       "Rudep                              312\n",
       "Mission                            301\n",
       "Private                            295\n",
       "Jaica                              280\n",
       "Roman                              275\n",
       "Rural Water Supply And Sanitat     270\n",
       "Adra                               263\n",
       "Ces(gmbh)                          260\n",
       "Jica                               259\n",
       "Shipo                              241\n",
       "Wsdp                               234\n",
       "Rc                                 230\n",
       "Finw                               219\n",
       "Dh                                 213\n",
       "Ded                                198\n",
       "Plan Int                           195\n",
       "Kiliwater                          189\n",
       "Dmdd                               186\n",
       "Go                                 181\n",
       "Lawatefuka Water Supply            180\n",
       "Oxfarm                             176\n",
       "Magadini-makiwaru Water            175\n",
       "Fw                                 173\n",
       "W.B                                170\n",
       "Kkkt_makwale                       166\n",
       "Ces (gmbh)                         165\n",
       "Wvt                                158\n",
       "Oikos E.Afrika                     155\n",
       "Nethalan                           152\n",
       "Mkinga Distric Coun                150\n",
       "Lvia                               147\n",
       "Concern World Wide                 145\n",
       "Unhcr                              137\n",
       "No                                 134\n",
       "Swedish                            131\n",
       "African                            128\n",
       "Anglican Church                    126\n",
       "Community                          126\n",
       "He                                 125\n",
       "Is                                 125\n",
       "Ki                                 124\n",
       "Ir                                 123\n",
       "Tardo                              123\n",
       "Wananchi                           122\n",
       "Snv                                122\n",
       "Roman Catholic                     121\n",
       "Wua                                121\n",
       "Unice                              119\n",
       "Bsf                                117\n",
       "Tassaf                             116\n",
       "Co                                 111\n",
       "Lamp                               110\n",
       "Dfid                               110\n",
       "Concern                            108\n",
       "Muwsa                              107\n",
       "Villagers                          106\n",
       "Village Council                    105\n",
       "Ru                                 105\n",
       "Halmashauri Ya Wilaya Sikonge      102\n",
       "Germany                            101\n",
       "Hsw                                101\n",
       "Twe                                 97\n",
       "Idc                                 92\n",
       "Tanza                               88\n",
       "Missi                               87\n",
       "Undp                                86\n",
       "H                                   86\n",
       "Mdrdp                               86\n",
       "Aict                                85\n",
       "Gtz                                 84\n",
       "Japan                               82\n",
       "Cmsr                                81\n",
       "Rc Ch                               80\n",
       "Vwc                                 78\n",
       "Ndrdp                               78\n",
       "Fin Water                           72\n",
       "Lwi                                 72\n",
       "Kuwait                              72\n",
       "Cdtf                                70\n",
       "Caritas                             70\n",
       "Kkkt Church                         70\n",
       "Kaemp                               69\n",
       "Padep                               69\n",
       "Marafip                             68\n",
       "Kibaha Town Council                 68\n",
       "Water Aid /sema                     68\n",
       "Conce                               68\n",
       "Cefa                                67\n",
       "Ncaa                                63\n",
       "Mkinga  Distric Cou                 62\n",
       "Losaa-kia Water Supply              62\n",
       "Commu                               62\n",
       "National Rural                      62\n",
       "Md                                  61\n",
       "Irish Ai                            59\n",
       "Sabemo                              59\n",
       "Plan International                  57\n",
       "Twesa                               56\n",
       "Gen                                 54\n",
       "St                                  54\n",
       "Kirde                               54\n",
       "Idara Ya Maji                       54\n",
       "Tlc                                 54\n",
       "Finida German Tanzania Govt         53\n",
       "Solidarm                            53\n",
       "Grumeti                             53\n",
       "Kilindi District Co                 53\n",
       "Wfp                                 52\n",
       "Cocen                               52\n",
       "China Government                    51\n",
       "Ta                                  51\n",
       "Tanapa                              51\n",
       "Sema                                50\n",
       "Dwe/norad                           50\n",
       "Tabora Municipal Council            49\n",
       "European Union                      48\n",
       "Solidame                            48\n",
       "Dwssp                               47\n",
       "Ridep                               47\n",
       "Devon Aid Korogwe                   46\n",
       "Dads                                46\n",
       "Acra                                46\n",
       "Miziriol                            46\n",
       "Red Cross                           45\n",
       "Shawasa                             45\n",
       "Redep                               44\n",
       "Tz Japan                            43\n",
       "Abasia                              43\n",
       "Giz                                 42\n",
       "Ms                                  42\n",
       "Donor                               41\n",
       "Tdft                                41\n",
       "Cafod                               41\n",
       "Serikali                            41\n",
       "Tredep                              40\n",
       "Un                                  40\n",
       "Soda                                40\n",
       "Ka                                  39\n",
       "Songea District Council             38\n",
       "Jbg                                 38\n",
       "Kuwasa                              38\n",
       "Dasip                               37\n",
       "Fathe                               37\n",
       "Kidp                                36\n",
       "Urt                                 36\n",
       "W                                   36\n",
       "Songea Municipal Counci             35\n",
       "African Development Bank            35\n",
       "Watu Wa Ujerumani                   35\n",
       "Islamic Found                       35\n",
       "Mbiuwasa                            35\n",
       "Water User As                       34\n",
       "Si                                  34\n",
       "Oikos E.Africa/european Union       33\n",
       "Finn Water                          33\n",
       "Ilo                                 33\n",
       "Holland                             33\n",
       "Aar                                 33\n",
       "Ics                                 33\n",
       "Dhv\\norp                            32\n",
       "Kiuma                               32\n",
       "Tuwasa                              32\n",
       "Peters                              32\n",
       "The Desk And Chair Foundat          31\n",
       "Kanisa Katoliki Lolovoni            31\n",
       "Biore                               31\n",
       "Ga                                  30\n",
       "Kalta                               30\n",
       "Swiss If                            30\n",
       "Jika                                30\n",
       "Cg                                  30\n",
       "Peter Tesha                         30\n",
       "Churc                               30\n",
       "Happy Watoto Foundation             30\n",
       "Cspd                                30\n",
       "Po                                  30\n",
       "World Vision/adra                   29\n",
       "Finwater                            29\n",
       "Kidep                               29\n",
       "Cocern                              29\n",
       "Il                                  29\n",
       "Save The Rain Usa                   28\n",
       "Ereto                               28\n",
       "Sida                                28\n",
       "Water Aid/sema                      28\n",
       "Undp/ilo                            28\n",
       "Halmashauri                         27\n",
       "Dw                                  27\n",
       "Songas                              27\n",
       "Village Government                  27\n",
       "Not Known                           27\n",
       "Lips                                27\n",
       "I Wash                              27\n",
       "Hw/rc                               27\n",
       "Partage                             27\n",
       "Ifad                                27\n",
       "Kanisa La Menonite                  27\n",
       "Wwf                                 26\n",
       "Quwkwin                             26\n",
       "Cdcg                                26\n",
       "Mileniam Project                    26\n",
       "Plan Internatio                     26\n",
       "Nethe                               26\n",
       "Hewasa                              25\n",
       "Tacare                              25\n",
       "Total Land Care                     25\n",
       "Hans                                25\n",
       "Adp                                 25\n",
       "Dadis                               25\n",
       "Village                             25\n",
       "Rc Churc                            25\n",
       "Kilwater                            25\n",
       "Care International                  24\n",
       "Rished                              24\n",
       "Roman Cathoric-same                 24\n",
       "Kalitasi                            24\n",
       "Tanzakesho                          24\n",
       "Missionaries                        24\n",
       "Bgm                                 24\n",
       "Ilct                                23\n",
       "Wd And Id                           23\n",
       "Cmcr                                23\n",
       "Cefa-njombe                         23\n",
       "Sabodo                              23\n",
       "Bank                                22\n",
       "Mwaya Mn                            22\n",
       "Luthe                               22\n",
       "Village Community                   22\n",
       "Rcchurch/cefa                       22\n",
       "Cipro/government                    21\n",
       "Swisland/ Mount Meru Flowers        21\n",
       "Killflora                           21\n",
       "Vifafi                              21\n",
       "Singida Yetu                        21\n",
       "Sekei Village Community             20\n",
       "Norad /government                   20\n",
       "Norad/ Kidep                        20\n",
       "Islamic                             20\n",
       "Msf                                 20\n",
       "Magoma Adp                          19\n",
       "Sowasa                              19\n",
       "Kuamu                               19\n",
       "Water Board                         19\n",
       "Peace Cope                          19\n",
       "P                                   19\n",
       "Rotary Club                         19\n",
       "Maji Mugumu                         19\n",
       "Dhv Moro                            19\n",
       "Dct                                 19\n",
       "Kadp                                19\n",
       "Makonde Water Population            19\n",
       "Efg                                 19\n",
       "Ubalozi Wa Marekani                 18\n",
       "One Un                              18\n",
       "Ham                                 18\n",
       "Asb                                 18\n",
       "Eu/acra                             18\n",
       "Cct                                 18\n",
       "Gain                                18\n",
       "The People Of Japan                 18\n",
       "Dasp                                18\n",
       "Tanzania                            18\n",
       "Mbunge                              18\n",
       "Pidp                                18\n",
       "Msabi                               17\n",
       "Father Bonifasi                     17\n",
       "Bened                               17\n",
       "Drdp Ngo                            17\n",
       "Idydc                               17\n",
       "Sdg                                 17\n",
       "Bahewasa                            17\n",
       "Ukiligu                             17\n",
       "Tasaf/dmdd                          17\n",
       "Mdc                                 17\n",
       "Sumbawanga Munici                   17\n",
       "Mkuyu                               17\n",
       "Rdc                                 16\n",
       "Livin                               16\n",
       "Msikiti                             16\n",
       "Tahea                               16\n",
       "Mi                                  16\n",
       "Sda                                 16\n",
       "Ruthe                               16\n",
       "Tado                                16\n",
       "Rwsp                                16\n",
       "Pmo                                 16\n",
       "Bruder                              16\n",
       "Finland Government                  16\n",
       "Isf/government                      16\n",
       "Lwiji Italy                         16\n",
       "Quick Wings                         16\n",
       "Elct                                15\n",
       "Fpct                                15\n",
       "A/co Germany                        15\n",
       "Dar Al Ber                          15\n",
       "Quick Wins                          15\n",
       "Us Embassy                          15\n",
       "Finland                             15\n",
       "African Relie                       15\n",
       "African Muslim Agency               15\n",
       "Resolute Mining                     15\n",
       "Roman Cathoric Same                 15\n",
       "Shule                               15\n",
       "Imf                                 14\n",
       "Rc Church/centr                     14\n",
       "Roman Catholic Rulenge Diocese      14\n",
       "Roman Church                        14\n",
       "Living Water International          14\n",
       "Isf/tacare                          14\n",
       "Adp Mombo                           14\n",
       "Dassip                              14\n",
       "Mamad                               14\n",
       "Isingiro Ho                         14\n",
       "Private Owned                       14\n",
       "Olgilai Village Community           14\n",
       "Sao H                               14\n",
       "Wfp/tnt/usaid                       14\n",
       "Jeica                               13\n",
       "Qwiqwi                              13\n",
       "Maxavella                           13\n",
       "Water Project Mbawala Chini         13\n",
       "Franc                               13\n",
       "Benguka                             13\n",
       "Msf/tacare                          13\n",
       "The Isla                            13\n",
       "Undp/aict                           13\n",
       "Village Council/ Haydom Luther      13\n",
       "Rada                                13\n",
       "Lgcdg                               13\n",
       "Ba As                               13\n",
       "Rural Water Supply And Sanita       13\n",
       "Aco/germany                         13\n",
       "Tassaf I                            13\n",
       "Halmashauri Ya Manispa Tabora       13\n",
       "Bulyahunlu Gold Mine                13\n",
       "Mosque                              13\n",
       "Aic                                 13\n",
       "Qwickwin                            12\n",
       "Oxfam Gb                            12\n",
       "Canada                              12\n",
       "Tridep                              12\n",
       "Af                                  12\n",
       "Rips                                12\n",
       "Lowasa                              12\n",
       "Secondary                           12\n",
       "Mh An                               12\n",
       "Prf                                 12\n",
       "Lutheran Church                     12\n",
       "Kinapa                              12\n",
       "Kwikwiz                             12\n",
       "National Rural And Hfa              12\n",
       "Lifetime                            12\n",
       "Ai                                  12\n",
       "Institution                         12\n",
       "Germany Misionary                   11\n",
       "Wfp/tnt                             11\n",
       "Idea                                11\n",
       "Unicef/central                      11\n",
       "Finidagermantanzania Govt           11\n",
       "Government/ Community               11\n",
       "Dak                                 11\n",
       "Name: funder, dtype: int64"
      ]
     },
     "execution_count": 36,
     "metadata": {},
     "output_type": "execute_result"
    }
   ],
   "source": [
    "Full_data.funder.value_counts()"
   ]
  },
  {
   "cell_type": "markdown",
   "metadata": {
    "heading_collapsed": true
   },
   "source": [
    "## Looking at GPS height"
   ]
  },
  {
   "cell_type": "markdown",
   "metadata": {
    "hidden": true
   },
   "source": [
    "Keeping GPS as is, the data looks good"
   ]
  },
  {
   "cell_type": "code",
   "execution_count": 37,
   "metadata": {
    "ExecuteTime": {
     "end_time": "2021-01-02T00:46:06.747006Z",
     "start_time": "2021-01-02T00:46:06.729954Z"
    },
    "hidden": true
   },
   "outputs": [
    {
     "data": {
      "text/plain": [
       "functional                 32259\n",
       "non functional             22824\n",
       "functional needs repair     4317\n",
       "Name: status_group, dtype: int64"
      ]
     },
     "execution_count": 37,
     "metadata": {},
     "output_type": "execute_result"
    }
   ],
   "source": [
    "Full_data.status_group.value_counts()"
   ]
  },
  {
   "cell_type": "code",
   "execution_count": 38,
   "metadata": {
    "ExecuteTime": {
     "end_time": "2021-01-02T00:46:06.765565Z",
     "start_time": "2021-01-02T00:46:06.752626Z"
    },
    "hidden": true
   },
   "outputs": [
    {
     "data": {
      "text/plain": [
       " 0       20438\n",
       "-15         60\n",
       "-16         55\n",
       "-13         55\n",
       "-20         52\n",
       "         ...  \n",
       " 2285        1\n",
       " 2424        1\n",
       " 2552        1\n",
       " 2413        1\n",
       " 2385        1\n",
       "Name: gps_height, Length: 2428, dtype: int64"
      ]
     },
     "execution_count": 38,
     "metadata": {},
     "output_type": "execute_result"
    }
   ],
   "source": [
    "Full_data.gps_height.value_counts()"
   ]
  },
  {
   "cell_type": "code",
   "execution_count": 39,
   "metadata": {
    "ExecuteTime": {
     "end_time": "2021-01-02T00:46:07.467439Z",
     "start_time": "2021-01-02T00:46:06.768767Z"
    },
    "hidden": true
   },
   "outputs": [
    {
     "data": {
      "text/plain": [
       "{'whiskers': [<matplotlib.lines.Line2D at 0x7ff823278438>,\n",
       "  <matplotlib.lines.Line2D at 0x7ff823278780>,\n",
       "  <matplotlib.lines.Line2D at 0x7ff823281b70>,\n",
       "  <matplotlib.lines.Line2D at 0x7ff823281eb8>,\n",
       "  <matplotlib.lines.Line2D at 0x7ff82329a2e8>,\n",
       "  <matplotlib.lines.Line2D at 0x7ff82329a630>],\n",
       " 'caps': [<matplotlib.lines.Line2D at 0x7ff823278ac8>,\n",
       "  <matplotlib.lines.Line2D at 0x7ff823278e10>,\n",
       "  <matplotlib.lines.Line2D at 0x7ff82328d240>,\n",
       "  <matplotlib.lines.Line2D at 0x7ff82328d588>,\n",
       "  <matplotlib.lines.Line2D at 0x7ff82329a978>,\n",
       "  <matplotlib.lines.Line2D at 0x7ff82329acc0>],\n",
       " 'boxes': [<matplotlib.lines.Line2D at 0x7ff823278048>,\n",
       "  <matplotlib.lines.Line2D at 0x7ff8232817f0>,\n",
       "  <matplotlib.lines.Line2D at 0x7ff82328df28>],\n",
       " 'medians': [<matplotlib.lines.Line2D at 0x7ff823281198>,\n",
       "  <matplotlib.lines.Line2D at 0x7ff82328d8d0>,\n",
       "  <matplotlib.lines.Line2D at 0x7ff8232a4048>],\n",
       " 'fliers': [<matplotlib.lines.Line2D at 0x7ff8232814e0>,\n",
       "  <matplotlib.lines.Line2D at 0x7ff82328dc18>,\n",
       "  <matplotlib.lines.Line2D at 0x7ff8232a4390>],\n",
       " 'means': []}"
      ]
     },
     "execution_count": 39,
     "metadata": {},
     "output_type": "execute_result"
    },
    {
     "data": {
      "image/png": "[encoded data removed]",
      "text/plain": [
       "<Figure size 432x288 with 1 Axes>"
      ]
     },
     "metadata": {
      "needs_background": "light"
     },
     "output_type": "display_data"
    }
   ],
   "source": [
    "functional_group = Full_data[Full_data['status_group'] == 'functional']['gps_height']\n",
    "nonfunctional_group = Full_data[Full_data['status_group'] == 'non functional']['gps_height']\n",
    "functional_needs_repair_group = Full_data[Full_data['status_group'] == 'functional needs repair']['gps_height']\n",
    "grouped = [functional_group,nonfunctional_group,functional_needs_repair_group]\n",
    "plt.boxplot(grouped, labels=['functional','nonfunctional','functional needs repair'])"
   ]
  },
  {
   "cell_type": "markdown",
   "metadata": {
    "heading_collapsed": true
   },
   "source": [
    "## Looking at Installer"
   ]
  },
  {
   "cell_type": "markdown",
   "metadata": {
    "hidden": true
   },
   "source": [
    "Installer has 1800 installers that have done 10 or less installs. Going to group installes with 10 or less as 'small_installers'"
   ]
  },
  {
   "cell_type": "code",
   "execution_count": 40,
   "metadata": {
    "ExecuteTime": {
     "end_time": "2021-01-02T00:46:07.492891Z",
     "start_time": "2021-01-02T00:46:07.472786Z"
    },
    "hidden": true
   },
   "outputs": [
    {
     "data": {
      "text/plain": [
       "DWE                             17402\n",
       "Unknown                          3658\n",
       "Government                       1825\n",
       "RWE                              1206\n",
       "Commu                            1060\n",
       "                                ...  \n",
       "UN Habitat                          1\n",
       "Tanz/Egypt technical coopera        1\n",
       "UDEA                                1\n",
       "ABD                                 1\n",
       "Icf                                 1\n",
       "Name: installer, Length: 2145, dtype: int64"
      ]
     },
     "execution_count": 40,
     "metadata": {},
     "output_type": "execute_result"
    }
   ],
   "source": [
    "Full_data.installer.value_counts()"
   ]
  },
  {
   "cell_type": "code",
   "execution_count": 41,
   "metadata": {
    "ExecuteTime": {
     "end_time": "2021-01-02T00:46:07.536628Z",
     "start_time": "2021-01-02T00:46:07.496563Z"
    },
    "hidden": true
   },
   "outputs": [
    {
     "data": {
      "text/plain": [
       "395"
      ]
     },
     "execution_count": 41,
     "metadata": {},
     "output_type": "execute_result"
    }
   ],
   "source": [
    "test4 = Full_data\n",
    "test4.loc[test4['installer'].value_counts()[test4['installer']].values < 11, 'installer'] = \"small_installer\"\n",
    "test4.installer.nunique()"
   ]
  },
  {
   "cell_type": "code",
   "execution_count": 42,
   "metadata": {
    "ExecuteTime": {
     "end_time": "2021-01-02T00:46:07.563176Z",
     "start_time": "2021-01-02T00:46:07.540093Z"
    },
    "hidden": true
   },
   "outputs": [
    {
     "data": {
      "text/plain": [
       "DWE                              17402\n",
       "small_installer                   3830\n",
       "Unknown                           3658\n",
       "Government                        1825\n",
       "RWE                               1206\n",
       "Commu                             1060\n",
       "DANIDA                            1050\n",
       "KKKT                               898\n",
       "Hesawa                             840\n",
       "0                                  777\n",
       "TCRS                               707\n",
       "Central government                 622\n",
       "CES                                610\n",
       "Community                          553\n",
       "DANID                              552\n",
       "District Council                   551\n",
       "HESAWA                             539\n",
       "LGA                                408\n",
       "World vision                       408\n",
       "WEDECO                             397\n",
       "TASAF                              396\n",
       "District council                   392\n",
       "Gover                              383\n",
       "AMREF                              329\n",
       "TWESA                              316\n",
       "WU                                 301\n",
       "Dmdd                               287\n",
       "ACRA                               278\n",
       "World Vision                       270\n",
       "SEMA                               249\n",
       "DW                                 246\n",
       "OXFAM                              234\n",
       "Da                                 224\n",
       "Idara ya maji                      222\n",
       "Gove                               222\n",
       "UNICEF                             222\n",
       "Sengerema Water Department         214\n",
       "Kiliwater                          210\n",
       "FinW                               208\n",
       "NORAD                              208\n",
       "DH                                 202\n",
       "Villagers                          199\n",
       "DWSP                               192\n",
       "Distri                             181\n",
       "Lawatefuka water sup               180\n",
       "Magadini-Makiwaru wa               175\n",
       "RC                                 174\n",
       "FW                                 173\n",
       "KKKT _ Konde and DWE               166\n",
       "Centr                              162\n",
       "WVT                                158\n",
       "MWE                                157\n",
       "Handeni Trunk Main(                156\n",
       "Is                                 154\n",
       "Norad                              152\n",
       "RWSSP                              149\n",
       "Fini Water                         149\n",
       "SHIPO                              147\n",
       "Private                            143\n",
       "Kuwait                             142\n",
       "JAICA                              141\n",
       "Central govt                       138\n",
       "ISF                                135\n",
       "Artisan                            135\n",
       "Fini water                         133\n",
       "GOVER                              128\n",
       "DDCA                               126\n",
       "RC CHURCH                          125\n",
       "HE                                 125\n",
       "Tardo                              123\n",
       "World                              121\n",
       "Mission                            121\n",
       "wananchi                           119\n",
       "Ir                                 119\n",
       "Consulting Engineer                116\n",
       "Amref                              114\n",
       "JICA                               113\n",
       "TWE                                111\n",
       "Central Government                 110\n",
       "MUWSA                              107\n",
       "DED                                105\n",
       "WATER AID                          103\n",
       "FINI WATER                         103\n",
       "Halmashauri ya wilaya sikonge      102\n",
       "HSW                                100\n",
       "Wizara ya maji                     100\n",
       "Unisef                              98\n",
       "Jaica                               98\n",
       "Ki                                  97\n",
       "Go                                  97\n",
       "OXFARM                              96\n",
       "World Bank                          95\n",
       "Roman                               94\n",
       "Angli                               92\n",
       "VWC                                 91\n",
       "DMDD                                89\n",
       "District water department           89\n",
       "Missi                               87\n",
       "Shipo                               86\n",
       "H                                   86\n",
       "DA                                  84\n",
       "AICT                                84\n",
       "MDRDP                               84\n",
       "Water board                         81\n",
       "Adra                                80\n",
       "Oikos E .Africa                     80\n",
       "District Water Department           78\n",
       "Region water Department             77\n",
       "RC Church                           75\n",
       "CEFA                                75\n",
       "Chamavita                           75\n",
       "Danid                               72\n",
       "Water                               71\n",
       "LWI                                 71\n",
       "KKKT CHURCH                         69\n",
       "Wa                                  69\n",
       "GOVERNMENT                          66\n",
       "Villa                               65\n",
       "MTN                                 65\n",
       "TASSAF                              64\n",
       "DAWASCO                             64\n",
       "GTZ                                 63\n",
       "Finwater                            62\n",
       "Losaa-Kia water supp                62\n",
       "LVIA                                60\n",
       "Wachina                             60\n",
       "Adra/Community                      60\n",
       "FIN WATER                           59\n",
       "Village Council                     58\n",
       "NCAA                                57\n",
       "GEN                                 55\n",
       "Adra /Community                     55\n",
       "Co                                  55\n",
       "TLC                                 55\n",
       "RDC                                 55\n",
       "ADRA                                55\n",
       "Communit                            54\n",
       "St                                  54\n",
       "DHV                                 54\n",
       "Priva                               54\n",
       "Pr                                  53\n",
       "Local te                            52\n",
       "RWE/DWE                             52\n",
       "RC Ch                               52\n",
       "wanan                               52\n",
       "CDTF                                50\n",
       "Water Aid                           48\n",
       "WORLD BANK                          47\n",
       "Local  technician                   47\n",
       "KUWAIT                              47\n",
       "District water depar                46\n",
       "KA                                  46\n",
       "Miziriol                            46\n",
       "Plan Internationa                   46\n",
       "MLADE                               46\n",
       "Local                               45\n",
       "SHAWASA                             45\n",
       "SOLIDAME                            45\n",
       "Water Aid /sema                     44\n",
       "TDFT                                42\n",
       "Ga                                  42\n",
       "VILLAGE COUNCIL                     42\n",
       "JANDU PLUMBER CO                    41\n",
       "CBHCC                               41\n",
       "MWE &                               40\n",
       "GRUMETI                             39\n",
       "KILI WATER                          38\n",
       "KUWASA                              38\n",
       "SHY BUILDERS                        37\n",
       "JBG                                 37\n",
       "KIDP                                36\n",
       "RED CROSS                           36\n",
       "BSF                                 35\n",
       "MBIUWASA                            35\n",
       "HAPA SINGIDA                        34\n",
       "Ch                                  34\n",
       "KKT                                 33\n",
       "Tanzania Government                 33\n",
       "MUWASA                              33\n",
       "SI                                  33\n",
       "FINN WATER                          33\n",
       "Wananchi                            32\n",
       "VTECOS                              32\n",
       "KIUMA                               32\n",
       "TUWASA                              32\n",
       "Msabi                               31\n",
       "The desk and chair foundat          31\n",
       "WATERAID                            31\n",
       "HOLLAND                             31\n",
       "LOCAL CONTRACT                      31\n",
       "TANAPA                              31\n",
       "Happy watoto foundation             30\n",
       "KAEMP                               30\n",
       "WB                                  30\n",
       "Kalta                               30\n",
       "Kokeni                              30\n",
       "Accra                               30\n",
       "Swiss If                            29\n",
       "FinWater                            29\n",
       "CCEC                                29\n",
       "PADEP                               29\n",
       "Do                                  29\n",
       "Po                                  29\n",
       "ABASIA                              29\n",
       "Rhobi                               28\n",
       "Jica                                28\n",
       "Gwasco L                            28\n",
       "GOVERN                              27\n",
       "COCANE                              27\n",
       "Local technician                    27\n",
       "CJEJOW CONSTRUCTION                 27\n",
       "UN                                  27\n",
       "ERETO                               27\n",
       "HW/RC                               27\n",
       "BESADA                              26\n",
       "Active MKM                          26\n",
       "WD and ID                           26\n",
       "JUIN CO                             25\n",
       "Af                                  25\n",
       "TAN PLANT LTD                       25\n",
       "ICS                                 25\n",
       "Serikali                            25\n",
       "Hans                                25\n",
       "Kilwater                            25\n",
       "TAWASA                              25\n",
       "IFAD                                25\n",
       "GEOTAN                              24\n",
       "JIKA                                24\n",
       "Kalitasi                            24\n",
       "PET                                 24\n",
       "Mileniam project                    24\n",
       "CONS                                24\n",
       "RIDEP                               24\n",
       "not known                           24\n",
       "CMSR                                24\n",
       "Individuals                         24\n",
       "Wo                                  24\n",
       "WWF                                 23\n",
       "KYASHA ENTERPR                      23\n",
       "ILCT                                23\n",
       "Korogwe water works                 23\n",
       "VIFAFI                              23\n",
       "Total land care                     23\n",
       "TREDEP                              23\n",
       "Halmashauri                         23\n",
       "NYAKILANGANI CO                     23\n",
       "Ce                                  23\n",
       "MTUWASA                             23\n",
       "Sabodo                              22\n",
       "Hydrotec                            22\n",
       "Cosmo                               22\n",
       "CONCERN                             22\n",
       "MARAFIP                             22\n",
       "Ndanda missions                     22\n",
       "TA                                  22\n",
       "Care international                  22\n",
       "Fathe                               22\n",
       "NORA                                21\n",
       "RCchurch/CEFA                       21\n",
       "W/                                  21\n",
       "Jicks                               21\n",
       "BGM                                 21\n",
       "Save the rain USA                   21\n",
       "Consuting Engineer                  21\n",
       "CIPRO/Government                    21\n",
       "UDC/Sema                            20\n",
       "WORLD VISION                        20\n",
       "Islamic                             20\n",
       "KADP                                20\n",
       "SINGIDA YETU                        20\n",
       "Sekei village community             20\n",
       "Makonde water population            19\n",
       "private                             19\n",
       "Orien                               19\n",
       "CG                                  19\n",
       "KIM KIM CONSTRUCTION                19\n",
       "Kuamu                               19\n",
       "Maswi company                       19\n",
       "ADP                                 19\n",
       "SOWASA                              19\n",
       "MA                                  19\n",
       "P                                   18\n",
       "EFG                                 18\n",
       "Mi                                  18\n",
       "Concern                             18\n",
       "JANDU PLUMBER  CO                   18\n",
       "IDYDC                               18\n",
       "TASAF/DMDD                          17\n",
       "Chur                                17\n",
       "UKILIG                              17\n",
       "Sumbaw                              17\n",
       "Not known                           17\n",
       "Mkuyu                               17\n",
       "central government                  17\n",
       "Plan Int                            17\n",
       "Tanz                                17\n",
       "Adra/ Community                     17\n",
       "DADS                                17\n",
       "CITIZEN ENGINE                      17\n",
       "Mbunge                              17\n",
       "MAJI MUGUMU                         17\n",
       "QUWKWIN                             17\n",
       "ISF/Government                      16\n",
       "SDA                                 16\n",
       "Finland Government                  16\n",
       "Ruthe                               16\n",
       "BRUDER                              16\n",
       "TPP TRUSTMOSHI                      15\n",
       "hesawa                              15\n",
       "MSF                                 15\n",
       "Village Community                   15\n",
       "RWE /Community                      15\n",
       "Cefa                                15\n",
       "Ja                                  15\n",
       "Grobal resource alliance            15\n",
       "The I                               15\n",
       "US Embassy                          15\n",
       "Mackd                               15\n",
       "LIVI                                15\n",
       "WFP                                 15\n",
       "TAHEA                               15\n",
       "Naishu construction co. ltd         15\n",
       "Tasaf                               15\n",
       "Regional Water                      15\n",
       "CENTRAL GOVERNMENT                  14\n",
       "Sao                                 14\n",
       "SIA Ltd                             14\n",
       "AD                                  14\n",
       "RC Churc                            14\n",
       "RC church/Central Gover             14\n",
       "Olgilai village community           14\n",
       "Living water international          14\n",
       "ADP Busangi                         14\n",
       "Water Aid/sema                      14\n",
       "RW                                  14\n",
       "FPCT                                14\n",
       "Ma                                  14\n",
       "Roman Church                        14\n",
       "WSDP                                13\n",
       "villagers                           13\n",
       "DWE}                                13\n",
       "WOULD BANK                          13\n",
       "Mviwa                               13\n",
       "MAMAD                               13\n",
       "Mpang                               13\n",
       "The Isla                            13\n",
       "Phase                               13\n",
       "VILLAG                              13\n",
       "District Counci                     13\n",
       "Pet Corporation Ltd                 13\n",
       "Canop                               13\n",
       "Rotary club                         13\n",
       "ISF/TACARE                          13\n",
       "Kiliflora                           13\n",
       "SAXON                               13\n",
       "Village community                   13\n",
       "Mw                                  13\n",
       "RWSP                                13\n",
       "Nandra Construction                 13\n",
       "QWICKWIN                            13\n",
       "MSF/TACARE                          13\n",
       "BENGUKA                             13\n",
       "Inter                               13\n",
       "Water Project Mbawala chini         13\n",
       "MINISTRY OF WATER                   13\n",
       "Vill                                12\n",
       "Cosmos Engineering                  12\n",
       "Killflora/ Community                12\n",
       "RC C                                12\n",
       "Jeica                               12\n",
       "Unicef                              12\n",
       "World Vission                       12\n",
       "PRF                                 12\n",
       "HAM                                 12\n",
       "DWR                                 12\n",
       "W                                   12\n",
       "Halmashauri ya manispa tabora       12\n",
       "Goldstar                            12\n",
       "UNHCR                               12\n",
       "DISTRICT COUNCIL                    12\n",
       "Water Aid/Sema                      12\n",
       "DALDO                               12\n",
       "Consultant                          12\n",
       "Canada na Tanzania                  12\n",
       "PIDP                                11\n",
       "AI                                  11\n",
       "Mosque                              11\n",
       "Conce                               11\n",
       "ML appro                            11\n",
       "World bank                          11\n",
       "Consultant Engineer                 11\n",
       "Exaud Msambwa                       11\n",
       "DAK                                 11\n",
       "Msikiti                             11\n",
       "Karugendo                           11\n",
       "Name: installer, dtype: int64"
      ]
     },
     "execution_count": 42,
     "metadata": {},
     "output_type": "execute_result"
    }
   ],
   "source": [
    "test4.installer.value_counts()"
   ]
  },
  {
   "cell_type": "markdown",
   "metadata": {
    "heading_collapsed": true
   },
   "source": [
    "## Looking at Longitude and Latitude"
   ]
  },
  {
   "cell_type": "markdown",
   "metadata": {
    "hidden": true
   },
   "source": [
    "There is some outliers for this data. There is 1,812 wells that have 0 for longitude, need to drop those since we do not know where they are located. It's not that many wells in the grand scheme of the dataset."
   ]
  },
  {
   "cell_type": "code",
   "execution_count": 43,
   "metadata": {
    "ExecuteTime": {
     "end_time": "2021-01-02T00:46:07.615127Z",
     "start_time": "2021-01-02T00:46:07.568614Z"
    },
    "hidden": true
   },
   "outputs": [],
   "source": [
    "functional_group_df = Full_data[Full_data['status_group'] == 'functional']\n",
    "nonfunctional_group_df = Full_data[Full_data['status_group'] == 'non functional']\n",
    "functional_needs_repair_group_df = Full_data[Full_data['status_group'] == 'functional needs repair']"
   ]
  },
  {
   "cell_type": "code",
   "execution_count": 44,
   "metadata": {
    "ExecuteTime": {
     "end_time": "2021-01-02T00:46:08.856930Z",
     "start_time": "2021-01-02T00:46:07.618257Z"
    },
    "hidden": true
   },
   "outputs": [
    {
     "name": "stderr",
     "output_type": "stream",
     "text": [
      "/Users/stevenkyle/opt/anaconda3/envs/learn-env/lib/python3.6/site-packages/ipykernel_launcher.py:8: UserWarning: Matplotlib is currently using module://ipykernel.pylab.backend_inline, which is a non-GUI backend, so cannot show the figure.\n",
      "  \n"
     ]
    },
    {
     "data": {
      "image/png": "[encoded data removed]",
      "text/plain": [
       "<Figure size 432x288 with 1 Axes>"
      ]
     },
     "metadata": {
      "needs_background": "light"
     },
     "output_type": "display_data"
    }
   ],
   "source": [
    "fig1, ax1 = plt.subplots()\n",
    "\n",
    "ax1.scatter(functional_group_df['longitude'],functional_group_df['latitude'],c='blue',alpha=0.05)\n",
    "ax1.scatter(functional_needs_repair_group_df['longitude'],functional_needs_repair_group_df['latitude'],c='red',alpha=0.05)\n",
    "ax1.scatter(nonfunctional_group_df['longitude'],nonfunctional_group_df['latitude'],c='purple',alpha=0.05)\n",
    "\n",
    "ax1.set_xlim(left=27.5,right=42.5)\n",
    "fig1.show()"
   ]
  },
  {
   "cell_type": "code",
   "execution_count": 45,
   "metadata": {
    "ExecuteTime": {
     "end_time": "2021-01-02T00:46:08.873877Z",
     "start_time": "2021-01-02T00:46:08.860214Z"
    },
    "hidden": true
   },
   "outputs": [
    {
     "data": {
      "text/plain": [
       "1812"
      ]
     },
     "execution_count": 45,
     "metadata": {},
     "output_type": "execute_result"
    }
   ],
   "source": [
    "len(Full_data[Full_data['longitude']==0])"
   ]
  },
  {
   "cell_type": "code",
   "execution_count": 46,
   "metadata": {
    "ExecuteTime": {
     "end_time": "2021-01-02T00:46:08.923324Z",
     "start_time": "2021-01-02T00:46:08.877190Z"
    },
    "hidden": true
   },
   "outputs": [
    {
     "data": {
      "text/plain": [
       "0"
      ]
     },
     "execution_count": 46,
     "metadata": {},
     "output_type": "execute_result"
    }
   ],
   "source": [
    "Full_data.drop(Full_data.loc[Full_data['longitude']==0].index, inplace=True)\n",
    "len(Full_data[Full_data['longitude']==0])"
   ]
  },
  {
   "cell_type": "markdown",
   "metadata": {
    "heading_collapsed": true
   },
   "source": [
    "## Looking at wpt_name"
   ]
  },
  {
   "cell_type": "markdown",
   "metadata": {
    "hidden": true
   },
   "source": [
    "Majority of the wpt_name seems to have a bunch of small groups, the highest one only has 1,734. Going to drop the whole column."
   ]
  },
  {
   "cell_type": "code",
   "execution_count": 47,
   "metadata": {
    "ExecuteTime": {
     "end_time": "2021-01-02T00:46:08.981924Z",
     "start_time": "2021-01-02T00:46:08.926687Z"
    },
    "hidden": true
   },
   "outputs": [
    {
     "data": {
      "text/plain": [
       "none                   3492\n",
       "Shuleni                1734\n",
       "Zahanati                814\n",
       "Msikitini               533\n",
       "Kanisani                322\n",
       "                       ... \n",
       "Kipo Primary School       1\n",
       "Kwawilbert                1\n",
       "Aman                      1\n",
       "Kwa Petro Lucas           1\n",
       "Kwa Sebapo                1\n",
       "Name: wpt_name, Length: 36720, dtype: int64"
      ]
     },
     "execution_count": 47,
     "metadata": {},
     "output_type": "execute_result"
    }
   ],
   "source": [
    "Full_data.wpt_name.value_counts()"
   ]
  },
  {
   "cell_type": "code",
   "execution_count": 48,
   "metadata": {
    "ExecuteTime": {
     "end_time": "2021-01-02T00:46:09.089474Z",
     "start_time": "2021-01-02T00:46:08.984872Z"
    },
    "hidden": true
   },
   "outputs": [
    {
     "data": {
      "text/plain": [
       "217"
      ]
     },
     "execution_count": 48,
     "metadata": {},
     "output_type": "execute_result"
    }
   ],
   "source": [
    "test5 = Full_data\n",
    "test5.loc[test5['wpt_name'].value_counts()[test5['wpt_name']].values < 11, 'wpt_name'] = \"not_well_known\"\n",
    "test5.wpt_name.nunique()"
   ]
  },
  {
   "cell_type": "code",
   "execution_count": 49,
   "metadata": {
    "ExecuteTime": {
     "end_time": "2021-01-02T00:46:09.142357Z",
     "start_time": "2021-01-02T00:46:09.093994Z"
    },
    "hidden": true
   },
   "outputs": [],
   "source": [
    "Full_data.drop(columns=['wpt_name'],inplace=True)"
   ]
  },
  {
   "cell_type": "markdown",
   "metadata": {
    "heading_collapsed": true
   },
   "source": [
    "## Looking at num_private"
   ]
  },
  {
   "cell_type": "markdown",
   "metadata": {
    "hidden": true
   },
   "source": [
    "Not really sure what this column is about, there is 65 different numbers. Might be valuable, just going to make it into a categorical column."
   ]
  },
  {
   "cell_type": "code",
   "execution_count": 50,
   "metadata": {
    "ExecuteTime": {
     "end_time": "2021-01-02T00:46:09.160269Z",
     "start_time": "2021-01-02T00:46:09.151027Z"
    },
    "hidden": true
   },
   "outputs": [
    {
     "data": {
      "text/plain": [
       "65"
      ]
     },
     "execution_count": 50,
     "metadata": {},
     "output_type": "execute_result"
    }
   ],
   "source": [
    "Full_data.num_private.nunique()"
   ]
  },
  {
   "cell_type": "code",
   "execution_count": 51,
   "metadata": {
    "ExecuteTime": {
     "end_time": "2021-01-02T00:46:09.178551Z",
     "start_time": "2021-01-02T00:46:09.167219Z"
    },
    "hidden": true
   },
   "outputs": [
    {
     "name": "stdout",
     "output_type": "stream",
     "text": [
      "55\n",
      "18\n",
      "40\n"
     ]
    }
   ],
   "source": [
    "print(functional_group_df.num_private.nunique())\n",
    "print(functional_needs_repair_group_df.num_private.nunique())\n",
    "print(nonfunctional_group_df.num_private.nunique())"
   ]
  },
  {
   "cell_type": "code",
   "execution_count": 52,
   "metadata": {
    "ExecuteTime": {
     "end_time": "2021-01-02T00:46:09.194952Z",
     "start_time": "2021-01-02T00:46:09.181796Z"
    },
    "hidden": true
   },
   "outputs": [
    {
     "data": {
      "text/plain": [
       "0       31798\n",
       "6          55\n",
       "1          40\n",
       "32         39\n",
       "8          31\n",
       "5          31\n",
       "15         27\n",
       "45         26\n",
       "93         21\n",
       "7          15\n",
       "2          14\n",
       "102        14\n",
       "3          12\n",
       "47         12\n",
       "65         11\n",
       "17         10\n",
       "4           9\n",
       "39          8\n",
       "41          7\n",
       "25          6\n",
       "16          6\n",
       "11          5\n",
       "120         5\n",
       "24          5\n",
       "22          5\n",
       "10          4\n",
       "58          4\n",
       "12          4\n",
       "20          4\n",
       "9           3\n",
       "34          3\n",
       "26          2\n",
       "668         1\n",
       "61          1\n",
       "672         1\n",
       "141         1\n",
       "14          1\n",
       "60          1\n",
       "240         1\n",
       "80          1\n",
       "94          1\n",
       "450         1\n",
       "180         1\n",
       "35          1\n",
       "131         1\n",
       "755         1\n",
       "27          1\n",
       "38          1\n",
       "1402        1\n",
       "150         1\n",
       "698         1\n",
       "23          1\n",
       "136         1\n",
       "280         1\n",
       "111         1\n",
       "Name: num_private, dtype: int64"
      ]
     },
     "execution_count": 52,
     "metadata": {},
     "output_type": "execute_result"
    }
   ],
   "source": [
    "functional_group_df.num_private.value_counts()"
   ]
  },
  {
   "cell_type": "code",
   "execution_count": 53,
   "metadata": {
    "ExecuteTime": {
     "end_time": "2021-01-02T00:46:09.211701Z",
     "start_time": "2021-01-02T00:46:09.198196Z"
    },
    "hidden": true
   },
   "outputs": [
    {
     "data": {
      "text/plain": [
       "0       22576\n",
       "1          27\n",
       "39         22\n",
       "6          20\n",
       "5          15\n",
       "80         14\n",
       "3          12\n",
       "65         11\n",
       "4          11\n",
       "7          10\n",
       "45          9\n",
       "2           9\n",
       "20          9\n",
       "47          8\n",
       "34          7\n",
       "8           7\n",
       "102         6\n",
       "11          6\n",
       "25          5\n",
       "150         5\n",
       "50          5\n",
       "15          4\n",
       "17          3\n",
       "38          3\n",
       "41          3\n",
       "14          2\n",
       "120         2\n",
       "42          1\n",
       "12          1\n",
       "213         1\n",
       "22          1\n",
       "300         1\n",
       "93          1\n",
       "9           1\n",
       "87          1\n",
       "1776        1\n",
       "62          1\n",
       "32          1\n",
       "16          1\n",
       "27          1\n",
       "Name: num_private, dtype: int64"
      ]
     },
     "execution_count": 53,
     "metadata": {},
     "output_type": "execute_result"
    }
   ],
   "source": [
    "nonfunctional_group_df.num_private.value_counts()"
   ]
  },
  {
   "cell_type": "code",
   "execution_count": 54,
   "metadata": {
    "ExecuteTime": {
     "end_time": "2021-01-02T00:46:09.227259Z",
     "start_time": "2021-01-02T00:46:09.215183Z"
    },
    "hidden": true
   },
   "outputs": [
    {
     "data": {
      "text/plain": [
       "0      4269\n",
       "8         8\n",
       "1         6\n",
       "6         6\n",
       "93        6\n",
       "15        4\n",
       "17        4\n",
       "3         3\n",
       "61        2\n",
       "16        1\n",
       "20        1\n",
       "160       1\n",
       "55        1\n",
       "25        1\n",
       "47        1\n",
       "30        1\n",
       "7         1\n",
       "45        1\n",
       "Name: num_private, dtype: int64"
      ]
     },
     "execution_count": 54,
     "metadata": {},
     "output_type": "execute_result"
    }
   ],
   "source": [
    "functional_needs_repair_group_df.num_private.value_counts()"
   ]
  },
  {
   "cell_type": "code",
   "execution_count": 55,
   "metadata": {
    "ExecuteTime": {
     "end_time": "2021-01-02T00:46:09.243616Z",
     "start_time": "2021-01-02T00:46:09.231330Z"
    },
    "hidden": true
   },
   "outputs": [],
   "source": [
    "Full_data['num_private'] = Full_data.num_private.astype('category')"
   ]
  },
  {
   "cell_type": "markdown",
   "metadata": {
    "heading_collapsed": true
   },
   "source": [
    "## Looking at basin"
   ]
  },
  {
   "cell_type": "markdown",
   "metadata": {
    "hidden": true
   },
   "source": [
    "Basin data looks good."
   ]
  },
  {
   "cell_type": "code",
   "execution_count": 56,
   "metadata": {
    "ExecuteTime": {
     "end_time": "2021-01-02T00:46:09.265311Z",
     "start_time": "2021-01-02T00:46:09.248135Z"
    },
    "hidden": true
   },
   "outputs": [
    {
     "data": {
      "text/plain": [
       "Pangani                    8940\n",
       "Lake Victoria              8535\n",
       "Rufiji                     7976\n",
       "Internal                   7785\n",
       "Lake Tanganyika            6333\n",
       "Wami / Ruvu                5987\n",
       "Lake Nyasa                 5085\n",
       "Ruvuma / Southern Coast    4493\n",
       "Lake Rukwa                 2454\n",
       "Name: basin, dtype: int64"
      ]
     },
     "execution_count": 56,
     "metadata": {},
     "output_type": "execute_result"
    }
   ],
   "source": [
    "Full_data.basin.value_counts()"
   ]
  },
  {
   "cell_type": "markdown",
   "metadata": {
    "heading_collapsed": true
   },
   "source": [
    "## Looking at subvillage"
   ]
  },
  {
   "cell_type": "markdown",
   "metadata": {
    "hidden": true
   },
   "source": [
    "There is 18,568 different subvillages. Doing 10 or less subvillage counts brings it down to 598. But the majority is less than 10, so too many categories. Might be best to just drop this column."
   ]
  },
  {
   "cell_type": "code",
   "execution_count": 57,
   "metadata": {
    "ExecuteTime": {
     "end_time": "2021-01-02T00:46:09.295192Z",
     "start_time": "2021-01-02T00:46:09.267924Z"
    },
    "hidden": true
   },
   "outputs": [
    {
     "data": {
      "text/plain": [
       "Majengo            494\n",
       "Shuleni            492\n",
       "Madukani           435\n",
       "None               371\n",
       "Kati               366\n",
       "                  ... \n",
       "Mwakonde             1\n",
       "Katongwa             1\n",
       "Mkabingu             1\n",
       "Ngholong             1\n",
       "Mlima Ndabaneze      1\n",
       "Name: subvillage, Length: 18568, dtype: int64"
      ]
     },
     "execution_count": 57,
     "metadata": {},
     "output_type": "execute_result"
    }
   ],
   "source": [
    "Full_data.subvillage.value_counts()"
   ]
  },
  {
   "cell_type": "code",
   "execution_count": 58,
   "metadata": {
    "ExecuteTime": {
     "end_time": "2021-01-02T00:46:09.343724Z",
     "start_time": "2021-01-02T00:46:09.298653Z"
    },
    "hidden": true
   },
   "outputs": [
    {
     "data": {
      "text/plain": [
       "598"
      ]
     },
     "execution_count": 58,
     "metadata": {},
     "output_type": "execute_result"
    }
   ],
   "source": [
    "test6 = Full_data\n",
    "test6.loc[test6['subvillage'].value_counts()[test6['subvillage']].values < 11, 'subvillage'] = \"small_village\"\n",
    "test6.subvillage.nunique()"
   ]
  },
  {
   "cell_type": "code",
   "execution_count": 59,
   "metadata": {
    "ExecuteTime": {
     "end_time": "2021-01-02T00:46:09.367652Z",
     "start_time": "2021-01-02T00:46:09.346809Z"
    },
    "hidden": true
   },
   "outputs": [
    {
     "data": {
      "text/plain": [
       "small_village    40640\n",
       "Majengo            494\n",
       "Shuleni            492\n",
       "Madukani           435\n",
       "None               371\n",
       "                 ...  \n",
       "Mwira A             11\n",
       "Lihami              11\n",
       "Mengeni             11\n",
       "Msumbiji A          11\n",
       "Kibuyuni            11\n",
       "Name: subvillage, Length: 598, dtype: int64"
      ]
     },
     "execution_count": 59,
     "metadata": {},
     "output_type": "execute_result"
    }
   ],
   "source": [
    "test6.subvillage.value_counts()"
   ]
  },
  {
   "cell_type": "markdown",
   "metadata": {
    "heading_collapsed": true
   },
   "source": [
    "## Looking at region, region_code, district code, lga, and ward"
   ]
  },
  {
   "cell_type": "markdown",
   "metadata": {
    "hidden": true
   },
   "source": [
    "The data looks similar, the region code seems to have more categories. Going to drop region_code, district code, and ward. Keeping region and lga."
   ]
  },
  {
   "cell_type": "code",
   "execution_count": 60,
   "metadata": {
    "ExecuteTime": {
     "end_time": "2021-01-02T00:46:09.431077Z",
     "start_time": "2021-01-02T00:46:09.371075Z"
    },
    "hidden": true
   },
   "outputs": [
    {
     "data": {
      "text/plain": [
       "21"
      ]
     },
     "execution_count": 60,
     "metadata": {},
     "output_type": "execute_result"
    }
   ],
   "source": [
    "Full_data.region.nunique()"
   ]
  },
  {
   "cell_type": "code",
   "execution_count": 61,
   "metadata": {
    "ExecuteTime": {
     "end_time": "2021-01-02T00:46:09.459714Z",
     "start_time": "2021-01-02T00:46:09.450162Z"
    },
    "hidden": true
   },
   "outputs": [
    {
     "data": {
      "text/plain": [
       "27"
      ]
     },
     "execution_count": 61,
     "metadata": {},
     "output_type": "execute_result"
    }
   ],
   "source": [
    "Full_data.region_code.nunique()"
   ]
  },
  {
   "cell_type": "code",
   "execution_count": 62,
   "metadata": {
    "ExecuteTime": {
     "end_time": "2021-01-02T00:46:09.578170Z",
     "start_time": "2021-01-02T00:46:09.466241Z"
    },
    "hidden": true
   },
   "outputs": [
    {
     "data": {
      "text/plain": [
       "20"
      ]
     },
     "execution_count": 62,
     "metadata": {},
     "output_type": "execute_result"
    }
   ],
   "source": [
    "Full_data.district_code.nunique()"
   ]
  },
  {
   "cell_type": "code",
   "execution_count": 63,
   "metadata": {
    "ExecuteTime": {
     "end_time": "2021-01-02T00:46:09.630563Z",
     "start_time": "2021-01-02T00:46:09.599002Z"
    },
    "hidden": true
   },
   "outputs": [
    {
     "data": {
      "text/plain": [
       "Iringa           5294\n",
       "Mbeya            4639\n",
       "Kilimanjaro      4379\n",
       "Morogoro         4006\n",
       "Shinyanga        3977\n",
       "Arusha           3350\n",
       "Kagera           3316\n",
       "Kigoma           2816\n",
       "Ruvuma           2640\n",
       "Pwani            2635\n",
       "Tanga            2547\n",
       "Mwanza           2295\n",
       "Dodoma           2201\n",
       "Singida          2093\n",
       "Mara             1969\n",
       "Tabora           1959\n",
       "Rukwa            1808\n",
       "Mtwara           1730\n",
       "Manyara          1583\n",
       "Lindi            1546\n",
       "Dar es Salaam     805\n",
       "Name: region, dtype: int64"
      ]
     },
     "execution_count": 63,
     "metadata": {},
     "output_type": "execute_result"
    }
   ],
   "source": [
    "Full_data.region.value_counts()"
   ]
  },
  {
   "cell_type": "code",
   "execution_count": 64,
   "metadata": {
    "ExecuteTime": {
     "end_time": "2021-01-02T00:46:09.665584Z",
     "start_time": "2021-01-02T00:46:09.639951Z"
    },
    "hidden": true
   },
   "outputs": [
    {
     "data": {
      "text/plain": [
       "124"
      ]
     },
     "execution_count": 64,
     "metadata": {},
     "output_type": "execute_result"
    }
   ],
   "source": [
    "len(Full_data.lga.value_counts())"
   ]
  },
  {
   "cell_type": "code",
   "execution_count": 65,
   "metadata": {
    "ExecuteTime": {
     "end_time": "2021-01-02T00:46:09.702027Z",
     "start_time": "2021-01-02T00:46:09.671692Z"
    },
    "hidden": true
   },
   "outputs": [
    {
     "data": {
      "text/plain": [
       "2033"
      ]
     },
     "execution_count": 65,
     "metadata": {},
     "output_type": "execute_result"
    }
   ],
   "source": [
    "len(Full_data.ward.value_counts())"
   ]
  },
  {
   "cell_type": "code",
   "execution_count": 66,
   "metadata": {
    "ExecuteTime": {
     "end_time": "2021-01-02T00:46:13.787368Z",
     "start_time": "2021-01-02T00:46:09.706625Z"
    },
    "hidden": true
   },
   "outputs": [
    {
     "data": {
      "text/plain": [
       "(array([6370., 4386., 4252., 4560., 3086., 3319., 2828., 1503., 1049.,\n",
       "         906.]),\n",
       " array([  0. ,  12.3,  24.6,  36.9,  49.2,  61.5,  73.8,  86.1,  98.4,\n",
       "        110.7, 123. ]),\n",
       " <a list of 10 Patch objects>)"
      ]
     },
     "execution_count": 66,
     "metadata": {},
     "output_type": "execute_result"
    },
    {
     "data": {
      "image/png": "[encoded data removed]",
      "text/plain": [
       "<Figure size 432x288 with 1 Axes>"
      ]
     },
     "metadata": {
      "needs_background": "light"
     },
     "output_type": "display_data"
    }
   ],
   "source": [
    "plt.hist(functional_group_df['lga'])"
   ]
  },
  {
   "cell_type": "code",
   "execution_count": 67,
   "metadata": {
    "ExecuteTime": {
     "end_time": "2021-01-02T00:46:19.844220Z",
     "start_time": "2021-01-02T00:46:14.099885Z"
    },
    "hidden": true
   },
   "outputs": [
    {
     "data": {
      "text/plain": [
       "(array([ 995.,  715., 1146.,  460.,  326.,  317.,  138.,  107.,   81.,\n",
       "          32.]),\n",
       " array([  0. ,  10.6,  21.2,  31.8,  42.4,  53. ,  63.6,  74.2,  84.8,\n",
       "         95.4, 106. ]),\n",
       " <a list of 10 Patch objects>)"
      ]
     },
     "execution_count": 67,
     "metadata": {},
     "output_type": "execute_result"
    },
    {
     "data": {
      "image/png": "[encoded data removed]",
      "text/plain": [
       "<Figure size 432x288 with 1 Axes>"
      ]
     },
     "metadata": {
      "needs_background": "light"
     },
     "output_type": "display_data"
    }
   ],
   "source": [
    "plt.hist(functional_needs_repair_group_df['lga'])"
   ]
  },
  {
   "cell_type": "code",
   "execution_count": 68,
   "metadata": {
    "ExecuteTime": {
     "end_time": "2021-01-02T00:46:27.979989Z",
     "start_time": "2021-01-02T00:46:19.993533Z"
    },
    "hidden": true
   },
   "outputs": [
    {
     "data": {
      "text/plain": [
       "(array([3757., 2672., 2141., 2629., 2204., 2527., 2025., 2382., 1737.,\n",
       "         750.]),\n",
       " array([  0. ,  12.4,  24.8,  37.2,  49.6,  62. ,  74.4,  86.8,  99.2,\n",
       "        111.6, 124. ]),\n",
       " <a list of 10 Patch objects>)"
      ]
     },
     "execution_count": 68,
     "metadata": {},
     "output_type": "execute_result"
    },
    {
     "data": {
      "image/png": "[encoded data removed]",
      "text/plain": [
       "<Figure size 432x288 with 1 Axes>"
      ]
     },
     "metadata": {
      "needs_background": "light"
     },
     "output_type": "display_data"
    }
   ],
   "source": [
    "plt.hist(nonfunctional_group_df['lga'])"
   ]
  },
  {
   "cell_type": "code",
   "execution_count": 69,
   "metadata": {
    "ExecuteTime": {
     "end_time": "2021-01-02T00:46:28.275256Z",
     "start_time": "2021-01-02T00:46:28.145830Z"
    },
    "hidden": true
   },
   "outputs": [],
   "source": [
    "Full_data.drop(columns=['region_code','district_code','ward'],axis=1,inplace=True)"
   ]
  },
  {
   "cell_type": "markdown",
   "metadata": {
    "heading_collapsed": true
   },
   "source": [
    "## Looking at population"
   ]
  },
  {
   "cell_type": "markdown",
   "metadata": {
    "hidden": true
   },
   "source": [
    "There is some 0 for population but that might be important too so keeping that. Don't think we need to change anything to it."
   ]
  },
  {
   "cell_type": "code",
   "execution_count": 70,
   "metadata": {
    "ExecuteTime": {
     "end_time": "2021-01-02T00:46:29.606548Z",
     "start_time": "2021-01-02T00:46:28.292367Z"
    },
    "hidden": true
   },
   "outputs": [
    {
     "data": {
      "text/plain": [
       "Text(0.5, 1.0, 'status_group relation with increasing population')"
      ]
     },
     "execution_count": 70,
     "metadata": {},
     "output_type": "execute_result"
    },
    {
     "data": {
      "image/png": "[encoded data removed]",
      "text/plain": [
       "<Figure size 432x288 with 1 Axes>"
      ]
     },
     "metadata": {
      "needs_background": "light"
     },
     "output_type": "display_data"
    }
   ],
   "source": [
    "plt.scatter(y=test1['status_group'], x=test1['population'])\n",
    "plt.title('status_group relation with increasing population')"
   ]
  },
  {
   "cell_type": "markdown",
   "metadata": {
    "heading_collapsed": true
   },
   "source": [
    "## Looking at Public Meeting"
   ]
  },
  {
   "cell_type": "markdown",
   "metadata": {
    "hidden": true
   },
   "source": [
    "Public meeting looks good, going to do KNN imputation on unknown."
   ]
  },
  {
   "cell_type": "code",
   "execution_count": 71,
   "metadata": {
    "ExecuteTime": {
     "end_time": "2021-01-02T00:46:29.758584Z",
     "start_time": "2021-01-02T00:46:29.647045Z"
    },
    "hidden": true
   },
   "outputs": [
    {
     "data": {
      "text/plain": [
       "True       49737\n",
       "False       4875\n",
       "Unknown     2976\n",
       "Name: public_meeting, dtype: int64"
      ]
     },
     "execution_count": 71,
     "metadata": {},
     "output_type": "execute_result"
    }
   ],
   "source": [
    "Full_data.public_meeting.value_counts()"
   ]
  },
  {
   "cell_type": "code",
   "execution_count": 72,
   "metadata": {
    "ExecuteTime": {
     "end_time": "2021-01-02T00:46:30.474517Z",
     "start_time": "2021-01-02T00:46:29.777099Z"
    },
    "hidden": true
   },
   "outputs": [
    {
     "data": {
      "text/plain": [
       "<matplotlib.axes._subplots.AxesSubplot at 0x7ff8248bb128>"
      ]
     },
     "execution_count": 72,
     "metadata": {},
     "output_type": "execute_result"
    },
    {
     "data": {
      "image/png": "[encoded data removed]",
      "text/plain": [
       "<Figure size 432x288 with 1 Axes>"
      ]
     },
     "metadata": {
      "needs_background": "light"
     },
     "output_type": "display_data"
    }
   ],
   "source": [
    "test7 = Full_data[Full_data['public_meeting'] == 'Unknown']\n",
    "test7.status_group.hist()"
   ]
  },
  {
   "cell_type": "markdown",
   "metadata": {
    "heading_collapsed": true
   },
   "source": [
    "## Looking at recorded_by"
   ]
  },
  {
   "cell_type": "markdown",
   "metadata": {
    "hidden": true
   },
   "source": [
    "This column only has one category, going to drop it."
   ]
  },
  {
   "cell_type": "code",
   "execution_count": 73,
   "metadata": {
    "ExecuteTime": {
     "end_time": "2021-01-02T00:46:30.511340Z",
     "start_time": "2021-01-02T00:46:30.481644Z"
    },
    "hidden": true
   },
   "outputs": [
    {
     "data": {
      "text/plain": [
       "GeoData Consultants Ltd    57588\n",
       "Name: recorded_by, dtype: int64"
      ]
     },
     "execution_count": 73,
     "metadata": {},
     "output_type": "execute_result"
    }
   ],
   "source": [
    "Full_data.recorded_by.value_counts()"
   ]
  },
  {
   "cell_type": "code",
   "execution_count": 74,
   "metadata": {
    "ExecuteTime": {
     "end_time": "2021-01-02T00:46:30.559635Z",
     "start_time": "2021-01-02T00:46:30.534640Z"
    },
    "hidden": true
   },
   "outputs": [
    {
     "data": {
      "text/plain": [
       "(57588, 34)"
      ]
     },
     "execution_count": 74,
     "metadata": {},
     "output_type": "execute_result"
    }
   ],
   "source": [
    "Full_data.shape"
   ]
  },
  {
   "cell_type": "markdown",
   "metadata": {
    "heading_collapsed": true
   },
   "source": [
    "## Looking at scheme_management and scheme_name"
   ]
  },
  {
   "cell_type": "markdown",
   "metadata": {
    "hidden": true
   },
   "source": [
    "Scheme_management looks good, None is just a placeholder for NA. NA will be addressed using KNN imputation. Scheme_name will be dropped, they add too many category values and don't give a better insite than scheme_management."
   ]
  },
  {
   "cell_type": "code",
   "execution_count": 75,
   "metadata": {
    "ExecuteTime": {
     "end_time": "2021-01-02T00:46:30.646057Z",
     "start_time": "2021-01-02T00:46:30.606211Z"
    },
    "hidden": true
   },
   "outputs": [
    {
     "data": {
      "text/plain": [
       "VWC                 36143\n",
       "WUG                  4249\n",
       "None                 3751\n",
       "Water authority      3151\n",
       "WUA                  2882\n",
       "Water Board          2747\n",
       "Parastatal           1607\n",
       "Private operator     1063\n",
       "Company              1061\n",
       "Other                 765\n",
       "SWC                    97\n",
       "Trust                  72\n",
       "Name: scheme_management, dtype: int64"
      ]
     },
     "execution_count": 75,
     "metadata": {},
     "output_type": "execute_result"
    }
   ],
   "source": [
    "Full_data.scheme_management.value_counts()"
   ]
  },
  {
   "cell_type": "code",
   "execution_count": 76,
   "metadata": {
    "ExecuteTime": {
     "end_time": "2021-01-02T00:46:31.991150Z",
     "start_time": "2021-01-02T00:46:30.655596Z"
    },
    "hidden": true
   },
   "outputs": [
    {
     "data": {
      "text/plain": [
       "Text(0.5, 1.0, 'status_group relation with scheme_management')"
      ]
     },
     "execution_count": 76,
     "metadata": {},
     "output_type": "execute_result"
    },
    {
     "data": {
      "image/png": "[encoded data removed]",
      "text/plain": [
       "<Figure size 864x432 with 1 Axes>"
      ]
     },
     "metadata": {
      "needs_background": "light"
     },
     "output_type": "display_data"
    }
   ],
   "source": [
    "# There's probably a better graph for this but this is just a quick look.\n",
    "plt.figure(figsize=(12,6))\n",
    "plt.scatter(y=test1['status_group'], x=test1['scheme_management'])\n",
    "plt.title('status_group relation with scheme_management')"
   ]
  },
  {
   "cell_type": "code",
   "execution_count": 77,
   "metadata": {
    "ExecuteTime": {
     "end_time": "2021-01-02T00:46:32.075143Z",
     "start_time": "2021-01-02T00:46:31.999405Z"
    },
    "hidden": true
   },
   "outputs": [
    {
     "data": {
      "text/plain": [
       "K                       682\n",
       "None                    644\n",
       "Borehole                418\n",
       "Chalinze wate           405\n",
       "M                       400\n",
       "                       ... \n",
       "Islamic                   1\n",
       "Kisogwe                   1\n",
       "BL Dispensary             1\n",
       "Mtema/MWS                 1\n",
       "Sikonge water supply      1\n",
       "Name: scheme_name, Length: 2658, dtype: int64"
      ]
     },
     "execution_count": 77,
     "metadata": {},
     "output_type": "execute_result"
    }
   ],
   "source": [
    "Full_data.scheme_name.value_counts()"
   ]
  },
  {
   "cell_type": "code",
   "execution_count": 78,
   "metadata": {
    "ExecuteTime": {
     "end_time": "2021-01-02T00:46:32.163186Z",
     "start_time": "2021-01-02T00:46:32.107993Z"
    },
    "hidden": true
   },
   "outputs": [],
   "source": [
    "Full_data.drop(columns=['scheme_name'],axis=1,inplace=True)"
   ]
  },
  {
   "cell_type": "markdown",
   "metadata": {
    "heading_collapsed": true
   },
   "source": [
    "## Looking at Permit"
   ]
  },
  {
   "cell_type": "markdown",
   "metadata": {
    "hidden": true
   },
   "source": [
    "This column is addressed in checking Nan entries (3.2)"
   ]
  },
  {
   "cell_type": "code",
   "execution_count": 79,
   "metadata": {
    "ExecuteTime": {
     "end_time": "2021-01-02T00:46:32.206690Z",
     "start_time": "2021-01-02T00:46:32.170706Z"
    },
    "hidden": true
   },
   "outputs": [
    {
     "data": {
      "text/plain": [
       "True     38100\n",
       "False    19488\n",
       "Name: permit, dtype: int64"
      ]
     },
     "execution_count": 79,
     "metadata": {},
     "output_type": "execute_result"
    }
   ],
   "source": [
    "Full_data.permit.value_counts()"
   ]
  },
  {
   "cell_type": "markdown",
   "metadata": {
    "heading_collapsed": true
   },
   "source": [
    "## Looking at construction_year"
   ]
  },
  {
   "cell_type": "markdown",
   "metadata": {
    "hidden": true
   },
   "source": [
    "Making an Age column instead of construction_year would be better. There is 18,897 0's, these we can put as 'unknown'. Also going to put this column as a category since we have a bunch of unknowns. This will be 55 columns."
   ]
  },
  {
   "cell_type": "code",
   "execution_count": 80,
   "metadata": {
    "ExecuteTime": {
     "end_time": "2021-01-02T00:46:32.242115Z",
     "start_time": "2021-01-02T00:46:32.215904Z"
    },
    "hidden": true
   },
   "outputs": [
    {
     "data": {
      "text/plain": [
       "0       18897\n",
       "2010     2645\n",
       "2008     2613\n",
       "2009     2533\n",
       "2000     2091\n",
       "2007     1587\n",
       "2006     1471\n",
       "2003     1286\n",
       "2011     1256\n",
       "2004     1123\n",
       "2012     1084\n",
       "2002     1075\n",
       "1978     1037\n",
       "1995     1014\n",
       "2005     1011\n",
       "1999      979\n",
       "1998      966\n",
       "1990      954\n",
       "1985      945\n",
       "1980      811\n",
       "1996      811\n",
       "1984      779\n",
       "1982      744\n",
       "1994      738\n",
       "1972      708\n",
       "1974      676\n",
       "1997      644\n",
       "1992      640\n",
       "1993      608\n",
       "2001      540\n",
       "1988      521\n",
       "1983      488\n",
       "1975      437\n",
       "1986      434\n",
       "1976      414\n",
       "1970      411\n",
       "1991      324\n",
       "1989      316\n",
       "1987      302\n",
       "1981      238\n",
       "1977      202\n",
       "1979      192\n",
       "1973      184\n",
       "2013      176\n",
       "1971      145\n",
       "1960      102\n",
       "1967       88\n",
       "1963       85\n",
       "1968       77\n",
       "1969       59\n",
       "1964       40\n",
       "1962       30\n",
       "1961       21\n",
       "1965       19\n",
       "1966       17\n",
       "Name: construction_year, dtype: int64"
      ]
     },
     "execution_count": 80,
     "metadata": {},
     "output_type": "execute_result"
    }
   ],
   "source": [
    "Full_data.construction_year.value_counts()"
   ]
  },
  {
   "cell_type": "code",
   "execution_count": 81,
   "metadata": {
    "ExecuteTime": {
     "end_time": "2021-01-02T00:46:32.429599Z",
     "start_time": "2021-01-02T00:46:32.254401Z"
    },
    "hidden": true
   },
   "outputs": [],
   "source": [
    "Full_data['Age'] = [2020 - x for x in Full_data['construction_year']]\n",
    "Full_data['Age'].replace({2020:'Unknown'},inplace=True)\n",
    "Full_data['Age'] = Full_data.Age.astype('category')\n",
    "Full_data.drop(columns=['construction_year'],axis=1,inplace=True)"
   ]
  },
  {
   "cell_type": "code",
   "execution_count": 82,
   "metadata": {
    "ExecuteTime": {
     "end_time": "2021-01-02T00:46:32.483322Z",
     "start_time": "2021-01-02T00:46:32.460908Z"
    },
    "hidden": true
   },
   "outputs": [
    {
     "data": {
      "text/plain": [
       "55"
      ]
     },
     "execution_count": 82,
     "metadata": {},
     "output_type": "execute_result"
    }
   ],
   "source": [
    "Full_data.Age.nunique()"
   ]
  },
  {
   "cell_type": "markdown",
   "metadata": {
    "heading_collapsed": true
   },
   "source": [
    "## Looking at management and management_group"
   ]
  },
  {
   "cell_type": "markdown",
   "metadata": {
    "hidden": true
   },
   "source": [
    "Both these columns describe how the well is managed. Can probably bring this down to one column. Just from initial look the management might be better to keep. Both columns don't seem to show any apparent trend but management has a bigger spread meaning it could potentially tell us more. So going to drop management_group."
   ]
  },
  {
   "cell_type": "code",
   "execution_count": 83,
   "metadata": {
    "ExecuteTime": {
     "end_time": "2021-01-02T00:46:32.535550Z",
     "start_time": "2021-01-02T00:46:32.497958Z"
    },
    "hidden": true
   },
   "outputs": [
    {
     "data": {
      "text/plain": [
       "vwc                 39746\n",
       "wug                  5556\n",
       "water board          2932\n",
       "wua                  2533\n",
       "private operator     1970\n",
       "parastatal           1696\n",
       "water authority       902\n",
       "other                 840\n",
       "company               685\n",
       "unknown               551\n",
       "other - school         99\n",
       "trust                  78\n",
       "Name: management, dtype: int64"
      ]
     },
     "execution_count": 83,
     "metadata": {},
     "output_type": "execute_result"
    }
   ],
   "source": [
    "Full_data.management.value_counts()"
   ]
  },
  {
   "cell_type": "code",
   "execution_count": 84,
   "metadata": {
    "ExecuteTime": {
     "end_time": "2021-01-02T00:46:34.040882Z",
     "start_time": "2021-01-02T00:46:32.545006Z"
    },
    "hidden": true
   },
   "outputs": [
    {
     "data": {
      "text/plain": [
       "<matplotlib.axes._subplots.AxesSubplot at 0x7ff824b58f28>"
      ]
     },
     "execution_count": 84,
     "metadata": {},
     "output_type": "execute_result"
    },
    {
     "data": {
      "image/png": "[encoded data removed]",
      "text/plain": [
       "<Figure size 864x432 with 1 Axes>"
      ]
     },
     "metadata": {
      "needs_background": "light"
     },
     "output_type": "display_data"
    }
   ],
   "source": [
    "functional_group_df.management.hist(figsize=(12,6))"
   ]
  },
  {
   "cell_type": "code",
   "execution_count": 85,
   "metadata": {
    "ExecuteTime": {
     "end_time": "2021-01-02T00:46:34.926763Z",
     "start_time": "2021-01-02T00:46:34.051515Z"
    },
    "hidden": true
   },
   "outputs": [
    {
     "data": {
      "text/plain": [
       "<matplotlib.axes._subplots.AxesSubplot at 0x7ff824827d68>"
      ]
     },
     "execution_count": 85,
     "metadata": {},
     "output_type": "execute_result"
    },
    {
     "data": {
      "image/png": "[encoded data removed]",
      "text/plain": [
       "<Figure size 864x432 with 1 Axes>"
      ]
     },
     "metadata": {
      "needs_background": "light"
     },
     "output_type": "display_data"
    }
   ],
   "source": [
    "nonfunctional_group_df.management.hist(figsize=(12,6))"
   ]
  },
  {
   "cell_type": "code",
   "execution_count": 86,
   "metadata": {
    "ExecuteTime": {
     "end_time": "2021-01-02T00:46:35.594953Z",
     "start_time": "2021-01-02T00:46:34.931725Z"
    },
    "hidden": true
   },
   "outputs": [
    {
     "data": {
      "text/plain": [
       "<matplotlib.axes._subplots.AxesSubplot at 0x7ff825a5e160>"
      ]
     },
     "execution_count": 86,
     "metadata": {},
     "output_type": "execute_result"
    },
    {
     "data": {
      "image/png": "[encoded data removed]",
      "text/plain": [
       "<Figure size 864x432 with 1 Axes>"
      ]
     },
     "metadata": {
      "needs_background": "light"
     },
     "output_type": "display_data"
    }
   ],
   "source": [
    "functional_needs_repair_group_df.management.hist(figsize=(12,6))"
   ]
  },
  {
   "cell_type": "code",
   "execution_count": 87,
   "metadata": {
    "ExecuteTime": {
     "end_time": "2021-01-02T00:46:35.681432Z",
     "start_time": "2021-01-02T00:46:35.598282Z"
    },
    "hidden": true
   },
   "outputs": [
    {
     "data": {
      "text/plain": [
       "user-group    50767\n",
       "commercial     3635\n",
       "parastatal     1696\n",
       "other           939\n",
       "unknown         551\n",
       "Name: management_group, dtype: int64"
      ]
     },
     "execution_count": 87,
     "metadata": {},
     "output_type": "execute_result"
    }
   ],
   "source": [
    "Full_data.management_group.value_counts()"
   ]
  },
  {
   "cell_type": "code",
   "execution_count": 88,
   "metadata": {
    "ExecuteTime": {
     "end_time": "2021-01-02T00:46:36.527636Z",
     "start_time": "2021-01-02T00:46:35.695683Z"
    },
    "hidden": true
   },
   "outputs": [
    {
     "data": {
      "text/plain": [
       "<matplotlib.axes._subplots.AxesSubplot at 0x7ff825a93748>"
      ]
     },
     "execution_count": 88,
     "metadata": {},
     "output_type": "execute_result"
    },
    {
     "data": {
      "image/png": "[encoded data removed]",
      "text/plain": [
       "<Figure size 864x432 with 1 Axes>"
      ]
     },
     "metadata": {
      "needs_background": "light"
     },
     "output_type": "display_data"
    }
   ],
   "source": [
    "functional_group_df.management_group.hist(figsize=(12,6))"
   ]
  },
  {
   "cell_type": "code",
   "execution_count": 89,
   "metadata": {
    "ExecuteTime": {
     "end_time": "2021-01-02T00:46:37.513064Z",
     "start_time": "2021-01-02T00:46:36.604781Z"
    },
    "hidden": true
   },
   "outputs": [
    {
     "data": {
      "text/plain": [
       "<matplotlib.axes._subplots.AxesSubplot at 0x7ff81fdc0860>"
      ]
     },
     "execution_count": 89,
     "metadata": {},
     "output_type": "execute_result"
    },
    {
     "data": {
      "image/png": "[encoded data removed]",
      "text/plain": [
       "<Figure size 864x432 with 1 Axes>"
      ]
     },
     "metadata": {
      "needs_background": "light"
     },
     "output_type": "display_data"
    }
   ],
   "source": [
    "nonfunctional_group_df.management_group.hist(figsize=(12,6))"
   ]
  },
  {
   "cell_type": "code",
   "execution_count": 90,
   "metadata": {
    "ExecuteTime": {
     "end_time": "2021-01-02T00:46:38.584804Z",
     "start_time": "2021-01-02T00:46:37.531389Z"
    },
    "hidden": true
   },
   "outputs": [
    {
     "data": {
      "text/plain": [
       "<matplotlib.axes._subplots.AxesSubplot at 0x7ff820010550>"
      ]
     },
     "execution_count": 90,
     "metadata": {},
     "output_type": "execute_result"
    },
    {
     "data": {
      "image/png": "[encoded data removed]",
      "text/plain": [
       "<Figure size 864x432 with 1 Axes>"
      ]
     },
     "metadata": {
      "needs_background": "light"
     },
     "output_type": "display_data"
    }
   ],
   "source": [
    "functional_needs_repair_group_df.management_group.hist(figsize=(12,6))"
   ]
  },
  {
   "cell_type": "code",
   "execution_count": 91,
   "metadata": {
    "ExecuteTime": {
     "end_time": "2021-01-02T00:46:38.810831Z",
     "start_time": "2021-01-02T00:46:38.674499Z"
    },
    "hidden": true
   },
   "outputs": [],
   "source": [
    "Full_data.drop(columns=['management_group'],axis=1,inplace=True)"
   ]
  },
  {
   "cell_type": "markdown",
   "metadata": {
    "heading_collapsed": true
   },
   "source": [
    "## Looking at payment and payment_type"
   ]
  },
  {
   "cell_type": "markdown",
   "metadata": {
    "hidden": true
   },
   "source": [
    "These columns look like they're the same info. It also looks like the data is the same in both columns. Going to drop payment and keep payment type."
   ]
  },
  {
   "cell_type": "code",
   "execution_count": 92,
   "metadata": {
    "ExecuteTime": {
     "end_time": "2021-01-02T00:46:38.874919Z",
     "start_time": "2021-01-02T00:46:38.828759Z"
    },
    "hidden": true
   },
   "outputs": [
    {
     "data": {
      "text/plain": [
       "never pay                24380\n",
       "pay per bucket            8953\n",
       "pay monthly               8229\n",
       "unknown                   7654\n",
       "pay when scheme fails     3843\n",
       "pay annually              3626\n",
       "other                      903\n",
       "Name: payment, dtype: int64"
      ]
     },
     "execution_count": 92,
     "metadata": {},
     "output_type": "execute_result"
    }
   ],
   "source": [
    "Full_data.payment.value_counts()"
   ]
  },
  {
   "cell_type": "code",
   "execution_count": 93,
   "metadata": {
    "ExecuteTime": {
     "end_time": "2021-01-02T00:46:38.944220Z",
     "start_time": "2021-01-02T00:46:38.886123Z"
    },
    "hidden": true
   },
   "outputs": [
    {
     "data": {
      "text/plain": [
       "never pay     24380\n",
       "per bucket     8953\n",
       "monthly        8229\n",
       "unknown        7654\n",
       "on failure     3843\n",
       "annually       3626\n",
       "other           903\n",
       "Name: payment_type, dtype: int64"
      ]
     },
     "execution_count": 93,
     "metadata": {},
     "output_type": "execute_result"
    }
   ],
   "source": [
    "Full_data.payment_type.value_counts()"
   ]
  },
  {
   "cell_type": "code",
   "execution_count": 94,
   "metadata": {
    "ExecuteTime": {
     "end_time": "2021-01-02T00:46:39.045721Z",
     "start_time": "2021-01-02T00:46:38.957957Z"
    },
    "hidden": true
   },
   "outputs": [],
   "source": [
    "Full_data.drop(columns=['payment'],axis=1,inplace=True)"
   ]
  },
  {
   "cell_type": "markdown",
   "metadata": {
    "heading_collapsed": true
   },
   "source": [
    "## Looking at water_quality and quality group"
   ]
  },
  {
   "cell_type": "markdown",
   "metadata": {
    "hidden": true
   },
   "source": [
    "These columns look at water quality. The data looks basically the same. The water_quality data is a little more discriptive so going to keep that and drop the quality_group."
   ]
  },
  {
   "cell_type": "code",
   "execution_count": 95,
   "metadata": {
    "ExecuteTime": {
     "end_time": "2021-01-02T00:46:39.104120Z",
     "start_time": "2021-01-02T00:46:39.063791Z"
    },
    "hidden": true
   },
   "outputs": [
    {
     "data": {
      "text/plain": [
       "soft                  49431\n",
       "salty                  4772\n",
       "unknown                1661\n",
       "milky                   803\n",
       "coloured                479\n",
       "salty abandoned         228\n",
       "fluoride                199\n",
       "fluoride abandoned       15\n",
       "Name: water_quality, dtype: int64"
      ]
     },
     "execution_count": 95,
     "metadata": {},
     "output_type": "execute_result"
    }
   ],
   "source": [
    "Full_data.water_quality.value_counts()"
   ]
  },
  {
   "cell_type": "code",
   "execution_count": 96,
   "metadata": {
    "ExecuteTime": {
     "end_time": "2021-01-02T00:46:39.309403Z",
     "start_time": "2021-01-02T00:46:39.121747Z"
    },
    "hidden": true
   },
   "outputs": [
    {
     "data": {
      "text/plain": [
       "good        49431\n",
       "salty        5000\n",
       "unknown      1661\n",
       "milky         803\n",
       "colored       479\n",
       "fluoride      214\n",
       "Name: quality_group, dtype: int64"
      ]
     },
     "execution_count": 96,
     "metadata": {},
     "output_type": "execute_result"
    }
   ],
   "source": [
    "Full_data.quality_group.value_counts()"
   ]
  },
  {
   "cell_type": "code",
   "execution_count": 97,
   "metadata": {
    "ExecuteTime": {
     "end_time": "2021-01-02T00:46:39.380345Z",
     "start_time": "2021-01-02T00:46:39.336153Z"
    },
    "hidden": true
   },
   "outputs": [
    {
     "data": {
      "text/plain": [
       "non functional             2467\n",
       "functional                 2319\n",
       "functional needs repair     214\n",
       "Name: status_group, dtype: int64"
      ]
     },
     "execution_count": 97,
     "metadata": {},
     "output_type": "execute_result"
    }
   ],
   "source": [
    "Full_data[Full_data['quality_group'] == 'salty']['status_group'].value_counts()"
   ]
  },
  {
   "cell_type": "code",
   "execution_count": 98,
   "metadata": {
    "ExecuteTime": {
     "end_time": "2021-01-02T00:46:39.470067Z",
     "start_time": "2021-01-02T00:46:39.391324Z"
    },
    "hidden": true
   },
   "outputs": [
    {
     "data": {
      "text/plain": [
       "functional                 126\n",
       "non functional              87\n",
       "functional needs repair     15\n",
       "Name: status_group, dtype: int64"
      ]
     },
     "execution_count": 98,
     "metadata": {},
     "output_type": "execute_result"
    }
   ],
   "source": [
    "Full_data[Full_data['water_quality'] == 'salty abandoned']['status_group'].value_counts()"
   ]
  },
  {
   "cell_type": "code",
   "execution_count": 99,
   "metadata": {
    "ExecuteTime": {
     "end_time": "2021-01-02T00:46:39.568628Z",
     "start_time": "2021-01-02T00:46:39.529150Z"
    },
    "hidden": true
   },
   "outputs": [
    {
     "data": {
      "text/plain": [
       "functional                 150\n",
       "non functional              36\n",
       "functional needs repair     13\n",
       "Name: status_group, dtype: int64"
      ]
     },
     "execution_count": 99,
     "metadata": {},
     "output_type": "execute_result"
    }
   ],
   "source": [
    "Full_data[Full_data['water_quality']=='fluoride']['status_group'].value_counts()"
   ]
  },
  {
   "cell_type": "code",
   "execution_count": 100,
   "metadata": {
    "ExecuteTime": {
     "end_time": "2021-01-02T00:46:39.630686Z",
     "start_time": "2021-01-02T00:46:39.586609Z"
    },
    "hidden": true
   },
   "outputs": [
    {
     "data": {
      "text/plain": [
       "non functional    11\n",
       "functional         4\n",
       "Name: status_group, dtype: int64"
      ]
     },
     "execution_count": 100,
     "metadata": {},
     "output_type": "execute_result"
    }
   ],
   "source": [
    "Full_data[Full_data['water_quality']=='fluoride abandoned']['status_group'].value_counts()"
   ]
  },
  {
   "cell_type": "code",
   "execution_count": 101,
   "metadata": {
    "ExecuteTime": {
     "end_time": "2021-01-02T00:46:39.816826Z",
     "start_time": "2021-01-02T00:46:39.641184Z"
    },
    "hidden": true
   },
   "outputs": [],
   "source": [
    "Full_data.drop(columns=['quality_group'],axis=1,inplace=True)"
   ]
  },
  {
   "cell_type": "markdown",
   "metadata": {
    "heading_collapsed": true
   },
   "source": [
    "## Looking at quantity and quantity group"
   ]
  },
  {
   "cell_type": "markdown",
   "metadata": {
    "hidden": true
   },
   "source": [
    "These columns look at the quantity of water at the wells. They're both the same so going to drop quantity_group and keeping quantity."
   ]
  },
  {
   "cell_type": "code",
   "execution_count": 102,
   "metadata": {
    "ExecuteTime": {
     "end_time": "2021-01-02T00:46:39.856661Z",
     "start_time": "2021-01-02T00:46:39.825055Z"
    },
    "hidden": true
   },
   "outputs": [
    {
     "data": {
      "text/plain": [
       "enough          32260\n",
       "insufficient    14564\n",
       "dry              5990\n",
       "seasonal         4001\n",
       "unknown           773\n",
       "Name: quantity, dtype: int64"
      ]
     },
     "execution_count": 102,
     "metadata": {},
     "output_type": "execute_result"
    }
   ],
   "source": [
    "Full_data.quantity.value_counts()"
   ]
  },
  {
   "cell_type": "code",
   "execution_count": 103,
   "metadata": {
    "ExecuteTime": {
     "end_time": "2021-01-02T00:46:39.891586Z",
     "start_time": "2021-01-02T00:46:39.864571Z"
    },
    "hidden": true
   },
   "outputs": [
    {
     "data": {
      "text/plain": [
       "enough          32260\n",
       "insufficient    14564\n",
       "dry              5990\n",
       "seasonal         4001\n",
       "unknown           773\n",
       "Name: quantity_group, dtype: int64"
      ]
     },
     "execution_count": 103,
     "metadata": {},
     "output_type": "execute_result"
    }
   ],
   "source": [
    "Full_data.quantity_group.value_counts()"
   ]
  },
  {
   "cell_type": "code",
   "execution_count": 104,
   "metadata": {
    "ExecuteTime": {
     "end_time": "2021-01-02T00:46:40.005400Z",
     "start_time": "2021-01-02T00:46:39.897109Z"
    },
    "hidden": true
   },
   "outputs": [],
   "source": [
    "Full_data.drop(columns=['quantity_group'],axis=1,inplace=True)"
   ]
  },
  {
   "cell_type": "markdown",
   "metadata": {
    "heading_collapsed": true
   },
   "source": [
    "## Looking at source, source_type and source_class"
   ]
  },
  {
   "cell_type": "markdown",
   "metadata": {
    "hidden": true
   },
   "source": [
    "These columns look at the source of the water for the wells. Going to keep source since it gives a little more insight and dropping source_type. Also going to keep source_class since it will only add 3 categories and might help."
   ]
  },
  {
   "cell_type": "code",
   "execution_count": 105,
   "metadata": {
    "ExecuteTime": {
     "end_time": "2021-01-02T00:46:40.041113Z",
     "start_time": "2021-01-02T00:46:40.013488Z"
    },
    "hidden": true
   },
   "outputs": [
    {
     "data": {
      "text/plain": [
       "spring                  17006\n",
       "shallow well            15499\n",
       "machine dbh             10826\n",
       "river                    9612\n",
       "rainwater harvesting     2218\n",
       "hand dtw                  873\n",
       "dam                       649\n",
       "lake                      639\n",
       "other                     202\n",
       "unknown                    64\n",
       "Name: source, dtype: int64"
      ]
     },
     "execution_count": 105,
     "metadata": {},
     "output_type": "execute_result"
    }
   ],
   "source": [
    "Full_data.source.value_counts()"
   ]
  },
  {
   "cell_type": "code",
   "execution_count": 106,
   "metadata": {
    "ExecuteTime": {
     "end_time": "2021-01-02T00:46:40.082539Z",
     "start_time": "2021-01-02T00:46:40.051731Z"
    },
    "hidden": true
   },
   "outputs": [
    {
     "data": {
      "text/plain": [
       "spring                  17006\n",
       "shallow well            15499\n",
       "borehole                11699\n",
       "river/lake              10251\n",
       "rainwater harvesting     2218\n",
       "dam                       649\n",
       "other                     266\n",
       "Name: source_type, dtype: int64"
      ]
     },
     "execution_count": 106,
     "metadata": {},
     "output_type": "execute_result"
    }
   ],
   "source": [
    "Full_data.source_type.value_counts()"
   ]
  },
  {
   "cell_type": "code",
   "execution_count": 107,
   "metadata": {
    "ExecuteTime": {
     "end_time": "2021-01-02T00:46:40.186851Z",
     "start_time": "2021-01-02T00:46:40.097491Z"
    },
    "hidden": true
   },
   "outputs": [
    {
     "name": "stdout",
     "output_type": "stream",
     "text": [
      "non functional             0.769953\n",
      "functional                 0.211268\n",
      "functional needs repair    0.018779\n",
      "Name: status_group, dtype: float64\n",
      "functional                 0.546288\n",
      "non functional             0.333431\n",
      "functional needs repair    0.120281\n",
      "Name: status_group, dtype: float64\n"
     ]
    }
   ],
   "source": [
    "print(Full_data[Full_data['source']=='lake']['status_group'].value_counts(normalize=True))\n",
    "print(Full_data[Full_data['source_type']=='river/lake']['status_group'].value_counts(normalize=True))\n"
   ]
  },
  {
   "cell_type": "code",
   "execution_count": 108,
   "metadata": {
    "ExecuteTime": {
     "end_time": "2021-01-02T00:46:40.245351Z",
     "start_time": "2021-01-02T00:46:40.198353Z"
    },
    "hidden": true
   },
   "outputs": [
    {
     "data": {
      "text/plain": [
       "groundwater    44204\n",
       "surface        13118\n",
       "unknown          266\n",
       "Name: source_class, dtype: int64"
      ]
     },
     "execution_count": 108,
     "metadata": {},
     "output_type": "execute_result"
    }
   ],
   "source": [
    "Full_data.source_class.value_counts()"
   ]
  },
  {
   "cell_type": "code",
   "execution_count": 109,
   "metadata": {
    "ExecuteTime": {
     "end_time": "2021-01-02T00:46:40.441282Z",
     "start_time": "2021-01-02T00:46:40.265095Z"
    },
    "hidden": true
   },
   "outputs": [
    {
     "name": "stdout",
     "output_type": "stream",
     "text": [
      "functional                 0.543887\n",
      "non functional             0.402407\n",
      "functional needs repair    0.053706\n",
      "Name: status_group, dtype: float64\n",
      "functional                 0.548026\n",
      "non functional             0.333664\n",
      "functional needs repair    0.118311\n",
      "Name: status_group, dtype: float64\n"
     ]
    }
   ],
   "source": [
    "print(Full_data[Full_data['source_class']=='groundwater']['status_group'].value_counts(normalize=True))\n",
    "print(Full_data[Full_data['source_class']=='surface']['status_group'].value_counts(normalize=True))"
   ]
  },
  {
   "cell_type": "code",
   "execution_count": 110,
   "metadata": {
    "ExecuteTime": {
     "end_time": "2021-01-02T00:46:40.476319Z",
     "start_time": "2021-01-02T00:46:40.451201Z"
    },
    "hidden": true
   },
   "outputs": [],
   "source": [
    "Full_data.drop(columns=['source_type'],axis=1,inplace=True)"
   ]
  },
  {
   "cell_type": "markdown",
   "metadata": {
    "heading_collapsed": true
   },
   "source": [
    "## Looking at waterpoint_type and waterpoint_type_group"
   ]
  },
  {
   "cell_type": "markdown",
   "metadata": {
    "hidden": true
   },
   "source": [
    "These columns look at the kind of waterpoint. The only difference between the two looks like one separates communal standpipe to communal standpipe/communal standpipe multiple. The status group difference between what are in 'communal standpipe' and 'communal standpipe multiple' looks significant so going to keep waterpoint_type and dropping waterpoint_type_group."
   ]
  },
  {
   "cell_type": "code",
   "execution_count": 111,
   "metadata": {
    "ExecuteTime": {
     "end_time": "2021-01-02T00:46:40.521328Z",
     "start_time": "2021-01-02T00:46:40.486327Z"
    },
    "hidden": true
   },
   "outputs": [
    {
     "data": {
      "text/plain": [
       "communal standpipe             28375\n",
       "hand pump                      16181\n",
       "other                           6167\n",
       "communal standpipe multiple     5959\n",
       "improved spring                  783\n",
       "cattle trough                    116\n",
       "dam                                7\n",
       "Name: waterpoint_type, dtype: int64"
      ]
     },
     "execution_count": 111,
     "metadata": {},
     "output_type": "execute_result"
    }
   ],
   "source": [
    "Full_data.waterpoint_type.value_counts()"
   ]
  },
  {
   "cell_type": "code",
   "execution_count": 112,
   "metadata": {
    "ExecuteTime": {
     "end_time": "2021-01-02T00:46:40.570108Z",
     "start_time": "2021-01-02T00:46:40.530886Z"
    },
    "hidden": true
   },
   "outputs": [
    {
     "data": {
      "text/plain": [
       "communal standpipe    34334\n",
       "hand pump             16181\n",
       "other                  6167\n",
       "improved spring         783\n",
       "cattle trough           116\n",
       "dam                       7\n",
       "Name: waterpoint_type_group, dtype: int64"
      ]
     },
     "execution_count": 112,
     "metadata": {},
     "output_type": "execute_result"
    }
   ],
   "source": [
    "Full_data.waterpoint_type_group.value_counts()"
   ]
  },
  {
   "cell_type": "code",
   "execution_count": 113,
   "metadata": {
    "ExecuteTime": {
     "end_time": "2021-01-02T00:46:40.658846Z",
     "start_time": "2021-01-02T00:46:40.580797Z"
    },
    "hidden": true
   },
   "outputs": [
    {
     "name": "stdout",
     "output_type": "stream",
     "text": [
      "functional                 0.621921\n",
      "non functional             0.299101\n",
      "functional needs repair    0.078978\n",
      "Name: status_group, dtype: float64\n",
      "non functional             0.520222\n",
      "functional                 0.371035\n",
      "functional needs repair    0.108743\n",
      "Name: status_group, dtype: float64\n"
     ]
    }
   ],
   "source": [
    "print(Full_data[Full_data['waterpoint_type']=='communal standpipe']['status_group'].value_counts(normalize=True))\n",
    "print(Full_data[Full_data['waterpoint_type']=='communal standpipe multiple']['status_group'].value_counts(normalize=True))"
   ]
  },
  {
   "cell_type": "code",
   "execution_count": 114,
   "metadata": {
    "ExecuteTime": {
     "end_time": "2021-01-02T00:46:40.716418Z",
     "start_time": "2021-01-02T00:46:40.668935Z"
    },
    "hidden": true
   },
   "outputs": [],
   "source": [
    "Full_data.drop(columns=['waterpoint_type_group'],axis=1,inplace=True)"
   ]
  },
  {
   "cell_type": "markdown",
   "metadata": {
    "heading_collapsed": true
   },
   "source": [
    "# Preprocessing and Train/Test Split"
   ]
  },
  {
   "cell_type": "markdown",
   "metadata": {
    "hidden": true
   },
   "source": [
    "These are the \"fixes\" we're gonna do to the data"
   ]
  },
  {
   "cell_type": "code",
   "execution_count": 115,
   "metadata": {
    "ExecuteTime": {
     "end_time": "2021-01-02T00:46:44.856137Z",
     "start_time": "2021-01-02T00:46:40.723560Z"
    },
    "hidden": true
   },
   "outputs": [],
   "source": [
    "# creating preprocessed dataset\n",
    "df_preprocessed = pd.merge(X_data, y_data, left_on='id', right_on='id')\n",
    "\n",
    "# Switching all Nan's to Missing\n",
    "df_preprocessed[['funder', 'installer', 'public_meeting', 'scheme_management']] = df_preprocessed[['funder', 'installer',\n",
    "                                                                                                   'public_meeting', 'scheme_management']].fillna(value='Missing')\n",
    "\n",
    "# Need to add 'small_funder' to funders that fund 10 or less\n",
    "df_preprocessed.loc[df_preprocessed['funder'].value_counts(\n",
    ")[df_preprocessed['funder']].values < 11, 'funder'] = 'small_funder'\n",
    "\n",
    "# Need to add 'small_installer' to installers that fund 10 or less\n",
    "df_preprocessed.loc[df_preprocessed['installer'].value_counts(\n",
    ")[df_preprocessed['installer']].values < 11, 'installer'] = 'small_installer'\n",
    "\n",
    "\n",
    "# Changing nan values in permit to false\n",
    "df_preprocessed[['permit']] = df_preprocessed[['permit']].fillna(value=False)\n",
    "\n",
    "# dropping id, subvillage, scheme_name, wpt_name, region_code, district_code, ward\n",
    "df_preprocessed.drop(columns=['id', 'subvillage', 'scheme_name', 'wpt_name',\n",
    "                              'region_code', 'district_code', 'ward', 'recorded_by'], axis=1, inplace=True)\n",
    "\n",
    "# dropping 2 out of the 3 extraction type columns, they seem redundant\n",
    "df_preprocessed.drop(\n",
    "    columns=['extraction_type_class', 'extraction_type_group'], axis=1, inplace=True)\n",
    "\n",
    "# dropping 1,812 wells that we do not have logitude coordinates on\n",
    "df_preprocessed.drop(\n",
    "    df_preprocessed.loc[df_preprocessed['longitude'] == 0].index, inplace=True)\n",
    "\n",
    "# Changing num_private to category data type\n",
    "df_preprocessed['num_private'] = df_preprocessed.num_private.astype('category')\n",
    "\n",
    "# Making an Age column instead of construction_year.\n",
    "# There is 18,897 0's, these we can put as 'unknown'.\n",
    "# Also going to put this column as a category since we have a bunch of unknowns.\n",
    "df_preprocessed['Age'] = [\n",
    "    2020 - x for x in df_preprocessed['construction_year']]\n",
    "df_preprocessed['Age'].replace({2020: 'Unknown'}, inplace=True)\n",
    "df_preprocessed['Age'] = df_preprocessed.Age.astype('category')\n",
    "df_preprocessed.drop(columns=['construction_year'], axis=1, inplace=True)\n",
    "\n",
    "# Dropping management_group, payment, quality_group, quantity_group,\n",
    "# waterpoint_type_group and source_type\n",
    "df_preprocessed.drop(columns=['management_group', 'payment', 'quality_group',\n",
    "                              'quantity_group', 'source_type', 'waterpoint_type_group'], axis=1, inplace=True)\n",
    "\n",
    "# Changing date recorded to just year/month to bring down the number of categories\n",
    "df_preprocessed['date_recorded'] = [x[0:7] for x in df_preprocessed['date_recorded']]\n",
    "\n",
    "# Change permit to a category for the column\n",
    "df_preprocessed['permit'] = df_preprocessed.num_private.astype('category')\n",
    "\n",
    "# Creating dummy categories\n",
    "cat_col = list(df_preprocessed.columns)\n",
    "non_cat_col = ['amount_tsh','gps_height','longitude','latitude','population','status_group']\n",
    "cat_col = [e for e in cat_col if e not in non_cat_col]\n",
    "df_dummies = pd.get_dummies(df_preprocessed[cat_col],drop_first=True)\n",
    "df_preprocessed.drop(cat_col,axis=1,inplace=True)\n",
    "df = pd.concat([df_preprocessed,df_dummies],axis=1)\n",
    "\n",
    "# Both installer and funder have 777 '0', seems kind of suspicious both have the same amount.\n",
    "# 0 might actually be a group so going to leave that in but might be something to optimize later\n",
    "\n",
    "# Might be good to look into doing KNN imputation on the 0 values in amount_tsh\n"
   ]
  },
  {
   "cell_type": "code",
   "execution_count": 116,
   "metadata": {
    "ExecuteTime": {
     "end_time": "2021-01-02T00:46:44.951873Z",
     "start_time": "2021-01-02T00:46:44.936431Z"
    },
    "hidden": true
   },
   "outputs": [
    {
     "data": {
      "text/plain": [
       "(57588, 1237)"
      ]
     },
     "execution_count": 116,
     "metadata": {},
     "output_type": "execute_result"
    }
   ],
   "source": [
    "df.shape"
   ]
  },
  {
   "cell_type": "markdown",
   "metadata": {
    "hidden": true
   },
   "source": [
    "Now to do train-test split on data"
   ]
  },
  {
   "cell_type": "code",
   "execution_count": 117,
   "metadata": {
    "ExecuteTime": {
     "end_time": "2021-01-02T00:46:45.461307Z",
     "start_time": "2021-01-02T00:46:44.971993Z"
    },
    "hidden": true
   },
   "outputs": [],
   "source": [
    "# Assigning data to variables\n",
    "y = df['status_group']\n",
    "X = df.drop(columns=['status_group'],axis=1)\n",
    "y = y.replace({'functional':0,'functional needs repair':1,'non functional':2})"
   ]
  },
  {
   "cell_type": "code",
   "execution_count": 118,
   "metadata": {
    "ExecuteTime": {
     "end_time": "2021-01-02T00:46:46.195621Z",
     "start_time": "2021-01-02T00:46:45.470750Z"
    },
    "hidden": true
   },
   "outputs": [],
   "source": [
    "X_train, X_test, y_train, y_test = train_test_split(X,y, random_state=22)"
   ]
  },
  {
   "cell_type": "markdown",
   "metadata": {
    "ExecuteTime": {
     "end_time": "2021-01-01T19:49:42.778433Z",
     "start_time": "2021-01-01T19:49:42.769089Z"
    },
    "heading_collapsed": true
   },
   "source": [
    "# Dealing with class imbalance, using SMOTE"
   ]
  },
  {
   "cell_type": "code",
   "execution_count": 119,
   "metadata": {
    "ExecuteTime": {
     "end_time": "2021-01-02T00:46:46.232536Z",
     "start_time": "2021-01-02T00:46:46.212455Z"
    },
    "hidden": true
   },
   "outputs": [
    {
     "data": {
      "text/plain": [
       "0    23561\n",
       "2    16671\n",
       "1     2959\n",
       "Name: status_group, dtype: int64"
      ]
     },
     "execution_count": 119,
     "metadata": {},
     "output_type": "execute_result"
    }
   ],
   "source": [
    "y_train.value_counts()"
   ]
  },
  {
   "cell_type": "code",
   "execution_count": 120,
   "metadata": {
    "ExecuteTime": {
     "end_time": "2021-01-02T00:47:52.395340Z",
     "start_time": "2021-01-02T00:46:46.252045Z"
    },
    "hidden": true
   },
   "outputs": [
    {
     "name": "stderr",
     "output_type": "stream",
     "text": [
      "/Users/stevenkyle/opt/anaconda3/envs/learn-env/lib/python3.6/site-packages/sklearn/utils/deprecation.py:86: FutureWarning: Function safe_indexing is deprecated; safe_indexing is deprecated in version 0.22 and will be removed in version 0.24.\n",
      "  warnings.warn(msg, category=FutureWarning)\n",
      "/Users/stevenkyle/opt/anaconda3/envs/learn-env/lib/python3.6/site-packages/sklearn/utils/deprecation.py:86: FutureWarning: Function safe_indexing is deprecated; safe_indexing is deprecated in version 0.22 and will be removed in version 0.24.\n",
      "  warnings.warn(msg, category=FutureWarning)\n"
     ]
    }
   ],
   "source": [
    "oversample = SMOTE()\n",
    "X_train, y_train = oversample.fit_resample(X_train, y_train)"
   ]
  },
  {
   "cell_type": "code",
   "execution_count": 121,
   "metadata": {
    "ExecuteTime": {
     "end_time": "2021-01-02T00:47:52.455243Z",
     "start_time": "2021-01-02T00:47:52.400624Z"
    },
    "hidden": true
   },
   "outputs": [],
   "source": [
    "columnnames = X.columns"
   ]
  },
  {
   "cell_type": "code",
   "execution_count": 122,
   "metadata": {
    "ExecuteTime": {
     "end_time": "2021-01-02T00:47:52.545786Z",
     "start_time": "2021-01-02T00:47:52.466707Z"
    },
    "hidden": true
   },
   "outputs": [],
   "source": [
    "X_train = pd.DataFrame(X_train)\n",
    "X_train.columns = list(columnnames)\n",
    "y_train = pd.Series(y_train)"
   ]
  },
  {
   "cell_type": "code",
   "execution_count": 123,
   "metadata": {
    "ExecuteTime": {
     "end_time": "2021-01-02T00:47:52.597564Z",
     "start_time": "2021-01-02T00:47:52.559694Z"
    },
    "hidden": true
   },
   "outputs": [
    {
     "data": {
      "text/plain": [
       "2    23561\n",
       "1    23561\n",
       "0    23561\n",
       "dtype: int64"
      ]
     },
     "execution_count": 123,
     "metadata": {},
     "output_type": "execute_result"
    }
   ],
   "source": [
    "y_train.value_counts()"
   ]
  },
  {
   "cell_type": "markdown",
   "metadata": {},
   "source": [
    "# Inital modeling"
   ]
  },
  {
   "cell_type": "markdown",
   "metadata": {},
   "source": [
    "Now that the data is cleaned and balanced it's time to try modeling."
   ]
  },
  {
   "cell_type": "markdown",
   "metadata": {},
   "source": [
    "List of models to try:\n",
    "- Dummy classifier\n",
    "- Logistic Regression\n",
    "- KNN\n",
    "- Naive Bayes\n",
    "- Decision Trees\n",
    "- Random Forest\n",
    "- XG Boost\n",
    "- SVM"
   ]
  },
  {
   "cell_type": "markdown",
   "metadata": {
    "heading_collapsed": true
   },
   "source": [
    "## Dummy classifier"
   ]
  },
  {
   "cell_type": "code",
   "execution_count": 124,
   "metadata": {
    "ExecuteTime": {
     "end_time": "2021-01-02T00:47:52.663710Z",
     "start_time": "2021-01-02T00:47:52.621856Z"
    },
    "hidden": true
   },
   "outputs": [
    {
     "name": "stderr",
     "output_type": "stream",
     "text": [
      "/Users/stevenkyle/opt/anaconda3/envs/learn-env/lib/python3.6/site-packages/sklearn/dummy.py:132: FutureWarning: The default value of strategy will change from stratified to prior in 0.24.\n",
      "  \"stratified to prior in 0.24.\", FutureWarning)\n"
     ]
    },
    {
     "data": {
      "text/plain": [
       "DummyClassifier()"
      ]
     },
     "execution_count": 124,
     "metadata": {},
     "output_type": "execute_result"
    }
   ],
   "source": [
    "dummyclf = DummyClassifier()\n",
    "dummyclf.fit(X_train,y_train)"
   ]
  },
  {
   "cell_type": "code",
   "execution_count": 125,
   "metadata": {
    "ExecuteTime": {
     "end_time": "2021-01-02T00:47:53.411515Z",
     "start_time": "2021-01-02T00:47:52.669844Z"
    },
    "hidden": true
   },
   "outputs": [
    {
     "name": "stdout",
     "output_type": "stream",
     "text": [
      "Training Precision:  0.33295324280027483\n",
      "Testing Precision:  0.33534803875394886\n",
      "\n",
      "\n",
      "\n",
      "Training Recall:  0.3329513461511255\n",
      "Testing Recall:  0.33485788906998787\n",
      "\n",
      "\n",
      "\n",
      "Training Accuracy:  0.3329513461511254\n",
      "Testing Accuracy:  0.3370146558310759\n",
      "\n",
      "\n",
      "\n",
      "Training F1-Score:  0.33294883763005595\n",
      "Testing F1-Score:  0.29741878504116914\n"
     ]
    },
    {
     "data": {
      "image/png": "[encoded data removed]",
      "text/plain": [
       "<Figure size 432x288 with 2 Axes>"
      ]
     },
     "metadata": {
      "needs_background": "light"
     },
     "output_type": "display_data"
    }
   ],
   "source": [
    "eval_model(dummyclf, X_train, y_train, X_test, y_test)"
   ]
  },
  {
   "cell_type": "markdown",
   "metadata": {
    "heading_collapsed": true
   },
   "source": [
    "## Logisitic Regression"
   ]
  },
  {
   "cell_type": "code",
   "execution_count": 126,
   "metadata": {
    "ExecuteTime": {
     "end_time": "2021-01-02T00:47:55.799270Z",
     "start_time": "2021-01-02T00:47:53.417400Z"
    },
    "hidden": true
   },
   "outputs": [],
   "source": [
    "# Need to min max scale data before using\n",
    "scaler = MinMaxScaler()\n",
    "X_train_scaled = scaler.fit_transform(X_train,y_train)\n",
    "X_test_scaled = scaler.transform(X_test)"
   ]
  },
  {
   "cell_type": "code",
   "execution_count": 127,
   "metadata": {
    "ExecuteTime": {
     "end_time": "2021-01-02T00:49:41.865292Z",
     "start_time": "2021-01-02T00:47:55.803786Z"
    },
    "hidden": true
   },
   "outputs": [
    {
     "data": {
      "text/plain": [
       "LogisticRegression(fit_intercept=False, solver='saga')"
      ]
     },
     "execution_count": 127,
     "metadata": {},
     "output_type": "execute_result"
    }
   ],
   "source": [
    "logreg = LogisticRegression(fit_intercept=False, solver='saga')\n",
    "logreg.fit(X_train_scaled,y_train)"
   ]
  },
  {
   "cell_type": "code",
   "execution_count": 128,
   "metadata": {
    "ExecuteTime": {
     "end_time": "2021-01-02T00:49:42.421777Z",
     "start_time": "2021-01-02T00:49:41.869339Z"
    },
    "hidden": true
   },
   "outputs": [
    {
     "name": "stdout",
     "output_type": "stream",
     "text": [
      "Training Precision:  0.738041193393765\n",
      "Testing Precision:  0.6034808539790756\n",
      "\n",
      "\n",
      "\n",
      "Training Recall:  0.7339388537554999\n",
      "Testing Recall:  0.6744712848879758\n",
      "\n",
      "\n",
      "\n",
      "Training Accuracy:  0.7339388537554999\n",
      "Testing Accuracy:  0.6721539209557547\n",
      "\n",
      "\n",
      "\n",
      "Training F1-Score:  0.7336840639497964\n",
      "Testing F1-Score:  0.5933600984111654\n"
     ]
    },
    {
     "data": {
      "image/png": "[encoded data removed]",
      "text/plain": [
       "<Figure size 432x288 with 2 Axes>"
      ]
     },
     "metadata": {
      "needs_background": "light"
     },
     "output_type": "display_data"
    }
   ],
   "source": [
    "eval_model(logreg,X_train_scaled,y_train,X_test_scaled,y_test)"
   ]
  },
  {
   "cell_type": "markdown",
   "metadata": {
    "ExecuteTime": {
     "end_time": "2021-01-01T21:21:15.934453Z",
     "start_time": "2021-01-01T21:21:15.929487Z"
    },
    "heading_collapsed": true
   },
   "source": [
    "## KNN"
   ]
  },
  {
   "cell_type": "code",
   "execution_count": 129,
   "metadata": {
    "ExecuteTime": {
     "end_time": "2021-01-02T00:49:45.492871Z",
     "start_time": "2021-01-02T00:49:42.425234Z"
    },
    "hidden": true
   },
   "outputs": [],
   "source": [
    "#Need to standard scaler dataset\n",
    "StdScaler = StandardScaler()\n",
    "\n",
    "X_train_stdScaled = StdScaler.fit_transform(X_train)\n",
    "X_test_stdScaled = StdScaler.transform(X_test)"
   ]
  },
  {
   "cell_type": "code",
   "execution_count": 130,
   "metadata": {
    "ExecuteTime": {
     "end_time": "2021-01-02T00:50:26.820730Z",
     "start_time": "2021-01-02T00:49:45.495345Z"
    },
    "hidden": true
   },
   "outputs": [
    {
     "data": {
      "text/plain": [
       "KNeighborsClassifier()"
      ]
     },
     "execution_count": 130,
     "metadata": {},
     "output_type": "execute_result"
    }
   ],
   "source": [
    "#Modeling\n",
    "KNN_model = KNeighborsClassifier()\n",
    "KNN_model.fit(X_train_stdScaled,y_train)"
   ]
  },
  {
   "cell_type": "code",
   "execution_count": 131,
   "metadata": {
    "ExecuteTime": {
     "end_time": "2021-01-02T00:50:26.854201Z",
     "start_time": "2021-01-02T00:50:26.825188Z"
    },
    "hidden": true
   },
   "outputs": [],
   "source": [
    "#eval_model(KNN_model,X_train_stdScaled,y_train,X_test_stdScaled,y_test)"
   ]
  },
  {
   "cell_type": "markdown",
   "metadata": {
    "hidden": true
   },
   "source": [
    "Evaluating model is taking too long, come back and try again later."
   ]
  },
  {
   "cell_type": "markdown",
   "metadata": {
    "heading_collapsed": true
   },
   "source": [
    "## Naive Bayes"
   ]
  },
  {
   "cell_type": "code",
   "execution_count": 132,
   "metadata": {
    "ExecuteTime": {
     "end_time": "2021-01-02T00:50:26.871862Z",
     "start_time": "2021-01-02T00:50:26.863904Z"
    },
    "hidden": true
   },
   "outputs": [],
   "source": [
    "## This is where Naive Bayes will go, will try later"
   ]
  },
  {
   "cell_type": "markdown",
   "metadata": {
    "heading_collapsed": true
   },
   "source": [
    "## Decision Trees"
   ]
  },
  {
   "cell_type": "code",
   "execution_count": 134,
   "metadata": {
    "ExecuteTime": {
     "end_time": "2021-01-02T01:44:23.618612Z",
     "start_time": "2021-01-02T01:44:09.372633Z"
    },
    "hidden": true
   },
   "outputs": [
    {
     "name": "stdout",
     "output_type": "stream",
     "text": [
      "Training Precision:  1.0\n",
      "Testing Precision:  0.6537335219566123\n",
      "\n",
      "\n",
      "\n",
      "Training Recall:  1.0\n",
      "Testing Recall:  0.6651941281441219\n",
      "\n",
      "\n",
      "\n",
      "Training Accuracy:  1.0\n",
      "Testing Accuracy:  0.7628672640133362\n",
      "\n",
      "\n",
      "\n",
      "Training F1-Score:  1.0\n",
      "Testing F1-Score:  0.658939822838061\n"
     ]
    },
    {
     "data": {
      "image/png": "[encoded data removed]",
      "text/plain": [
       "<Figure size 432x288 with 2 Axes>"
      ]
     },
     "metadata": {
      "needs_background": "light"
     },
     "output_type": "display_data"
    }
   ],
   "source": [
    "Tree_model = DecisionTreeClassifier(criterion='entropy')\n",
    "\n",
    "Tree_model.fit(X_train,y_train)\n",
    "eval_model(Tree_model,X_train,y_train,X_test,y_test)"
   ]
  },
  {
   "cell_type": "code",
   "execution_count": null,
   "metadata": {
    "hidden": true
   },
   "outputs": [],
   "source": []
  }
 ],
 "metadata": {
  "kernelspec": {
   "display_name": "Python [conda env:learn-env] *",
   "language": "python",
   "name": "conda-env-learn-env-py"
  },
  "language_info": {
   "codemirror_mode": {
    "name": "ipython",
    "version": 3
   },
   "file_extension": ".py",
   "mimetype": "text/x-python",
   "name": "python",
   "nbconvert_exporter": "python",
   "pygments_lexer": "ipython3",
   "version": "3.6.9"
  },
  "toc": {
   "base_numbering": 1,
   "nav_menu": {},
   "number_sections": true,
   "sideBar": true,
   "skip_h1_title": false,
   "title_cell": "Table of Contents",
   "title_sidebar": "Contents",
   "toc_cell": false,
   "toc_position": {
    "height": "calc(100% - 180px)",
    "left": "10px",
    "top": "150px",
    "width": "256px"
   },
   "toc_section_display": true,
   "toc_window_display": true
  },
  "varInspector": {
   "cols": {
    "lenName": 16,
    "lenType": 16,
    "lenVar": 40
   },
   "kernels_config": {
    "python": {
     "delete_cmd_postfix": "",
     "delete_cmd_prefix": "del ",
     "library": "var_list.py",
     "varRefreshCmd": "print(var_dic_list())"
    },
    "r": {
     "delete_cmd_postfix": ") ",
     "delete_cmd_prefix": "rm(",
     "library": "var_list.r",
     "varRefreshCmd": "cat(var_dic_list()) "
    }
   },
   "types_to_exclude": [
    "module",
    "function",
    "builtin_function_or_method",
    "instance",
    "_Feature"
   ],
   "window_display": false
  }
 },
 "nbformat": 4,
 "nbformat_minor": 2
}
